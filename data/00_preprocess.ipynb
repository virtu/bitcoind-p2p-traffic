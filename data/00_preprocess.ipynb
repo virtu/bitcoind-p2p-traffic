{
    "cells": [
        {
            "cell_type": "markdown",
            "metadata": {},
            "source": [
                "# Fetch"
            ]
        },
        {
            "cell_type": "markdown",
            "metadata": {},
            "source": [
                "### Fetch input data"
            ]
        },
        {
            "cell_type": "code",
            "execution_count": 1,
            "metadata": {},
            "outputs": [
                {
                    "name": "stdout",
                    "output_type": "stream",
                    "text": [
                        "      1,592,267   6%    3.41MB/s    0:00:00 (xfr#2, to-chk=0/23)\n",
                        "     85,777,113   4%   72.26MB/s    0:00:01 (xfr#2, to-chk=0/23)\n"
                    ]
                }
            ],
            "source": [
                "SOURCE_HOST=\"tau\"\n",
                "SOURCE_DIRS = [\"systemd/ip_accounting\", \"tracepoints/net\"]\n",
                "\n",
                "for dir in SOURCE_DIRS:\n",
                "    !mkdir -p $SOURCE_HOST/$dir\n",
                "    !rsync -az --info=progress2 $SOURCE_HOST:/home/nix-bitcoin-monitor/$dir/ $SOURCE_HOST/$dir"
            ]
        },
        {
            "cell_type": "markdown",
            "metadata": {},
            "source": [
                "# Extract"
            ]
        },
        {
            "cell_type": "markdown",
            "metadata": {},
            "source": [
                "### Load input data"
            ]
        },
        {
            "cell_type": "code",
            "execution_count": 2,
            "metadata": {},
            "outputs": [],
            "source": [
                "import os\n",
                "import glob\n",
                "import pandas as pd\n",
                "\n",
                "\n",
                "def read_csvs(directory: str) -> pd.DataFrame:\n",
                "    files = sorted(glob.glob(os.path.join(directory, \"*.csv\")))\n",
                "    df_list = [pd.read_csv(file, index_col=0, parse_dates=True) for file in files]\n",
                "    return pd.concat(df_list).sort_index()\n",
                "\n",
                "\n",
                "df_emp = read_csvs(f\"{SOURCE_HOST}/systemd/ip_accounting/\")\n",
                "df_tp = read_csvs(f\"{SOURCE_HOST}/tracepoints/net/\")"
            ]
        },
        {
            "cell_type": "markdown",
            "metadata": {},
            "source": [
                "# Transform\n",
                "\n",
                "First, data is cropped to when continuous measurement began.\n",
                "\n",
                "Next, unnecessary data is stripped:\n",
                "\n",
                "- Tracepoint data includes `peer_id`, `peer_conn_type`, `peer_addr`, `flow`\n",
                "(traffic directory, i.e. in- or outbound), `msg_type` and `size`. Of these, only\n",
                "`flow`, `msg_type` and `size` are retained in their original form. A new `ipv6`\n",
                "column is introduced to indicate whether a message was sent via IPv4 or IPv6,\n",
                "since the version affects IP header sizes used for the traffic estimate.\n",
                "\n",
                "- Systemd IP accounting data includes rows for `IPIngressPackets`,\n",
                "`IPEgressPackets`, `IPIngressBytes`, and `IPEgressBytes`. Packet data is\n",
                "discarded and byte data is converted from absolute to relative (i.e. from bytes\n",
                "since measurement was started to bytes since previous row/sample)."
            ]
        },
        {
            "cell_type": "code",
            "execution_count": null,
            "metadata": {},
            "outputs": [],
            "source": [
                "from pandarallel import pandarallel\n",
                "import numpy as np\n",
                "\n",
                "pandarallel.initialize(progress_bar=True)\n",
                "\n",
                "\n",
                "#\n",
                "# TODO: Remove inactive code once visualization with non-clean data works\n",
                "#\n",
                "# def filter_incomplete_days(df):\n",
                "#     \"\"\"Discard days that have less than 99.9% of expected samples.\"\"\"\n",
                "#     THRESHOLD = ((24 * 60 * 60) / 5) * 0.999\n",
                "#     samples_per_day = df.groupby(df.index.date).size()\n",
                "#     days_above_threshold = samples_per_day[samples_per_day > THRESHOLD].index\n",
                "#     filter_mask = np.in1d(df.index.date, days_above_threshold)\n",
                "#     df = df[filter_mask]\n",
                "#     return df\n",
                "\n",
                "\n",
                "# df_tp_t = filter_incomplete_days(df_tp)\n",
                "# df_emp_t = filter_incomplete_days(df_emp)\n",
                "\n",
                "# visualize\n",
                "# _ = df_emp.IPIngressPackets.plot()\n",
                "\n",
                "df_tp_t = df_tp.dropna()\n",
                "df_tp_t[\"ipv6\"] = df_tp_t[\"peer_addr\"].parallel_apply(\n",
                "    lambda x: True if \"[\" in x else False\n",
                ")\n",
                "df_tp_t = df_tp_t[[\"ipv6\", \"flow\", \"msg_type\", \"size\"]]\n",
                "\n",
                "df_emp_t = df_emp.dropna()\n",
                "df_emp_t = df_emp_t[[\"IPIngressBytes\", \"IPEgressBytes\"]]\n",
                "df_emp_t = df_emp_t.diff()[1:]"
            ]
        },
        {
            "cell_type": "markdown",
            "metadata": {},
            "source": [
                "# Load\n",
                "\n",
                "Store data as bz2-compressed CSV format."
            ]
        },
        {
            "cell_type": "code",
            "execution_count": 5,
            "metadata": {},
            "outputs": [],
            "source": [
                "df_tp_t.to_csv(\"tracepoints_preprocessed.csv.bz2\", compression=\"bz2\")\n",
                "df_emp_t.to_csv(\"systemd_preprocessed.csv.bz2\", compression=\"bz2\")"
            ]
        }
    ],
    "metadata": {
        "kernelspec": {
            "display_name": "Python 3.10.7 64-bit",
            "language": "python",
            "name": "python3"
        },
        "language_info": {
            "codemirror_mode": {
                "name": "ipython",
                "version": 3
            },
            "file_extension": ".py",
            "mimetype": "text/x-python",
            "name": "python",
            "nbconvert_exporter": "python",
            "pygments_lexer": "ipython3",
            "version": "3.11.9"
        },
        "orig_nbformat": 4,
        "vscode": {
            "interpreter": {
                "hash": "b0fa6594d8f4cbf19f97940f81e996739fb7646882a419484c72d19e05852a7e"
            }
        }
    },
    "nbformat": 4,
    "nbformat_minor": 2
}
