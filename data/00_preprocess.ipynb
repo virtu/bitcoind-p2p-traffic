{
    "cells": [
        {
            "cell_type": "markdown",
            "metadata": {},
            "source": [
                "# Extract"
            ]
        },
        {
            "cell_type": "markdown",
            "metadata": {},
            "source": [
                "### Load input data"
            ]
        },
        {
            "cell_type": "code",
            "execution_count": 1,
            "metadata": {},
            "outputs": [],
            "source": [
                "import pandas as pd\n",
                "\n",
                "df_tp = pd.read_csv(\"tracepoints_raw.csv\", index_col=0, parse_dates=True)\n",
                "df_sys = pd.read_csv(\"systemd_raw.csv\", index_col=0, parse_dates=True)"
            ]
        },
        {
            "cell_type": "markdown",
            "metadata": {},
            "source": [
                "# Transform\n",
                "\n",
                "First, data is cropped to when continuous measurement began.\n",
                "\n",
                "Next, unnecessary data is stripped:\n",
                "\n",
                "- Tracepoint data includes `peer_id`, `peer_conn_type`, `peer_addr`, `flow`\n",
                "(traffic directory, i.e. in- or outbound), `msg_type` and `size`. Of these, only\n",
                "`flow`, `msg_type` and `size` are retained in their original form. A new `ipv6`\n",
                "column is introduced to indicate whether a message was sent via IPv4 or IPv6,\n",
                "since the version affects IP header sizes used for the traffic estimate.\n",
                "\n",
                "- Systemd IP accounting data includes rows for `IPIngressPackets`,\n",
                "`IPEgressPackets`, `IPIngressBytes`, and `IPEgressBytes`. Packet data is\n",
                "discarded and byte data is converted from absolute to relative (i.e. from bytes\n",
                "since measurement was started to bytes since previous row/sample)."
            ]
        },
        {
            "cell_type": "markdown",
            "metadata": {},
            "source": [
                "### Incorporate below"
            ]
        },
        {
            "cell_type": "code",
            "execution_count": 2,
            "metadata": {},
            "outputs": [],
            "source": [
                "import numpy as np\n",
                "\n",
                "\n",
                "def filter_incomplete_days(df):\n",
                "    \"\"\"Discard days that have less than 99.9% of expected samples.\"\"\"\n",
                "    THRESHOLD = ((24 * 60 * 60) / 5) * 0.999\n",
                "    samples_per_day = df.groupby(df.index.date).size()\n",
                "    days_above_threshold = samples_per_day[samples_per_day > THRESHOLD].index\n",
                "    filter_mask = np.in1d(df.index.date, days_above_threshold)\n",
                "    df = df[filter_mask]\n",
                "    return df"
            ]
        },
        {
            "cell_type": "code",
            "execution_count": null,
            "metadata": {},
            "outputs": [],
            "source": [
                "from pandarallel import pandarallel\n",
                "import numpy as np\n",
                "\n",
                "pandarallel.initialize(progress_bar=True)\n",
                "\n",
                "\n",
                "def filter_incomplete_days(df):\n",
                "    \"\"\"Discard days that have less than 99.9% of expected samples.\"\"\"\n",
                "    THRESHOLD = ((24 * 60 * 60) / 5) * 0.999\n",
                "    samples_per_day = df.groupby(df.index.date).size()\n",
                "    days_above_threshold = samples_per_day[samples_per_day > THRESHOLD].index\n",
                "    filter_mask = np.in1d(df.index.date, days_above_threshold)\n",
                "    df = df[filter_mask]\n",
                "    return df\n",
                "\n",
                "\n",
                "df_tp_t = filter_incomplete_days(df_tp)\n",
                "df_sys_t = filter_incomplete_days(df_sys)\n",
                "\n",
                "# visualize\n",
                "# _ = df_sys.IPIngressPackets.plot()\n",
                "\n",
                "df_tp_t = df_tp_t.dropna()\n",
                "df_tp_t[\"ipv6\"] = df_tp_t[\"peer_addr\"].parallel_apply(\n",
                "    lambda x: True if \"[\" in x else False\n",
                ")\n",
                "df_tp_t = df_tp_t[[\"ipv6\", \"flow\", \"msg_type\", \"size\"]]\n",
                "\n",
                "df_sys_t = df_sys_t.dropna()\n",
                "df_sys_t = df_sys_t[[\"IPIngressBytes\", \"IPEgressBytes\"]]\n",
                "df_sys_t = df_sys_t.diff()[1:]"
            ]
        },
        {
            "cell_type": "markdown",
            "metadata": {},
            "source": [
                "# Load\n",
                "\n",
                "Store data as bz2-compressed CSV format."
            ]
        },
        {
            "cell_type": "code",
            "execution_count": 3,
            "metadata": {},
            "outputs": [],
            "source": [
                "df_tp_t.to_csv(\"tracepoints_preprocessed.csv.bz2\", compression=\"bz2\")\n",
                "df_sys_t.to_csv(\"systemd_preprocessed.csv.bz2\", compression=\"bz2\")"
            ]
        }
    ],
    "metadata": {
        "kernelspec": {
            "display_name": "Python 3.10.7 64-bit",
            "language": "python",
            "name": "python3"
        },
        "language_info": {
            "codemirror_mode": {
                "name": "ipython",
                "version": 3
            },
            "file_extension": ".py",
            "mimetype": "text/x-python",
            "name": "python",
            "nbconvert_exporter": "python",
            "pygments_lexer": "ipython3",
            "version": "3.11.9"
        },
        "orig_nbformat": 4,
        "vscode": {
            "interpreter": {
                "hash": "b0fa6594d8f4cbf19f97940f81e996739fb7646882a419484c72d19e05852a7e"
            }
        }
    },
    "nbformat": 4,
    "nbformat_minor": 2
}
