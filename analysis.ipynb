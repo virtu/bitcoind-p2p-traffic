{
 "cells": [
  {
   "cell_type": "markdown",
   "metadata": {},
   "source": [
    "### Load input data"
   ]
  },
  {
   "cell_type": "code",
   "execution_count": 1,
   "metadata": {},
   "outputs": [],
   "source": [
    "import pandas as pd\n",
    "\n",
    "data = [\"est_hourly\", \"est_daily\", \"emp_hourly\", \"emp_daily\"]\n",
    "dfs = {name: pd.read_csv(f\"data/data_{name}.csv.bz2\", index_col=0) for name in data}"
   ]
  },
  {
   "cell_type": "markdown",
   "metadata": {},
   "source": [
    "### Group message types with negligible contribution to network traffic into 'other' type\n",
    "\n",
    "- Add `inout` column, corresponding to the sum of the `in` and `out` flows\n",
    "- Group messages types whose maximum `inout` traffic contribution across the measurement period is below a certain threshold\n",
    "- Add normalized versions of the `in` and `out` columns"
   ]
  },
  {
   "cell_type": "code",
   "execution_count": 2,
   "metadata": {},
   "outputs": [],
   "source": [
    "def recategorize_by_threshold(df_orig: pd.DataFrame, threshold: float) -> pd.DataFrame:\n",
    "    \"\"\"\n",
    "    1. Compute the maximum 'inout' value for each msg_type across the entire dataset.\n",
    "    2. Determine which msg_types exceed the threshold (keep_types).\n",
    "    3. For sub-threshold msg_types, group by 'timestamp' to sum 'in', 'out', and 'inout'.\n",
    "    4. Return a new DataFrame with columns [timestamp, msg_type, in, out, inout].\n",
    "    \"\"\"\n",
    "    max_inout_by_type = df.groupby(\"msg_type\")[\"inout\"].max()\n",
    "    keep_types = max_inout_by_type[max_inout_by_type > threshold].index\n",
    "    df_keep = df[df[\"msg_type\"].isin(keep_types)].copy()\n",
    "    df_other = df[~df[\"msg_type\"].isin(keep_types)].copy()\n",
    "    df_keep.reset_index(inplace=True)\n",
    "    df_other.reset_index(inplace=True)\n",
    "    df_other_agg = df_other.groupby(\"timestamp\", as_index=False)[\n",
    "        [\"in\", \"out\", \"inout\"]\n",
    "    ].sum()\n",
    "    df_other_agg[\"msg_type\"] = \"other\"\n",
    "    result_df = pd.concat([df_keep, df_other_agg], ignore_index=True)\n",
    "    result_df.sort_values(by=[\"timestamp\", \"msg_type\"], inplace=True)\n",
    "    return result_df[[\"timestamp\", \"msg_type\", \"in\", \"out\", \"inout\"]]\n",
    "\n",
    "\n",
    "thresholds = {\n",
    "    \"est_daily\": 50_000_000,\n",
    "    \"est_hourly\": 2_000_000,\n",
    "}\n",
    "\n",
    "for name, threshold in thresholds.items():\n",
    "    df = dfs[name]\n",
    "    df[\"inout\"] = df[\"in\"] + df[\"out\"]\n",
    "    df = recategorize_by_threshold(df, threshold)\n",
    "    df[\"in_norm\"] = df[\"in\"] / df[\"inout\"]\n",
    "    df[\"out_norm\"] = df[\"out\"] / df[\"inout\"]\n",
    "    dfs[name] = df"
   ]
  },
  {
   "cell_type": "markdown",
   "metadata": {},
   "source": [
    "## TODO:\n",
    "- [ ] Validate outflow with new `nix-bitcoin-monitor` approach"
   ]
  },
  {
   "cell_type": "markdown",
   "metadata": {},
   "source": [
    "## Plot daily in (absolute)"
   ]
  },
  {
   "cell_type": "code",
   "execution_count": 5,
   "metadata": {},
   "outputs": [
    {
     "data": {
      "application/vnd.plotly.v1+json": {
       "config": {
        "plotlyServerURL": "https://plot.ly"
       },
       "data": [
        {
         "fillpattern": {
          "shape": ""
         },
         "hovertemplate": "Message Type=block<br>timestamp=%{x}<br>in=%{y}<extra></extra>",
         "legendgroup": "block",
         "line": {
          "color": "#636efa"
         },
         "marker": {
          "symbol": "circle"
         },
         "mode": "lines",
         "name": "block",
         "orientation": "v",
         "showlegend": true,
         "stackgroup": "1",
         "type": "scatter",
         "x": [
          "2025-01-22 00:00:00+00:00",
          "2025-01-23 00:00:00+00:00",
          "2025-01-28 00:00:00+00:00",
          "2025-02-01 00:00:00+00:00",
          "2025-02-02 00:00:00+00:00"
         ],
         "xaxis": "x",
         "y": [
          410614555657,
          248869754045,
          0,
          3987025,
          3618616
         ],
         "yaxis": "y"
        },
        {
         "fillpattern": {
          "shape": ""
         },
         "hovertemplate": "Message Type=getdata<br>timestamp=%{x}<br>in=%{y}<extra></extra>",
         "legendgroup": "getdata",
         "line": {
          "color": "#EF553B"
         },
         "marker": {
          "symbol": "circle"
         },
         "mode": "lines",
         "name": "getdata",
         "orientation": "v",
         "showlegend": true,
         "stackgroup": "1",
         "type": "scatter",
         "x": [
          "2025-01-22 00:00:00+00:00",
          "2025-01-23 00:00:00+00:00",
          "2025-01-24 00:00:00+00:00",
          "2025-01-25 00:00:00+00:00",
          "2025-01-26 00:00:00+00:00",
          "2025-01-27 00:00:00+00:00",
          "2025-01-28 00:00:00+00:00",
          "2025-01-29 00:00:00+00:00",
          "2025-01-30 00:00:00+00:00",
          "2025-01-31 00:00:00+00:00",
          "2025-02-01 00:00:00+00:00",
          "2025-02-02 00:00:00+00:00",
          "2025-02-03 00:00:00+00:00"
         ],
         "xaxis": "x",
         "y": [
          0,
          3563575,
          12173395,
          13006973,
          6209337,
          5954675,
          5534222,
          5424642,
          4539103,
          4579404,
          6600876,
          8231317,
          3275295
         ],
         "yaxis": "y"
        },
        {
         "fillpattern": {
          "shape": ""
         },
         "hovertemplate": "Message Type=headers<br>timestamp=%{x}<br>in=%{y}<extra></extra>",
         "legendgroup": "headers",
         "line": {
          "color": "#00cc96"
         },
         "marker": {
          "symbol": "circle"
         },
         "mode": "lines",
         "name": "headers",
         "orientation": "v",
         "showlegend": true,
         "stackgroup": "1",
         "type": "scatter",
         "x": [
          "2025-01-22 00:00:00+00:00",
          "2025-01-23 00:00:00+00:00",
          "2025-01-24 00:00:00+00:00",
          "2025-01-25 00:00:00+00:00",
          "2025-01-26 00:00:00+00:00",
          "2025-01-27 00:00:00+00:00",
          "2025-01-28 00:00:00+00:00",
          "2025-01-29 00:00:00+00:00",
          "2025-01-30 00:00:00+00:00",
          "2025-01-31 00:00:00+00:00",
          "2025-02-01 00:00:00+00:00",
          "2025-02-02 00:00:00+00:00",
          "2025-02-03 00:00:00+00:00"
         ],
         "xaxis": "x",
         "y": [
          113317849,
          8872030,
          3646959,
          8828015,
          2253127,
          87998,
          2930491,
          2304992,
          2311223,
          84958,
          2024262,
          2374956,
          50830
         ],
         "yaxis": "y"
        },
        {
         "fillpattern": {
          "shape": ""
         },
         "hovertemplate": "Message Type=inv<br>timestamp=%{x}<br>in=%{y}<extra></extra>",
         "legendgroup": "inv",
         "line": {
          "color": "#ab63fa"
         },
         "marker": {
          "symbol": "circle"
         },
         "mode": "lines",
         "name": "inv",
         "orientation": "v",
         "showlegend": true,
         "stackgroup": "1",
         "type": "scatter",
         "x": [
          "2025-01-22 00:00:00+00:00",
          "2025-01-23 00:00:00+00:00",
          "2025-01-24 00:00:00+00:00",
          "2025-01-25 00:00:00+00:00",
          "2025-01-26 00:00:00+00:00",
          "2025-01-27 00:00:00+00:00",
          "2025-01-28 00:00:00+00:00",
          "2025-01-29 00:00:00+00:00",
          "2025-01-30 00:00:00+00:00",
          "2025-01-31 00:00:00+00:00",
          "2025-02-01 00:00:00+00:00",
          "2025-02-02 00:00:00+00:00",
          "2025-02-03 00:00:00+00:00"
         ],
         "xaxis": "x",
         "y": [
          4780,
          34830534,
          50428733,
          43842829,
          38761765,
          45122584,
          47811276,
          45728274,
          45321783,
          44676675,
          45864237,
          50134744,
          24091307
         ],
         "yaxis": "y"
        },
        {
         "fillpattern": {
          "shape": ""
         },
         "hovertemplate": "Message Type=other<br>timestamp=%{x}<br>in=%{y}<extra></extra>",
         "legendgroup": "other",
         "line": {
          "color": "#FFA15A"
         },
         "marker": {
          "symbol": "circle"
         },
         "mode": "lines",
         "name": "other",
         "orientation": "v",
         "showlegend": true,
         "stackgroup": "1",
         "type": "scatter",
         "x": [
          "2025-01-22 00:00:00+00:00",
          "2025-01-23 00:00:00+00:00",
          "2025-01-24 00:00:00+00:00",
          "2025-01-25 00:00:00+00:00",
          "2025-01-26 00:00:00+00:00",
          "2025-01-27 00:00:00+00:00",
          "2025-01-28 00:00:00+00:00",
          "2025-01-29 00:00:00+00:00",
          "2025-01-30 00:00:00+00:00",
          "2025-01-31 00:00:00+00:00",
          "2025-02-01 00:00:00+00:00",
          "2025-02-02 00:00:00+00:00",
          "2025-02-03 00:00:00+00:00"
         ],
         "xaxis": "x",
         "y": [
          1277481,
          17412508,
          25565814,
          31070811,
          53472095,
          48431804,
          29162265,
          28638249,
          24619416,
          18709323,
          22283704,
          34526812,
          11280145
         ],
         "yaxis": "y"
        },
        {
         "fillpattern": {
          "shape": ""
         },
         "hovertemplate": "Message Type=tx<br>timestamp=%{x}<br>in=%{y}<extra></extra>",
         "legendgroup": "tx",
         "line": {
          "color": "#19d3f3"
         },
         "marker": {
          "symbol": "circle"
         },
         "mode": "lines",
         "name": "tx",
         "orientation": "v",
         "showlegend": true,
         "stackgroup": "1",
         "type": "scatter",
         "x": [
          "2025-01-23 00:00:00+00:00",
          "2025-01-24 00:00:00+00:00",
          "2025-01-25 00:00:00+00:00",
          "2025-01-26 00:00:00+00:00",
          "2025-01-27 00:00:00+00:00",
          "2025-01-28 00:00:00+00:00",
          "2025-01-29 00:00:00+00:00",
          "2025-01-30 00:00:00+00:00",
          "2025-01-31 00:00:00+00:00",
          "2025-02-01 00:00:00+00:00",
          "2025-02-02 00:00:00+00:00",
          "2025-02-03 00:00:00+00:00"
         ],
         "xaxis": "x",
         "y": [
          217001742,
          312472513,
          223387930,
          289492636,
          302660326,
          357600786,
          307048887,
          268455754,
          312892877,
          327575366,
          357831578,
          145690262
         ],
         "yaxis": "y"
        },
        {
         "line": {
          "color": "black",
          "width": 2
         },
         "mode": "lines",
         "name": "emp_daily",
         "type": "scatter",
         "x": [
          "2025-01-22 00:00:00+00:00",
          "2025-01-23 00:00:00+00:00",
          "2025-01-24 00:00:00+00:00",
          "2025-01-25 00:00:00+00:00",
          "2025-01-26 00:00:00+00:00",
          "2025-01-27 00:00:00+00:00",
          "2025-01-28 00:00:00+00:00",
          "2025-01-29 00:00:00+00:00",
          "2025-01-30 00:00:00+00:00",
          "2025-01-31 00:00:00+00:00",
          "2025-02-01 00:00:00+00:00",
          "2025-02-02 00:00:00+00:00",
          "2025-02-03 00:00:00+00:00"
         ],
         "y": [
          410699276288,
          249253426316,
          428332327,
          348672318,
          409759999,
          423069813,
          461584199,
          409576936,
          366251490,
          402177433,
          429701694,
          478063843,
          196266581
         ]
        }
       ],
       "layout": {
        "legend": {
         "orientation": "h",
         "title": {
          "text": "Message Type"
         },
         "tracegroupgap": 0,
         "y": 1.02,
         "yanchor": "bottom"
        },
        "template": {
         "data": {
          "bar": [
           {
            "error_x": {
             "color": "#2a3f5f"
            },
            "error_y": {
             "color": "#2a3f5f"
            },
            "marker": {
             "line": {
              "color": "#E5ECF6",
              "width": 0.5
             },
             "pattern": {
              "fillmode": "overlay",
              "size": 10,
              "solidity": 0.2
             }
            },
            "type": "bar"
           }
          ],
          "barpolar": [
           {
            "marker": {
             "line": {
              "color": "#E5ECF6",
              "width": 0.5
             },
             "pattern": {
              "fillmode": "overlay",
              "size": 10,
              "solidity": 0.2
             }
            },
            "type": "barpolar"
           }
          ],
          "carpet": [
           {
            "aaxis": {
             "endlinecolor": "#2a3f5f",
             "gridcolor": "white",
             "linecolor": "white",
             "minorgridcolor": "white",
             "startlinecolor": "#2a3f5f"
            },
            "baxis": {
             "endlinecolor": "#2a3f5f",
             "gridcolor": "white",
             "linecolor": "white",
             "minorgridcolor": "white",
             "startlinecolor": "#2a3f5f"
            },
            "type": "carpet"
           }
          ],
          "choropleth": [
           {
            "colorbar": {
             "outlinewidth": 0,
             "ticks": ""
            },
            "type": "choropleth"
           }
          ],
          "contour": [
           {
            "colorbar": {
             "outlinewidth": 0,
             "ticks": ""
            },
            "colorscale": [
             [
              0,
              "#0d0887"
             ],
             [
              0.1111111111111111,
              "#46039f"
             ],
             [
              0.2222222222222222,
              "#7201a8"
             ],
             [
              0.3333333333333333,
              "#9c179e"
             ],
             [
              0.4444444444444444,
              "#bd3786"
             ],
             [
              0.5555555555555556,
              "#d8576b"
             ],
             [
              0.6666666666666666,
              "#ed7953"
             ],
             [
              0.7777777777777778,
              "#fb9f3a"
             ],
             [
              0.8888888888888888,
              "#fdca26"
             ],
             [
              1,
              "#f0f921"
             ]
            ],
            "type": "contour"
           }
          ],
          "contourcarpet": [
           {
            "colorbar": {
             "outlinewidth": 0,
             "ticks": ""
            },
            "type": "contourcarpet"
           }
          ],
          "heatmap": [
           {
            "colorbar": {
             "outlinewidth": 0,
             "ticks": ""
            },
            "colorscale": [
             [
              0,
              "#0d0887"
             ],
             [
              0.1111111111111111,
              "#46039f"
             ],
             [
              0.2222222222222222,
              "#7201a8"
             ],
             [
              0.3333333333333333,
              "#9c179e"
             ],
             [
              0.4444444444444444,
              "#bd3786"
             ],
             [
              0.5555555555555556,
              "#d8576b"
             ],
             [
              0.6666666666666666,
              "#ed7953"
             ],
             [
              0.7777777777777778,
              "#fb9f3a"
             ],
             [
              0.8888888888888888,
              "#fdca26"
             ],
             [
              1,
              "#f0f921"
             ]
            ],
            "type": "heatmap"
           }
          ],
          "heatmapgl": [
           {
            "colorbar": {
             "outlinewidth": 0,
             "ticks": ""
            },
            "colorscale": [
             [
              0,
              "#0d0887"
             ],
             [
              0.1111111111111111,
              "#46039f"
             ],
             [
              0.2222222222222222,
              "#7201a8"
             ],
             [
              0.3333333333333333,
              "#9c179e"
             ],
             [
              0.4444444444444444,
              "#bd3786"
             ],
             [
              0.5555555555555556,
              "#d8576b"
             ],
             [
              0.6666666666666666,
              "#ed7953"
             ],
             [
              0.7777777777777778,
              "#fb9f3a"
             ],
             [
              0.8888888888888888,
              "#fdca26"
             ],
             [
              1,
              "#f0f921"
             ]
            ],
            "type": "heatmapgl"
           }
          ],
          "histogram": [
           {
            "marker": {
             "pattern": {
              "fillmode": "overlay",
              "size": 10,
              "solidity": 0.2
             }
            },
            "type": "histogram"
           }
          ],
          "histogram2d": [
           {
            "colorbar": {
             "outlinewidth": 0,
             "ticks": ""
            },
            "colorscale": [
             [
              0,
              "#0d0887"
             ],
             [
              0.1111111111111111,
              "#46039f"
             ],
             [
              0.2222222222222222,
              "#7201a8"
             ],
             [
              0.3333333333333333,
              "#9c179e"
             ],
             [
              0.4444444444444444,
              "#bd3786"
             ],
             [
              0.5555555555555556,
              "#d8576b"
             ],
             [
              0.6666666666666666,
              "#ed7953"
             ],
             [
              0.7777777777777778,
              "#fb9f3a"
             ],
             [
              0.8888888888888888,
              "#fdca26"
             ],
             [
              1,
              "#f0f921"
             ]
            ],
            "type": "histogram2d"
           }
          ],
          "histogram2dcontour": [
           {
            "colorbar": {
             "outlinewidth": 0,
             "ticks": ""
            },
            "colorscale": [
             [
              0,
              "#0d0887"
             ],
             [
              0.1111111111111111,
              "#46039f"
             ],
             [
              0.2222222222222222,
              "#7201a8"
             ],
             [
              0.3333333333333333,
              "#9c179e"
             ],
             [
              0.4444444444444444,
              "#bd3786"
             ],
             [
              0.5555555555555556,
              "#d8576b"
             ],
             [
              0.6666666666666666,
              "#ed7953"
             ],
             [
              0.7777777777777778,
              "#fb9f3a"
             ],
             [
              0.8888888888888888,
              "#fdca26"
             ],
             [
              1,
              "#f0f921"
             ]
            ],
            "type": "histogram2dcontour"
           }
          ],
          "mesh3d": [
           {
            "colorbar": {
             "outlinewidth": 0,
             "ticks": ""
            },
            "type": "mesh3d"
           }
          ],
          "parcoords": [
           {
            "line": {
             "colorbar": {
              "outlinewidth": 0,
              "ticks": ""
             }
            },
            "type": "parcoords"
           }
          ],
          "pie": [
           {
            "automargin": true,
            "type": "pie"
           }
          ],
          "scatter": [
           {
            "fillpattern": {
             "fillmode": "overlay",
             "size": 10,
             "solidity": 0.2
            },
            "type": "scatter"
           }
          ],
          "scatter3d": [
           {
            "line": {
             "colorbar": {
              "outlinewidth": 0,
              "ticks": ""
             }
            },
            "marker": {
             "colorbar": {
              "outlinewidth": 0,
              "ticks": ""
             }
            },
            "type": "scatter3d"
           }
          ],
          "scattercarpet": [
           {
            "marker": {
             "colorbar": {
              "outlinewidth": 0,
              "ticks": ""
             }
            },
            "type": "scattercarpet"
           }
          ],
          "scattergeo": [
           {
            "marker": {
             "colorbar": {
              "outlinewidth": 0,
              "ticks": ""
             }
            },
            "type": "scattergeo"
           }
          ],
          "scattergl": [
           {
            "marker": {
             "colorbar": {
              "outlinewidth": 0,
              "ticks": ""
             }
            },
            "type": "scattergl"
           }
          ],
          "scattermapbox": [
           {
            "marker": {
             "colorbar": {
              "outlinewidth": 0,
              "ticks": ""
             }
            },
            "type": "scattermapbox"
           }
          ],
          "scatterpolar": [
           {
            "marker": {
             "colorbar": {
              "outlinewidth": 0,
              "ticks": ""
             }
            },
            "type": "scatterpolar"
           }
          ],
          "scatterpolargl": [
           {
            "marker": {
             "colorbar": {
              "outlinewidth": 0,
              "ticks": ""
             }
            },
            "type": "scatterpolargl"
           }
          ],
          "scatterternary": [
           {
            "marker": {
             "colorbar": {
              "outlinewidth": 0,
              "ticks": ""
             }
            },
            "type": "scatterternary"
           }
          ],
          "surface": [
           {
            "colorbar": {
             "outlinewidth": 0,
             "ticks": ""
            },
            "colorscale": [
             [
              0,
              "#0d0887"
             ],
             [
              0.1111111111111111,
              "#46039f"
             ],
             [
              0.2222222222222222,
              "#7201a8"
             ],
             [
              0.3333333333333333,
              "#9c179e"
             ],
             [
              0.4444444444444444,
              "#bd3786"
             ],
             [
              0.5555555555555556,
              "#d8576b"
             ],
             [
              0.6666666666666666,
              "#ed7953"
             ],
             [
              0.7777777777777778,
              "#fb9f3a"
             ],
             [
              0.8888888888888888,
              "#fdca26"
             ],
             [
              1,
              "#f0f921"
             ]
            ],
            "type": "surface"
           }
          ],
          "table": [
           {
            "cells": {
             "fill": {
              "color": "#EBF0F8"
             },
             "line": {
              "color": "white"
             }
            },
            "header": {
             "fill": {
              "color": "#C8D4E3"
             },
             "line": {
              "color": "white"
             }
            },
            "type": "table"
           }
          ]
         },
         "layout": {
          "annotationdefaults": {
           "arrowcolor": "#2a3f5f",
           "arrowhead": 0,
           "arrowwidth": 1
          },
          "autotypenumbers": "strict",
          "coloraxis": {
           "colorbar": {
            "outlinewidth": 0,
            "ticks": ""
           }
          },
          "colorscale": {
           "diverging": [
            [
             0,
             "#8e0152"
            ],
            [
             0.1,
             "#c51b7d"
            ],
            [
             0.2,
             "#de77ae"
            ],
            [
             0.3,
             "#f1b6da"
            ],
            [
             0.4,
             "#fde0ef"
            ],
            [
             0.5,
             "#f7f7f7"
            ],
            [
             0.6,
             "#e6f5d0"
            ],
            [
             0.7,
             "#b8e186"
            ],
            [
             0.8,
             "#7fbc41"
            ],
            [
             0.9,
             "#4d9221"
            ],
            [
             1,
             "#276419"
            ]
           ],
           "sequential": [
            [
             0,
             "#0d0887"
            ],
            [
             0.1111111111111111,
             "#46039f"
            ],
            [
             0.2222222222222222,
             "#7201a8"
            ],
            [
             0.3333333333333333,
             "#9c179e"
            ],
            [
             0.4444444444444444,
             "#bd3786"
            ],
            [
             0.5555555555555556,
             "#d8576b"
            ],
            [
             0.6666666666666666,
             "#ed7953"
            ],
            [
             0.7777777777777778,
             "#fb9f3a"
            ],
            [
             0.8888888888888888,
             "#fdca26"
            ],
            [
             1,
             "#f0f921"
            ]
           ],
           "sequentialminus": [
            [
             0,
             "#0d0887"
            ],
            [
             0.1111111111111111,
             "#46039f"
            ],
            [
             0.2222222222222222,
             "#7201a8"
            ],
            [
             0.3333333333333333,
             "#9c179e"
            ],
            [
             0.4444444444444444,
             "#bd3786"
            ],
            [
             0.5555555555555556,
             "#d8576b"
            ],
            [
             0.6666666666666666,
             "#ed7953"
            ],
            [
             0.7777777777777778,
             "#fb9f3a"
            ],
            [
             0.8888888888888888,
             "#fdca26"
            ],
            [
             1,
             "#f0f921"
            ]
           ]
          },
          "colorway": [
           "#636efa",
           "#EF553B",
           "#00cc96",
           "#ab63fa",
           "#FFA15A",
           "#19d3f3",
           "#FF6692",
           "#B6E880",
           "#FF97FF",
           "#FECB52"
          ],
          "font": {
           "color": "#2a3f5f"
          },
          "geo": {
           "bgcolor": "white",
           "lakecolor": "white",
           "landcolor": "#E5ECF6",
           "showlakes": true,
           "showland": true,
           "subunitcolor": "white"
          },
          "hoverlabel": {
           "align": "left"
          },
          "hovermode": "closest",
          "mapbox": {
           "style": "light"
          },
          "paper_bgcolor": "white",
          "plot_bgcolor": "#E5ECF6",
          "polar": {
           "angularaxis": {
            "gridcolor": "white",
            "linecolor": "white",
            "ticks": ""
           },
           "bgcolor": "#E5ECF6",
           "radialaxis": {
            "gridcolor": "white",
            "linecolor": "white",
            "ticks": ""
           }
          },
          "scene": {
           "xaxis": {
            "backgroundcolor": "#E5ECF6",
            "gridcolor": "white",
            "gridwidth": 2,
            "linecolor": "white",
            "showbackground": true,
            "ticks": "",
            "zerolinecolor": "white"
           },
           "yaxis": {
            "backgroundcolor": "#E5ECF6",
            "gridcolor": "white",
            "gridwidth": 2,
            "linecolor": "white",
            "showbackground": true,
            "ticks": "",
            "zerolinecolor": "white"
           },
           "zaxis": {
            "backgroundcolor": "#E5ECF6",
            "gridcolor": "white",
            "gridwidth": 2,
            "linecolor": "white",
            "showbackground": true,
            "ticks": "",
            "zerolinecolor": "white"
           }
          },
          "shapedefaults": {
           "line": {
            "color": "#2a3f5f"
           }
          },
          "ternary": {
           "aaxis": {
            "gridcolor": "white",
            "linecolor": "white",
            "ticks": ""
           },
           "baxis": {
            "gridcolor": "white",
            "linecolor": "white",
            "ticks": ""
           },
           "bgcolor": "#E5ECF6",
           "caxis": {
            "gridcolor": "white",
            "linecolor": "white",
            "ticks": ""
           }
          },
          "title": {
           "x": 0.05
          },
          "xaxis": {
           "automargin": true,
           "gridcolor": "white",
           "linecolor": "white",
           "ticks": "",
           "title": {
            "standoff": 15
           },
           "zerolinecolor": "white",
           "zerolinewidth": 2
          },
          "yaxis": {
           "automargin": true,
           "gridcolor": "white",
           "linecolor": "white",
           "ticks": "",
           "title": {
            "standoff": 15
           },
           "zerolinecolor": "white",
           "zerolinewidth": 2
          }
         }
        },
        "title": {
         "text": "Stacked Area Chart of net_size over Time by msg_type"
        },
        "xaxis": {
         "anchor": "y",
         "domain": [
          0,
          1
         ],
         "title": {
          "text": "Time"
         }
        },
        "yaxis": {
         "anchor": "x",
         "domain": [
          0,
          1
         ],
         "tickformat": ".2s",
         "ticksuffix": "B",
         "title": {
          "text": "Net Size"
         }
        }
       }
      }
     },
     "metadata": {},
     "output_type": "display_data"
    }
   ],
   "source": [
    "import plotly.express as px\n",
    "import plotly.graph_objects as go\n",
    "\n",
    "fig = px.area(\n",
    "    dfs[\"est_daily\"],\n",
    "    x=\"timestamp\",\n",
    "    y=\"in\",\n",
    "    color=\"msg_type\",\n",
    "    title=\"Stacked Area Chart of net_size over Time by msg_type\",\n",
    "    labels={\"net_size\": \"Net Size\", \"hour_groups\": \"Time\", \"msg_type\": \"Message Type\"},\n",
    ")\n",
    "\n",
    "fig.add_trace(\n",
    "    go.Scatter(\n",
    "        x=dfs[\"emp_daily\"].index,\n",
    "        y=dfs[\"emp_daily\"][\"in\"],\n",
    "        mode=\"lines\",\n",
    "        name=\"emp_daily\",\n",
    "        line=dict(color=\"black\", width=2),\n",
    "    )\n",
    ")\n",
    "\n",
    "fig.update_layout(\n",
    "    xaxis_title=\"Time\",\n",
    "    yaxis_title=\"Net Size\",\n",
    "    legend_title=\"Message Type\",\n",
    "    legend=dict(\n",
    "        orientation=\"h\",\n",
    "        yanchor=\"bottom\",\n",
    "        y=1.02,\n",
    "    ),\n",
    ")\n",
    "fig.update_yaxes(tickformat=\".2s\", ticksuffix=\"B\")\n",
    "fig.show()"
   ]
  },
  {
   "cell_type": "markdown",
   "metadata": {},
   "source": [
    "## Plot out (absolute)"
   ]
  },
  {
   "cell_type": "code",
   "execution_count": 6,
   "metadata": {},
   "outputs": [
    {
     "data": {
      "application/vnd.plotly.v1+json": {
       "config": {
        "plotlyServerURL": "https://plot.ly"
       },
       "data": [
        {
         "fillpattern": {
          "shape": ""
         },
         "hovertemplate": "Message Type=block<br>timestamp=%{x}<br>out=%{y}<extra></extra>",
         "legendgroup": "block",
         "line": {
          "color": "#636efa"
         },
         "marker": {
          "symbol": "circle"
         },
         "mode": "lines",
         "name": "block",
         "orientation": "v",
         "showlegend": true,
         "stackgroup": "1",
         "type": "scatter",
         "x": [
          "2025-01-22 00:00:00+00:00",
          "2025-01-23 00:00:00+00:00",
          "2025-01-28 00:00:00+00:00",
          "2025-02-01 00:00:00+00:00",
          "2025-02-02 00:00:00+00:00"
         ],
         "xaxis": "x",
         "y": [
          0,
          0,
          1113644,
          0,
          0
         ],
         "yaxis": "y"
        },
        {
         "fillpattern": {
          "shape": ""
         },
         "hovertemplate": "Message Type=getdata<br>timestamp=%{x}<br>out=%{y}<extra></extra>",
         "legendgroup": "getdata",
         "line": {
          "color": "#EF553B"
         },
         "marker": {
          "symbol": "circle"
         },
         "mode": "lines",
         "name": "getdata",
         "orientation": "v",
         "showlegend": true,
         "stackgroup": "1",
         "type": "scatter",
         "x": [
          "2025-01-22 00:00:00+00:00",
          "2025-01-23 00:00:00+00:00",
          "2025-01-24 00:00:00+00:00",
          "2025-01-25 00:00:00+00:00",
          "2025-01-26 00:00:00+00:00",
          "2025-01-27 00:00:00+00:00",
          "2025-01-28 00:00:00+00:00",
          "2025-01-29 00:00:00+00:00",
          "2025-01-30 00:00:00+00:00",
          "2025-01-31 00:00:00+00:00",
          "2025-02-01 00:00:00+00:00",
          "2025-02-02 00:00:00+00:00",
          "2025-02-03 00:00:00+00:00"
         ],
         "xaxis": "x",
         "y": [
          88170510,
          33616063,
          21907411,
          17876886,
          17255028,
          18976967,
          19571742,
          18417588,
          17936900,
          17868450,
          18634520,
          20443352,
          9838346
         ],
         "yaxis": "y"
        },
        {
         "fillpattern": {
          "shape": ""
         },
         "hovertemplate": "Message Type=headers<br>timestamp=%{x}<br>out=%{y}<extra></extra>",
         "legendgroup": "headers",
         "line": {
          "color": "#00cc96"
         },
         "marker": {
          "symbol": "circle"
         },
         "mode": "lines",
         "name": "headers",
         "orientation": "v",
         "showlegend": true,
         "stackgroup": "1",
         "type": "scatter",
         "x": [
          "2025-01-22 00:00:00+00:00",
          "2025-01-23 00:00:00+00:00",
          "2025-01-24 00:00:00+00:00",
          "2025-01-25 00:00:00+00:00",
          "2025-01-26 00:00:00+00:00",
          "2025-01-27 00:00:00+00:00",
          "2025-01-28 00:00:00+00:00",
          "2025-01-29 00:00:00+00:00",
          "2025-01-30 00:00:00+00:00",
          "2025-01-31 00:00:00+00:00",
          "2025-02-01 00:00:00+00:00",
          "2025-02-02 00:00:00+00:00",
          "2025-02-03 00:00:00+00:00"
         ],
         "xaxis": "x",
         "y": [
          3009,
          113803,
          22010760,
          171800,
          11255088,
          184108,
          11426885,
          14323232,
          11578520,
          152238,
          11813827,
          11790358,
          87354
         ],
         "yaxis": "y"
        },
        {
         "fillpattern": {
          "shape": ""
         },
         "hovertemplate": "Message Type=inv<br>timestamp=%{x}<br>out=%{y}<extra></extra>",
         "legendgroup": "inv",
         "line": {
          "color": "#ab63fa"
         },
         "marker": {
          "symbol": "circle"
         },
         "mode": "lines",
         "name": "inv",
         "orientation": "v",
         "showlegend": true,
         "stackgroup": "1",
         "type": "scatter",
         "x": [
          "2025-01-22 00:00:00+00:00",
          "2025-01-23 00:00:00+00:00",
          "2025-01-24 00:00:00+00:00",
          "2025-01-25 00:00:00+00:00",
          "2025-01-26 00:00:00+00:00",
          "2025-01-27 00:00:00+00:00",
          "2025-01-28 00:00:00+00:00",
          "2025-01-29 00:00:00+00:00",
          "2025-01-30 00:00:00+00:00",
          "2025-01-31 00:00:00+00:00",
          "2025-02-01 00:00:00+00:00",
          "2025-02-02 00:00:00+00:00",
          "2025-02-03 00:00:00+00:00"
         ],
         "xaxis": "x",
         "y": [
          0,
          57829884,
          86533809,
          76153675,
          64758030,
          78402336,
          82763813,
          76289299,
          74534557,
          73256021,
          80339145,
          89149566,
          40893771
         ],
         "yaxis": "y"
        },
        {
         "fillpattern": {
          "shape": ""
         },
         "hovertemplate": "Message Type=other<br>timestamp=%{x}<br>out=%{y}<extra></extra>",
         "legendgroup": "other",
         "line": {
          "color": "#FFA15A"
         },
         "marker": {
          "symbol": "circle"
         },
         "mode": "lines",
         "name": "other",
         "orientation": "v",
         "showlegend": true,
         "stackgroup": "1",
         "type": "scatter",
         "x": [
          "2025-01-22 00:00:00+00:00",
          "2025-01-23 00:00:00+00:00",
          "2025-01-24 00:00:00+00:00",
          "2025-01-25 00:00:00+00:00",
          "2025-01-26 00:00:00+00:00",
          "2025-01-27 00:00:00+00:00",
          "2025-01-28 00:00:00+00:00",
          "2025-01-29 00:00:00+00:00",
          "2025-01-30 00:00:00+00:00",
          "2025-01-31 00:00:00+00:00",
          "2025-02-01 00:00:00+00:00",
          "2025-02-02 00:00:00+00:00",
          "2025-02-03 00:00:00+00:00"
         ],
         "xaxis": "x",
         "y": [
          1183077,
          4533702,
          2824736,
          2745562,
          2793940,
          2687504,
          2783644,
          2751134,
          2717763,
          2720780,
          3025272,
          2955014,
          1395192
         ],
         "yaxis": "y"
        },
        {
         "fillpattern": {
          "shape": ""
         },
         "hovertemplate": "Message Type=tx<br>timestamp=%{x}<br>out=%{y}<extra></extra>",
         "legendgroup": "tx",
         "line": {
          "color": "#19d3f3"
         },
         "marker": {
          "symbol": "circle"
         },
         "mode": "lines",
         "name": "tx",
         "orientation": "v",
         "showlegend": true,
         "stackgroup": "1",
         "type": "scatter",
         "x": [
          "2025-01-23 00:00:00+00:00",
          "2025-01-24 00:00:00+00:00",
          "2025-01-25 00:00:00+00:00",
          "2025-01-26 00:00:00+00:00",
          "2025-01-27 00:00:00+00:00",
          "2025-01-28 00:00:00+00:00",
          "2025-01-29 00:00:00+00:00",
          "2025-01-30 00:00:00+00:00",
          "2025-01-31 00:00:00+00:00",
          "2025-02-01 00:00:00+00:00",
          "2025-02-02 00:00:00+00:00",
          "2025-02-03 00:00:00+00:00"
         ],
         "xaxis": "x",
         "y": [
          37720621,
          112068552,
          100953725,
          59204734,
          87278410,
          96158844,
          77032096,
          63831855,
          56203747,
          89331936,
          95946648,
          52830572
         ],
         "yaxis": "y"
        },
        {
         "line": {
          "color": "black",
          "width": 2
         },
         "mode": "lines",
         "name": "emp_daily",
         "type": "scatter",
         "x": [
          "2025-01-22 00:00:00+00:00",
          "2025-01-23 00:00:00+00:00",
          "2025-01-24 00:00:00+00:00",
          "2025-01-25 00:00:00+00:00",
          "2025-01-26 00:00:00+00:00",
          "2025-01-27 00:00:00+00:00",
          "2025-01-28 00:00:00+00:00",
          "2025-01-29 00:00:00+00:00",
          "2025-01-30 00:00:00+00:00",
          "2025-01-31 00:00:00+00:00",
          "2025-02-01 00:00:00+00:00",
          "2025-02-02 00:00:00+00:00",
          "2025-02-03 00:00:00+00:00"
         ],
         "y": [
          4159172666,
          2389922496,
          263730602,
          217543569,
          173218424,
          205597017,
          231108457,
          205458073,
          187277323,
          167366501,
          219771643,
          238119095,
          113642099
         ]
        }
       ],
       "layout": {
        "legend": {
         "orientation": "h",
         "title": {
          "text": "Message Type"
         },
         "tracegroupgap": 0,
         "y": 1.02,
         "yanchor": "bottom"
        },
        "template": {
         "data": {
          "bar": [
           {
            "error_x": {
             "color": "#2a3f5f"
            },
            "error_y": {
             "color": "#2a3f5f"
            },
            "marker": {
             "line": {
              "color": "#E5ECF6",
              "width": 0.5
             },
             "pattern": {
              "fillmode": "overlay",
              "size": 10,
              "solidity": 0.2
             }
            },
            "type": "bar"
           }
          ],
          "barpolar": [
           {
            "marker": {
             "line": {
              "color": "#E5ECF6",
              "width": 0.5
             },
             "pattern": {
              "fillmode": "overlay",
              "size": 10,
              "solidity": 0.2
             }
            },
            "type": "barpolar"
           }
          ],
          "carpet": [
           {
            "aaxis": {
             "endlinecolor": "#2a3f5f",
             "gridcolor": "white",
             "linecolor": "white",
             "minorgridcolor": "white",
             "startlinecolor": "#2a3f5f"
            },
            "baxis": {
             "endlinecolor": "#2a3f5f",
             "gridcolor": "white",
             "linecolor": "white",
             "minorgridcolor": "white",
             "startlinecolor": "#2a3f5f"
            },
            "type": "carpet"
           }
          ],
          "choropleth": [
           {
            "colorbar": {
             "outlinewidth": 0,
             "ticks": ""
            },
            "type": "choropleth"
           }
          ],
          "contour": [
           {
            "colorbar": {
             "outlinewidth": 0,
             "ticks": ""
            },
            "colorscale": [
             [
              0,
              "#0d0887"
             ],
             [
              0.1111111111111111,
              "#46039f"
             ],
             [
              0.2222222222222222,
              "#7201a8"
             ],
             [
              0.3333333333333333,
              "#9c179e"
             ],
             [
              0.4444444444444444,
              "#bd3786"
             ],
             [
              0.5555555555555556,
              "#d8576b"
             ],
             [
              0.6666666666666666,
              "#ed7953"
             ],
             [
              0.7777777777777778,
              "#fb9f3a"
             ],
             [
              0.8888888888888888,
              "#fdca26"
             ],
             [
              1,
              "#f0f921"
             ]
            ],
            "type": "contour"
           }
          ],
          "contourcarpet": [
           {
            "colorbar": {
             "outlinewidth": 0,
             "ticks": ""
            },
            "type": "contourcarpet"
           }
          ],
          "heatmap": [
           {
            "colorbar": {
             "outlinewidth": 0,
             "ticks": ""
            },
            "colorscale": [
             [
              0,
              "#0d0887"
             ],
             [
              0.1111111111111111,
              "#46039f"
             ],
             [
              0.2222222222222222,
              "#7201a8"
             ],
             [
              0.3333333333333333,
              "#9c179e"
             ],
             [
              0.4444444444444444,
              "#bd3786"
             ],
             [
              0.5555555555555556,
              "#d8576b"
             ],
             [
              0.6666666666666666,
              "#ed7953"
             ],
             [
              0.7777777777777778,
              "#fb9f3a"
             ],
             [
              0.8888888888888888,
              "#fdca26"
             ],
             [
              1,
              "#f0f921"
             ]
            ],
            "type": "heatmap"
           }
          ],
          "heatmapgl": [
           {
            "colorbar": {
             "outlinewidth": 0,
             "ticks": ""
            },
            "colorscale": [
             [
              0,
              "#0d0887"
             ],
             [
              0.1111111111111111,
              "#46039f"
             ],
             [
              0.2222222222222222,
              "#7201a8"
             ],
             [
              0.3333333333333333,
              "#9c179e"
             ],
             [
              0.4444444444444444,
              "#bd3786"
             ],
             [
              0.5555555555555556,
              "#d8576b"
             ],
             [
              0.6666666666666666,
              "#ed7953"
             ],
             [
              0.7777777777777778,
              "#fb9f3a"
             ],
             [
              0.8888888888888888,
              "#fdca26"
             ],
             [
              1,
              "#f0f921"
             ]
            ],
            "type": "heatmapgl"
           }
          ],
          "histogram": [
           {
            "marker": {
             "pattern": {
              "fillmode": "overlay",
              "size": 10,
              "solidity": 0.2
             }
            },
            "type": "histogram"
           }
          ],
          "histogram2d": [
           {
            "colorbar": {
             "outlinewidth": 0,
             "ticks": ""
            },
            "colorscale": [
             [
              0,
              "#0d0887"
             ],
             [
              0.1111111111111111,
              "#46039f"
             ],
             [
              0.2222222222222222,
              "#7201a8"
             ],
             [
              0.3333333333333333,
              "#9c179e"
             ],
             [
              0.4444444444444444,
              "#bd3786"
             ],
             [
              0.5555555555555556,
              "#d8576b"
             ],
             [
              0.6666666666666666,
              "#ed7953"
             ],
             [
              0.7777777777777778,
              "#fb9f3a"
             ],
             [
              0.8888888888888888,
              "#fdca26"
             ],
             [
              1,
              "#f0f921"
             ]
            ],
            "type": "histogram2d"
           }
          ],
          "histogram2dcontour": [
           {
            "colorbar": {
             "outlinewidth": 0,
             "ticks": ""
            },
            "colorscale": [
             [
              0,
              "#0d0887"
             ],
             [
              0.1111111111111111,
              "#46039f"
             ],
             [
              0.2222222222222222,
              "#7201a8"
             ],
             [
              0.3333333333333333,
              "#9c179e"
             ],
             [
              0.4444444444444444,
              "#bd3786"
             ],
             [
              0.5555555555555556,
              "#d8576b"
             ],
             [
              0.6666666666666666,
              "#ed7953"
             ],
             [
              0.7777777777777778,
              "#fb9f3a"
             ],
             [
              0.8888888888888888,
              "#fdca26"
             ],
             [
              1,
              "#f0f921"
             ]
            ],
            "type": "histogram2dcontour"
           }
          ],
          "mesh3d": [
           {
            "colorbar": {
             "outlinewidth": 0,
             "ticks": ""
            },
            "type": "mesh3d"
           }
          ],
          "parcoords": [
           {
            "line": {
             "colorbar": {
              "outlinewidth": 0,
              "ticks": ""
             }
            },
            "type": "parcoords"
           }
          ],
          "pie": [
           {
            "automargin": true,
            "type": "pie"
           }
          ],
          "scatter": [
           {
            "fillpattern": {
             "fillmode": "overlay",
             "size": 10,
             "solidity": 0.2
            },
            "type": "scatter"
           }
          ],
          "scatter3d": [
           {
            "line": {
             "colorbar": {
              "outlinewidth": 0,
              "ticks": ""
             }
            },
            "marker": {
             "colorbar": {
              "outlinewidth": 0,
              "ticks": ""
             }
            },
            "type": "scatter3d"
           }
          ],
          "scattercarpet": [
           {
            "marker": {
             "colorbar": {
              "outlinewidth": 0,
              "ticks": ""
             }
            },
            "type": "scattercarpet"
           }
          ],
          "scattergeo": [
           {
            "marker": {
             "colorbar": {
              "outlinewidth": 0,
              "ticks": ""
             }
            },
            "type": "scattergeo"
           }
          ],
          "scattergl": [
           {
            "marker": {
             "colorbar": {
              "outlinewidth": 0,
              "ticks": ""
             }
            },
            "type": "scattergl"
           }
          ],
          "scattermapbox": [
           {
            "marker": {
             "colorbar": {
              "outlinewidth": 0,
              "ticks": ""
             }
            },
            "type": "scattermapbox"
           }
          ],
          "scatterpolar": [
           {
            "marker": {
             "colorbar": {
              "outlinewidth": 0,
              "ticks": ""
             }
            },
            "type": "scatterpolar"
           }
          ],
          "scatterpolargl": [
           {
            "marker": {
             "colorbar": {
              "outlinewidth": 0,
              "ticks": ""
             }
            },
            "type": "scatterpolargl"
           }
          ],
          "scatterternary": [
           {
            "marker": {
             "colorbar": {
              "outlinewidth": 0,
              "ticks": ""
             }
            },
            "type": "scatterternary"
           }
          ],
          "surface": [
           {
            "colorbar": {
             "outlinewidth": 0,
             "ticks": ""
            },
            "colorscale": [
             [
              0,
              "#0d0887"
             ],
             [
              0.1111111111111111,
              "#46039f"
             ],
             [
              0.2222222222222222,
              "#7201a8"
             ],
             [
              0.3333333333333333,
              "#9c179e"
             ],
             [
              0.4444444444444444,
              "#bd3786"
             ],
             [
              0.5555555555555556,
              "#d8576b"
             ],
             [
              0.6666666666666666,
              "#ed7953"
             ],
             [
              0.7777777777777778,
              "#fb9f3a"
             ],
             [
              0.8888888888888888,
              "#fdca26"
             ],
             [
              1,
              "#f0f921"
             ]
            ],
            "type": "surface"
           }
          ],
          "table": [
           {
            "cells": {
             "fill": {
              "color": "#EBF0F8"
             },
             "line": {
              "color": "white"
             }
            },
            "header": {
             "fill": {
              "color": "#C8D4E3"
             },
             "line": {
              "color": "white"
             }
            },
            "type": "table"
           }
          ]
         },
         "layout": {
          "annotationdefaults": {
           "arrowcolor": "#2a3f5f",
           "arrowhead": 0,
           "arrowwidth": 1
          },
          "autotypenumbers": "strict",
          "coloraxis": {
           "colorbar": {
            "outlinewidth": 0,
            "ticks": ""
           }
          },
          "colorscale": {
           "diverging": [
            [
             0,
             "#8e0152"
            ],
            [
             0.1,
             "#c51b7d"
            ],
            [
             0.2,
             "#de77ae"
            ],
            [
             0.3,
             "#f1b6da"
            ],
            [
             0.4,
             "#fde0ef"
            ],
            [
             0.5,
             "#f7f7f7"
            ],
            [
             0.6,
             "#e6f5d0"
            ],
            [
             0.7,
             "#b8e186"
            ],
            [
             0.8,
             "#7fbc41"
            ],
            [
             0.9,
             "#4d9221"
            ],
            [
             1,
             "#276419"
            ]
           ],
           "sequential": [
            [
             0,
             "#0d0887"
            ],
            [
             0.1111111111111111,
             "#46039f"
            ],
            [
             0.2222222222222222,
             "#7201a8"
            ],
            [
             0.3333333333333333,
             "#9c179e"
            ],
            [
             0.4444444444444444,
             "#bd3786"
            ],
            [
             0.5555555555555556,
             "#d8576b"
            ],
            [
             0.6666666666666666,
             "#ed7953"
            ],
            [
             0.7777777777777778,
             "#fb9f3a"
            ],
            [
             0.8888888888888888,
             "#fdca26"
            ],
            [
             1,
             "#f0f921"
            ]
           ],
           "sequentialminus": [
            [
             0,
             "#0d0887"
            ],
            [
             0.1111111111111111,
             "#46039f"
            ],
            [
             0.2222222222222222,
             "#7201a8"
            ],
            [
             0.3333333333333333,
             "#9c179e"
            ],
            [
             0.4444444444444444,
             "#bd3786"
            ],
            [
             0.5555555555555556,
             "#d8576b"
            ],
            [
             0.6666666666666666,
             "#ed7953"
            ],
            [
             0.7777777777777778,
             "#fb9f3a"
            ],
            [
             0.8888888888888888,
             "#fdca26"
            ],
            [
             1,
             "#f0f921"
            ]
           ]
          },
          "colorway": [
           "#636efa",
           "#EF553B",
           "#00cc96",
           "#ab63fa",
           "#FFA15A",
           "#19d3f3",
           "#FF6692",
           "#B6E880",
           "#FF97FF",
           "#FECB52"
          ],
          "font": {
           "color": "#2a3f5f"
          },
          "geo": {
           "bgcolor": "white",
           "lakecolor": "white",
           "landcolor": "#E5ECF6",
           "showlakes": true,
           "showland": true,
           "subunitcolor": "white"
          },
          "hoverlabel": {
           "align": "left"
          },
          "hovermode": "closest",
          "mapbox": {
           "style": "light"
          },
          "paper_bgcolor": "white",
          "plot_bgcolor": "#E5ECF6",
          "polar": {
           "angularaxis": {
            "gridcolor": "white",
            "linecolor": "white",
            "ticks": ""
           },
           "bgcolor": "#E5ECF6",
           "radialaxis": {
            "gridcolor": "white",
            "linecolor": "white",
            "ticks": ""
           }
          },
          "scene": {
           "xaxis": {
            "backgroundcolor": "#E5ECF6",
            "gridcolor": "white",
            "gridwidth": 2,
            "linecolor": "white",
            "showbackground": true,
            "ticks": "",
            "zerolinecolor": "white"
           },
           "yaxis": {
            "backgroundcolor": "#E5ECF6",
            "gridcolor": "white",
            "gridwidth": 2,
            "linecolor": "white",
            "showbackground": true,
            "ticks": "",
            "zerolinecolor": "white"
           },
           "zaxis": {
            "backgroundcolor": "#E5ECF6",
            "gridcolor": "white",
            "gridwidth": 2,
            "linecolor": "white",
            "showbackground": true,
            "ticks": "",
            "zerolinecolor": "white"
           }
          },
          "shapedefaults": {
           "line": {
            "color": "#2a3f5f"
           }
          },
          "ternary": {
           "aaxis": {
            "gridcolor": "white",
            "linecolor": "white",
            "ticks": ""
           },
           "baxis": {
            "gridcolor": "white",
            "linecolor": "white",
            "ticks": ""
           },
           "bgcolor": "#E5ECF6",
           "caxis": {
            "gridcolor": "white",
            "linecolor": "white",
            "ticks": ""
           }
          },
          "title": {
           "x": 0.05
          },
          "xaxis": {
           "automargin": true,
           "gridcolor": "white",
           "linecolor": "white",
           "ticks": "",
           "title": {
            "standoff": 15
           },
           "zerolinecolor": "white",
           "zerolinewidth": 2
          },
          "yaxis": {
           "automargin": true,
           "gridcolor": "white",
           "linecolor": "white",
           "ticks": "",
           "title": {
            "standoff": 15
           },
           "zerolinecolor": "white",
           "zerolinewidth": 2
          }
         }
        },
        "title": {
         "text": "Stacked Area Chart of net_size over Time by msg_type"
        },
        "xaxis": {
         "anchor": "y",
         "domain": [
          0,
          1
         ],
         "title": {
          "text": "Time"
         }
        },
        "yaxis": {
         "anchor": "x",
         "domain": [
          0,
          1
         ],
         "tickformat": ".2s",
         "ticksuffix": "B",
         "title": {
          "text": "Net Size"
         }
        }
       }
      }
     },
     "metadata": {},
     "output_type": "display_data"
    }
   ],
   "source": [
    "import plotly.express as px\n",
    "import plotly.graph_objects as go\n",
    "\n",
    "fig = px.area(\n",
    "    dfs[\"est_daily\"],\n",
    "    x=\"timestamp\",\n",
    "    y=\"out\",\n",
    "    color=\"msg_type\",\n",
    "    title=\"Stacked Area Chart of net_size over Time by msg_type\",\n",
    "    labels={\"net_size\": \"Net Size\", \"hour_groups\": \"Time\", \"msg_type\": \"Message Type\"},\n",
    ")\n",
    "\n",
    "fig.add_trace(\n",
    "    go.Scatter(\n",
    "        x=dfs[\"emp_daily\"].index,\n",
    "        y=dfs[\"emp_daily\"][\"out\"],\n",
    "        mode=\"lines\",\n",
    "        name=\"emp_daily\",\n",
    "        line=dict(color=\"black\", width=2),\n",
    "    )\n",
    ")\n",
    "\n",
    "fig.update_layout(\n",
    "    xaxis_title=\"Time\",\n",
    "    yaxis_title=\"Net Size\",\n",
    "    legend_title=\"Message Type\",\n",
    "    legend=dict(\n",
    "        orientation=\"h\",\n",
    "        yanchor=\"bottom\",\n",
    "        y=1.02,\n",
    "    ),\n",
    ")\n",
    "fig.update_yaxes(tickformat=\".2s\", ticksuffix=\"B\")\n",
    "fig.show()"
   ]
  },
  {
   "cell_type": "markdown",
   "metadata": {},
   "source": [
    "## inout"
   ]
  },
  {
   "cell_type": "code",
   "execution_count": 7,
   "metadata": {},
   "outputs": [
    {
     "data": {
      "text/html": [
       "<div>\n",
       "<style scoped>\n",
       "    .dataframe tbody tr th:only-of-type {\n",
       "        vertical-align: middle;\n",
       "    }\n",
       "\n",
       "    .dataframe tbody tr th {\n",
       "        vertical-align: top;\n",
       "    }\n",
       "\n",
       "    .dataframe thead th {\n",
       "        text-align: right;\n",
       "    }\n",
       "</style>\n",
       "<table border=\"1\" class=\"dataframe\">\n",
       "  <thead>\n",
       "    <tr style=\"text-align: right;\">\n",
       "      <th></th>\n",
       "      <th>in</th>\n",
       "      <th>out</th>\n",
       "    </tr>\n",
       "    <tr>\n",
       "      <th>timestamp</th>\n",
       "      <th></th>\n",
       "      <th></th>\n",
       "    </tr>\n",
       "  </thead>\n",
       "  <tbody>\n",
       "    <tr>\n",
       "      <th>2025-01-22 00:00:00+00:00</th>\n",
       "      <td>410699276288</td>\n",
       "      <td>4159172666</td>\n",
       "    </tr>\n",
       "    <tr>\n",
       "      <th>2025-01-23 00:00:00+00:00</th>\n",
       "      <td>249253426316</td>\n",
       "      <td>2389922496</td>\n",
       "    </tr>\n",
       "    <tr>\n",
       "      <th>2025-01-24 00:00:00+00:00</th>\n",
       "      <td>428332327</td>\n",
       "      <td>263730602</td>\n",
       "    </tr>\n",
       "    <tr>\n",
       "      <th>2025-01-25 00:00:00+00:00</th>\n",
       "      <td>348672318</td>\n",
       "      <td>217543569</td>\n",
       "    </tr>\n",
       "    <tr>\n",
       "      <th>2025-01-26 00:00:00+00:00</th>\n",
       "      <td>409759999</td>\n",
       "      <td>173218424</td>\n",
       "    </tr>\n",
       "    <tr>\n",
       "      <th>2025-01-27 00:00:00+00:00</th>\n",
       "      <td>423069813</td>\n",
       "      <td>205597017</td>\n",
       "    </tr>\n",
       "    <tr>\n",
       "      <th>2025-01-28 00:00:00+00:00</th>\n",
       "      <td>461584199</td>\n",
       "      <td>231108457</td>\n",
       "    </tr>\n",
       "    <tr>\n",
       "      <th>2025-01-29 00:00:00+00:00</th>\n",
       "      <td>409576936</td>\n",
       "      <td>205458073</td>\n",
       "    </tr>\n",
       "    <tr>\n",
       "      <th>2025-01-30 00:00:00+00:00</th>\n",
       "      <td>366251490</td>\n",
       "      <td>187277323</td>\n",
       "    </tr>\n",
       "    <tr>\n",
       "      <th>2025-01-31 00:00:00+00:00</th>\n",
       "      <td>402177433</td>\n",
       "      <td>167366501</td>\n",
       "    </tr>\n",
       "    <tr>\n",
       "      <th>2025-02-01 00:00:00+00:00</th>\n",
       "      <td>429701694</td>\n",
       "      <td>219771643</td>\n",
       "    </tr>\n",
       "    <tr>\n",
       "      <th>2025-02-02 00:00:00+00:00</th>\n",
       "      <td>478063843</td>\n",
       "      <td>238119095</td>\n",
       "    </tr>\n",
       "    <tr>\n",
       "      <th>2025-02-03 00:00:00+00:00</th>\n",
       "      <td>196266581</td>\n",
       "      <td>113642099</td>\n",
       "    </tr>\n",
       "  </tbody>\n",
       "</table>\n",
       "</div>"
      ],
      "text/plain": [
       "                                     in         out\n",
       "timestamp                                          \n",
       "2025-01-22 00:00:00+00:00  410699276288  4159172666\n",
       "2025-01-23 00:00:00+00:00  249253426316  2389922496\n",
       "2025-01-24 00:00:00+00:00     428332327   263730602\n",
       "2025-01-25 00:00:00+00:00     348672318   217543569\n",
       "2025-01-26 00:00:00+00:00     409759999   173218424\n",
       "2025-01-27 00:00:00+00:00     423069813   205597017\n",
       "2025-01-28 00:00:00+00:00     461584199   231108457\n",
       "2025-01-29 00:00:00+00:00     409576936   205458073\n",
       "2025-01-30 00:00:00+00:00     366251490   187277323\n",
       "2025-01-31 00:00:00+00:00     402177433   167366501\n",
       "2025-02-01 00:00:00+00:00     429701694   219771643\n",
       "2025-02-02 00:00:00+00:00     478063843   238119095\n",
       "2025-02-03 00:00:00+00:00     196266581   113642099"
      ]
     },
     "execution_count": 7,
     "metadata": {},
     "output_type": "execute_result"
    }
   ],
   "source": [
    "dfs[\"emp_daily\"]"
   ]
  },
  {
   "cell_type": "code",
   "execution_count": 8,
   "metadata": {},
   "outputs": [
    {
     "data": {
      "application/vnd.plotly.v1+json": {
       "config": {
        "plotlyServerURL": "https://plot.ly"
       },
       "data": [
        {
         "fillpattern": {
          "shape": ""
         },
         "hovertemplate": "Message Type=block<br>timestamp=%{x}<br>inout=%{y}<extra></extra>",
         "legendgroup": "block",
         "line": {
          "color": "#636efa"
         },
         "marker": {
          "symbol": "circle"
         },
         "mode": "lines",
         "name": "block",
         "orientation": "v",
         "showlegend": true,
         "stackgroup": "1",
         "type": "scatter",
         "x": [
          "2025-01-22 00:00:00+00:00",
          "2025-01-23 00:00:00+00:00",
          "2025-01-28 00:00:00+00:00",
          "2025-02-01 00:00:00+00:00",
          "2025-02-02 00:00:00+00:00"
         ],
         "xaxis": "x",
         "y": [
          410614555657,
          248869754045,
          1113644,
          3987025,
          3618616
         ],
         "yaxis": "y"
        },
        {
         "fillpattern": {
          "shape": ""
         },
         "hovertemplate": "Message Type=getdata<br>timestamp=%{x}<br>inout=%{y}<extra></extra>",
         "legendgroup": "getdata",
         "line": {
          "color": "#EF553B"
         },
         "marker": {
          "symbol": "circle"
         },
         "mode": "lines",
         "name": "getdata",
         "orientation": "v",
         "showlegend": true,
         "stackgroup": "1",
         "type": "scatter",
         "x": [
          "2025-01-22 00:00:00+00:00",
          "2025-01-23 00:00:00+00:00",
          "2025-01-24 00:00:00+00:00",
          "2025-01-25 00:00:00+00:00",
          "2025-01-26 00:00:00+00:00",
          "2025-01-27 00:00:00+00:00",
          "2025-01-28 00:00:00+00:00",
          "2025-01-29 00:00:00+00:00",
          "2025-01-30 00:00:00+00:00",
          "2025-01-31 00:00:00+00:00",
          "2025-02-01 00:00:00+00:00",
          "2025-02-02 00:00:00+00:00",
          "2025-02-03 00:00:00+00:00"
         ],
         "xaxis": "x",
         "y": [
          88170510,
          37179638,
          34080806,
          30883859,
          23464365,
          24931642,
          25105964,
          23842230,
          22476003,
          22447854,
          25235396,
          28674669,
          13113641
         ],
         "yaxis": "y"
        },
        {
         "fillpattern": {
          "shape": ""
         },
         "hovertemplate": "Message Type=headers<br>timestamp=%{x}<br>inout=%{y}<extra></extra>",
         "legendgroup": "headers",
         "line": {
          "color": "#00cc96"
         },
         "marker": {
          "symbol": "circle"
         },
         "mode": "lines",
         "name": "headers",
         "orientation": "v",
         "showlegend": true,
         "stackgroup": "1",
         "type": "scatter",
         "x": [
          "2025-01-22 00:00:00+00:00",
          "2025-01-23 00:00:00+00:00",
          "2025-01-24 00:00:00+00:00",
          "2025-01-25 00:00:00+00:00",
          "2025-01-26 00:00:00+00:00",
          "2025-01-27 00:00:00+00:00",
          "2025-01-28 00:00:00+00:00",
          "2025-01-29 00:00:00+00:00",
          "2025-01-30 00:00:00+00:00",
          "2025-01-31 00:00:00+00:00",
          "2025-02-01 00:00:00+00:00",
          "2025-02-02 00:00:00+00:00",
          "2025-02-03 00:00:00+00:00"
         ],
         "xaxis": "x",
         "y": [
          113320858,
          8985833,
          25657719,
          8999815,
          13508215,
          272106,
          14357376,
          16628224,
          13889743,
          237196,
          13838089,
          14165314,
          138184
         ],
         "yaxis": "y"
        },
        {
         "fillpattern": {
          "shape": ""
         },
         "hovertemplate": "Message Type=inv<br>timestamp=%{x}<br>inout=%{y}<extra></extra>",
         "legendgroup": "inv",
         "line": {
          "color": "#ab63fa"
         },
         "marker": {
          "symbol": "circle"
         },
         "mode": "lines",
         "name": "inv",
         "orientation": "v",
         "showlegend": true,
         "stackgroup": "1",
         "type": "scatter",
         "x": [
          "2025-01-22 00:00:00+00:00",
          "2025-01-23 00:00:00+00:00",
          "2025-01-24 00:00:00+00:00",
          "2025-01-25 00:00:00+00:00",
          "2025-01-26 00:00:00+00:00",
          "2025-01-27 00:00:00+00:00",
          "2025-01-28 00:00:00+00:00",
          "2025-01-29 00:00:00+00:00",
          "2025-01-30 00:00:00+00:00",
          "2025-01-31 00:00:00+00:00",
          "2025-02-01 00:00:00+00:00",
          "2025-02-02 00:00:00+00:00",
          "2025-02-03 00:00:00+00:00"
         ],
         "xaxis": "x",
         "y": [
          4780,
          92660418,
          136962542,
          119996504,
          103519795,
          123524920,
          130575089,
          122017573,
          119856340,
          117932696,
          126203382,
          139284310,
          64985078
         ],
         "yaxis": "y"
        },
        {
         "fillpattern": {
          "shape": ""
         },
         "hovertemplate": "Message Type=other<br>timestamp=%{x}<br>inout=%{y}<extra></extra>",
         "legendgroup": "other",
         "line": {
          "color": "#FFA15A"
         },
         "marker": {
          "symbol": "circle"
         },
         "mode": "lines",
         "name": "other",
         "orientation": "v",
         "showlegend": true,
         "stackgroup": "1",
         "type": "scatter",
         "x": [
          "2025-01-22 00:00:00+00:00",
          "2025-01-23 00:00:00+00:00",
          "2025-01-24 00:00:00+00:00",
          "2025-01-25 00:00:00+00:00",
          "2025-01-26 00:00:00+00:00",
          "2025-01-27 00:00:00+00:00",
          "2025-01-28 00:00:00+00:00",
          "2025-01-29 00:00:00+00:00",
          "2025-01-30 00:00:00+00:00",
          "2025-01-31 00:00:00+00:00",
          "2025-02-01 00:00:00+00:00",
          "2025-02-02 00:00:00+00:00",
          "2025-02-03 00:00:00+00:00"
         ],
         "xaxis": "x",
         "y": [
          2460558,
          21946210,
          28390550,
          33816373,
          56266035,
          51119308,
          31945909,
          31389383,
          27337179,
          21430103,
          25308976,
          37481826,
          12675337
         ],
         "yaxis": "y"
        },
        {
         "fillpattern": {
          "shape": ""
         },
         "hovertemplate": "Message Type=tx<br>timestamp=%{x}<br>inout=%{y}<extra></extra>",
         "legendgroup": "tx",
         "line": {
          "color": "#19d3f3"
         },
         "marker": {
          "symbol": "circle"
         },
         "mode": "lines",
         "name": "tx",
         "orientation": "v",
         "showlegend": true,
         "stackgroup": "1",
         "type": "scatter",
         "x": [
          "2025-01-23 00:00:00+00:00",
          "2025-01-24 00:00:00+00:00",
          "2025-01-25 00:00:00+00:00",
          "2025-01-26 00:00:00+00:00",
          "2025-01-27 00:00:00+00:00",
          "2025-01-28 00:00:00+00:00",
          "2025-01-29 00:00:00+00:00",
          "2025-01-30 00:00:00+00:00",
          "2025-01-31 00:00:00+00:00",
          "2025-02-01 00:00:00+00:00",
          "2025-02-02 00:00:00+00:00",
          "2025-02-03 00:00:00+00:00"
         ],
         "xaxis": "x",
         "y": [
          254722363,
          424541065,
          324341655,
          348697370,
          389938736,
          453759630,
          384080983,
          332287609,
          369096624,
          416907302,
          453778226,
          198520834
         ],
         "yaxis": "y"
        },
        {
         "line": {
          "color": "black",
          "width": 2
         },
         "mode": "lines",
         "name": "emp_daily",
         "type": "scatter",
         "x": [
          "2025-01-22 00:00:00+00:00",
          "2025-01-23 00:00:00+00:00",
          "2025-01-24 00:00:00+00:00",
          "2025-01-25 00:00:00+00:00",
          "2025-01-26 00:00:00+00:00",
          "2025-01-27 00:00:00+00:00",
          "2025-01-28 00:00:00+00:00",
          "2025-01-29 00:00:00+00:00",
          "2025-01-30 00:00:00+00:00",
          "2025-01-31 00:00:00+00:00",
          "2025-02-01 00:00:00+00:00",
          "2025-02-02 00:00:00+00:00",
          "2025-02-03 00:00:00+00:00"
         ],
         "y": [
          414858448954,
          251643348812,
          692062929,
          566215887,
          582978423,
          628666830,
          692692656,
          615035009,
          553528813,
          569543934,
          649473337,
          716182938,
          309908680
         ]
        }
       ],
       "layout": {
        "legend": {
         "orientation": "h",
         "title": {
          "text": "Message Type"
         },
         "tracegroupgap": 0,
         "y": 1.02,
         "yanchor": "bottom"
        },
        "template": {
         "data": {
          "bar": [
           {
            "error_x": {
             "color": "#2a3f5f"
            },
            "error_y": {
             "color": "#2a3f5f"
            },
            "marker": {
             "line": {
              "color": "#E5ECF6",
              "width": 0.5
             },
             "pattern": {
              "fillmode": "overlay",
              "size": 10,
              "solidity": 0.2
             }
            },
            "type": "bar"
           }
          ],
          "barpolar": [
           {
            "marker": {
             "line": {
              "color": "#E5ECF6",
              "width": 0.5
             },
             "pattern": {
              "fillmode": "overlay",
              "size": 10,
              "solidity": 0.2
             }
            },
            "type": "barpolar"
           }
          ],
          "carpet": [
           {
            "aaxis": {
             "endlinecolor": "#2a3f5f",
             "gridcolor": "white",
             "linecolor": "white",
             "minorgridcolor": "white",
             "startlinecolor": "#2a3f5f"
            },
            "baxis": {
             "endlinecolor": "#2a3f5f",
             "gridcolor": "white",
             "linecolor": "white",
             "minorgridcolor": "white",
             "startlinecolor": "#2a3f5f"
            },
            "type": "carpet"
           }
          ],
          "choropleth": [
           {
            "colorbar": {
             "outlinewidth": 0,
             "ticks": ""
            },
            "type": "choropleth"
           }
          ],
          "contour": [
           {
            "colorbar": {
             "outlinewidth": 0,
             "ticks": ""
            },
            "colorscale": [
             [
              0,
              "#0d0887"
             ],
             [
              0.1111111111111111,
              "#46039f"
             ],
             [
              0.2222222222222222,
              "#7201a8"
             ],
             [
              0.3333333333333333,
              "#9c179e"
             ],
             [
              0.4444444444444444,
              "#bd3786"
             ],
             [
              0.5555555555555556,
              "#d8576b"
             ],
             [
              0.6666666666666666,
              "#ed7953"
             ],
             [
              0.7777777777777778,
              "#fb9f3a"
             ],
             [
              0.8888888888888888,
              "#fdca26"
             ],
             [
              1,
              "#f0f921"
             ]
            ],
            "type": "contour"
           }
          ],
          "contourcarpet": [
           {
            "colorbar": {
             "outlinewidth": 0,
             "ticks": ""
            },
            "type": "contourcarpet"
           }
          ],
          "heatmap": [
           {
            "colorbar": {
             "outlinewidth": 0,
             "ticks": ""
            },
            "colorscale": [
             [
              0,
              "#0d0887"
             ],
             [
              0.1111111111111111,
              "#46039f"
             ],
             [
              0.2222222222222222,
              "#7201a8"
             ],
             [
              0.3333333333333333,
              "#9c179e"
             ],
             [
              0.4444444444444444,
              "#bd3786"
             ],
             [
              0.5555555555555556,
              "#d8576b"
             ],
             [
              0.6666666666666666,
              "#ed7953"
             ],
             [
              0.7777777777777778,
              "#fb9f3a"
             ],
             [
              0.8888888888888888,
              "#fdca26"
             ],
             [
              1,
              "#f0f921"
             ]
            ],
            "type": "heatmap"
           }
          ],
          "heatmapgl": [
           {
            "colorbar": {
             "outlinewidth": 0,
             "ticks": ""
            },
            "colorscale": [
             [
              0,
              "#0d0887"
             ],
             [
              0.1111111111111111,
              "#46039f"
             ],
             [
              0.2222222222222222,
              "#7201a8"
             ],
             [
              0.3333333333333333,
              "#9c179e"
             ],
             [
              0.4444444444444444,
              "#bd3786"
             ],
             [
              0.5555555555555556,
              "#d8576b"
             ],
             [
              0.6666666666666666,
              "#ed7953"
             ],
             [
              0.7777777777777778,
              "#fb9f3a"
             ],
             [
              0.8888888888888888,
              "#fdca26"
             ],
             [
              1,
              "#f0f921"
             ]
            ],
            "type": "heatmapgl"
           }
          ],
          "histogram": [
           {
            "marker": {
             "pattern": {
              "fillmode": "overlay",
              "size": 10,
              "solidity": 0.2
             }
            },
            "type": "histogram"
           }
          ],
          "histogram2d": [
           {
            "colorbar": {
             "outlinewidth": 0,
             "ticks": ""
            },
            "colorscale": [
             [
              0,
              "#0d0887"
             ],
             [
              0.1111111111111111,
              "#46039f"
             ],
             [
              0.2222222222222222,
              "#7201a8"
             ],
             [
              0.3333333333333333,
              "#9c179e"
             ],
             [
              0.4444444444444444,
              "#bd3786"
             ],
             [
              0.5555555555555556,
              "#d8576b"
             ],
             [
              0.6666666666666666,
              "#ed7953"
             ],
             [
              0.7777777777777778,
              "#fb9f3a"
             ],
             [
              0.8888888888888888,
              "#fdca26"
             ],
             [
              1,
              "#f0f921"
             ]
            ],
            "type": "histogram2d"
           }
          ],
          "histogram2dcontour": [
           {
            "colorbar": {
             "outlinewidth": 0,
             "ticks": ""
            },
            "colorscale": [
             [
              0,
              "#0d0887"
             ],
             [
              0.1111111111111111,
              "#46039f"
             ],
             [
              0.2222222222222222,
              "#7201a8"
             ],
             [
              0.3333333333333333,
              "#9c179e"
             ],
             [
              0.4444444444444444,
              "#bd3786"
             ],
             [
              0.5555555555555556,
              "#d8576b"
             ],
             [
              0.6666666666666666,
              "#ed7953"
             ],
             [
              0.7777777777777778,
              "#fb9f3a"
             ],
             [
              0.8888888888888888,
              "#fdca26"
             ],
             [
              1,
              "#f0f921"
             ]
            ],
            "type": "histogram2dcontour"
           }
          ],
          "mesh3d": [
           {
            "colorbar": {
             "outlinewidth": 0,
             "ticks": ""
            },
            "type": "mesh3d"
           }
          ],
          "parcoords": [
           {
            "line": {
             "colorbar": {
              "outlinewidth": 0,
              "ticks": ""
             }
            },
            "type": "parcoords"
           }
          ],
          "pie": [
           {
            "automargin": true,
            "type": "pie"
           }
          ],
          "scatter": [
           {
            "fillpattern": {
             "fillmode": "overlay",
             "size": 10,
             "solidity": 0.2
            },
            "type": "scatter"
           }
          ],
          "scatter3d": [
           {
            "line": {
             "colorbar": {
              "outlinewidth": 0,
              "ticks": ""
             }
            },
            "marker": {
             "colorbar": {
              "outlinewidth": 0,
              "ticks": ""
             }
            },
            "type": "scatter3d"
           }
          ],
          "scattercarpet": [
           {
            "marker": {
             "colorbar": {
              "outlinewidth": 0,
              "ticks": ""
             }
            },
            "type": "scattercarpet"
           }
          ],
          "scattergeo": [
           {
            "marker": {
             "colorbar": {
              "outlinewidth": 0,
              "ticks": ""
             }
            },
            "type": "scattergeo"
           }
          ],
          "scattergl": [
           {
            "marker": {
             "colorbar": {
              "outlinewidth": 0,
              "ticks": ""
             }
            },
            "type": "scattergl"
           }
          ],
          "scattermapbox": [
           {
            "marker": {
             "colorbar": {
              "outlinewidth": 0,
              "ticks": ""
             }
            },
            "type": "scattermapbox"
           }
          ],
          "scatterpolar": [
           {
            "marker": {
             "colorbar": {
              "outlinewidth": 0,
              "ticks": ""
             }
            },
            "type": "scatterpolar"
           }
          ],
          "scatterpolargl": [
           {
            "marker": {
             "colorbar": {
              "outlinewidth": 0,
              "ticks": ""
             }
            },
            "type": "scatterpolargl"
           }
          ],
          "scatterternary": [
           {
            "marker": {
             "colorbar": {
              "outlinewidth": 0,
              "ticks": ""
             }
            },
            "type": "scatterternary"
           }
          ],
          "surface": [
           {
            "colorbar": {
             "outlinewidth": 0,
             "ticks": ""
            },
            "colorscale": [
             [
              0,
              "#0d0887"
             ],
             [
              0.1111111111111111,
              "#46039f"
             ],
             [
              0.2222222222222222,
              "#7201a8"
             ],
             [
              0.3333333333333333,
              "#9c179e"
             ],
             [
              0.4444444444444444,
              "#bd3786"
             ],
             [
              0.5555555555555556,
              "#d8576b"
             ],
             [
              0.6666666666666666,
              "#ed7953"
             ],
             [
              0.7777777777777778,
              "#fb9f3a"
             ],
             [
              0.8888888888888888,
              "#fdca26"
             ],
             [
              1,
              "#f0f921"
             ]
            ],
            "type": "surface"
           }
          ],
          "table": [
           {
            "cells": {
             "fill": {
              "color": "#EBF0F8"
             },
             "line": {
              "color": "white"
             }
            },
            "header": {
             "fill": {
              "color": "#C8D4E3"
             },
             "line": {
              "color": "white"
             }
            },
            "type": "table"
           }
          ]
         },
         "layout": {
          "annotationdefaults": {
           "arrowcolor": "#2a3f5f",
           "arrowhead": 0,
           "arrowwidth": 1
          },
          "autotypenumbers": "strict",
          "coloraxis": {
           "colorbar": {
            "outlinewidth": 0,
            "ticks": ""
           }
          },
          "colorscale": {
           "diverging": [
            [
             0,
             "#8e0152"
            ],
            [
             0.1,
             "#c51b7d"
            ],
            [
             0.2,
             "#de77ae"
            ],
            [
             0.3,
             "#f1b6da"
            ],
            [
             0.4,
             "#fde0ef"
            ],
            [
             0.5,
             "#f7f7f7"
            ],
            [
             0.6,
             "#e6f5d0"
            ],
            [
             0.7,
             "#b8e186"
            ],
            [
             0.8,
             "#7fbc41"
            ],
            [
             0.9,
             "#4d9221"
            ],
            [
             1,
             "#276419"
            ]
           ],
           "sequential": [
            [
             0,
             "#0d0887"
            ],
            [
             0.1111111111111111,
             "#46039f"
            ],
            [
             0.2222222222222222,
             "#7201a8"
            ],
            [
             0.3333333333333333,
             "#9c179e"
            ],
            [
             0.4444444444444444,
             "#bd3786"
            ],
            [
             0.5555555555555556,
             "#d8576b"
            ],
            [
             0.6666666666666666,
             "#ed7953"
            ],
            [
             0.7777777777777778,
             "#fb9f3a"
            ],
            [
             0.8888888888888888,
             "#fdca26"
            ],
            [
             1,
             "#f0f921"
            ]
           ],
           "sequentialminus": [
            [
             0,
             "#0d0887"
            ],
            [
             0.1111111111111111,
             "#46039f"
            ],
            [
             0.2222222222222222,
             "#7201a8"
            ],
            [
             0.3333333333333333,
             "#9c179e"
            ],
            [
             0.4444444444444444,
             "#bd3786"
            ],
            [
             0.5555555555555556,
             "#d8576b"
            ],
            [
             0.6666666666666666,
             "#ed7953"
            ],
            [
             0.7777777777777778,
             "#fb9f3a"
            ],
            [
             0.8888888888888888,
             "#fdca26"
            ],
            [
             1,
             "#f0f921"
            ]
           ]
          },
          "colorway": [
           "#636efa",
           "#EF553B",
           "#00cc96",
           "#ab63fa",
           "#FFA15A",
           "#19d3f3",
           "#FF6692",
           "#B6E880",
           "#FF97FF",
           "#FECB52"
          ],
          "font": {
           "color": "#2a3f5f"
          },
          "geo": {
           "bgcolor": "white",
           "lakecolor": "white",
           "landcolor": "#E5ECF6",
           "showlakes": true,
           "showland": true,
           "subunitcolor": "white"
          },
          "hoverlabel": {
           "align": "left"
          },
          "hovermode": "closest",
          "mapbox": {
           "style": "light"
          },
          "paper_bgcolor": "white",
          "plot_bgcolor": "#E5ECF6",
          "polar": {
           "angularaxis": {
            "gridcolor": "white",
            "linecolor": "white",
            "ticks": ""
           },
           "bgcolor": "#E5ECF6",
           "radialaxis": {
            "gridcolor": "white",
            "linecolor": "white",
            "ticks": ""
           }
          },
          "scene": {
           "xaxis": {
            "backgroundcolor": "#E5ECF6",
            "gridcolor": "white",
            "gridwidth": 2,
            "linecolor": "white",
            "showbackground": true,
            "ticks": "",
            "zerolinecolor": "white"
           },
           "yaxis": {
            "backgroundcolor": "#E5ECF6",
            "gridcolor": "white",
            "gridwidth": 2,
            "linecolor": "white",
            "showbackground": true,
            "ticks": "",
            "zerolinecolor": "white"
           },
           "zaxis": {
            "backgroundcolor": "#E5ECF6",
            "gridcolor": "white",
            "gridwidth": 2,
            "linecolor": "white",
            "showbackground": true,
            "ticks": "",
            "zerolinecolor": "white"
           }
          },
          "shapedefaults": {
           "line": {
            "color": "#2a3f5f"
           }
          },
          "ternary": {
           "aaxis": {
            "gridcolor": "white",
            "linecolor": "white",
            "ticks": ""
           },
           "baxis": {
            "gridcolor": "white",
            "linecolor": "white",
            "ticks": ""
           },
           "bgcolor": "#E5ECF6",
           "caxis": {
            "gridcolor": "white",
            "linecolor": "white",
            "ticks": ""
           }
          },
          "title": {
           "x": 0.05
          },
          "xaxis": {
           "automargin": true,
           "gridcolor": "white",
           "linecolor": "white",
           "ticks": "",
           "title": {
            "standoff": 15
           },
           "zerolinecolor": "white",
           "zerolinewidth": 2
          },
          "yaxis": {
           "automargin": true,
           "gridcolor": "white",
           "linecolor": "white",
           "ticks": "",
           "title": {
            "standoff": 15
           },
           "zerolinecolor": "white",
           "zerolinewidth": 2
          }
         }
        },
        "title": {
         "text": "Stacked Area Chart of net_size over Time by msg_type"
        },
        "xaxis": {
         "anchor": "y",
         "domain": [
          0,
          1
         ],
         "title": {
          "text": "Time"
         }
        },
        "yaxis": {
         "anchor": "x",
         "domain": [
          0,
          1
         ],
         "tickformat": ".2s",
         "ticksuffix": "B",
         "title": {
          "text": "Net Size"
         }
        }
       }
      }
     },
     "metadata": {},
     "output_type": "display_data"
    }
   ],
   "source": [
    "import plotly.express as px\n",
    "import plotly.graph_objects as go\n",
    "\n",
    "fig = px.area(\n",
    "    dfs[\"est_daily\"],\n",
    "    x=\"timestamp\",\n",
    "    y=\"inout\",\n",
    "    color=\"msg_type\",\n",
    "    title=\"Stacked Area Chart of net_size over Time by msg_type\",\n",
    "    labels={\"net_size\": \"Net Size\", \"hour_groups\": \"Time\", \"msg_type\": \"Message Type\"},\n",
    ")\n",
    "\n",
    "fig.add_trace(\n",
    "    go.Scatter(\n",
    "        x=dfs[\"emp_daily\"].index,\n",
    "        y=dfs[\"emp_daily\"][\"in\"] + dfs[\"emp_daily\"][\"out\"],\n",
    "        mode=\"lines\",\n",
    "        name=\"emp_daily\",\n",
    "        line=dict(color=\"black\", width=2),\n",
    "    )\n",
    ")\n",
    "\n",
    "fig.update_layout(\n",
    "    xaxis_title=\"Time\",\n",
    "    yaxis_title=\"Net Size\",\n",
    "    legend_title=\"Message Type\",\n",
    "    legend=dict(\n",
    "        orientation=\"h\",\n",
    "        yanchor=\"bottom\",\n",
    "        y=1.02,\n",
    "    ),\n",
    ")\n",
    "fig.update_yaxes(tickformat=\".2s\", ticksuffix=\"B\")\n",
    "fig.show()"
   ]
  },
  {
   "cell_type": "markdown",
   "metadata": {},
   "source": [
    "# In/out hourly"
   ]
  },
  {
   "cell_type": "code",
   "execution_count": 9,
   "metadata": {},
   "outputs": [
    {
     "data": {
      "application/vnd.plotly.v1+json": {
       "config": {
        "plotlyServerURL": "https://plot.ly"
       },
       "data": [
        {
         "fillpattern": {
          "shape": ""
         },
         "hovertemplate": "Message Type=block<br>timestamp=%{x}<br>inout=%{y}<extra></extra>",
         "legendgroup": "block",
         "line": {
          "color": "#636efa"
         },
         "marker": {
          "symbol": "circle"
         },
         "mode": "lines",
         "name": "block",
         "orientation": "v",
         "showlegend": true,
         "stackgroup": "1",
         "type": "scatter",
         "x": [
          "2025-01-22 14:00:00+00:00",
          "2025-01-22 15:00:00+00:00",
          "2025-01-22 16:00:00+00:00",
          "2025-01-22 17:00:00+00:00",
          "2025-01-22 18:00:00+00:00",
          "2025-01-22 19:00:00+00:00",
          "2025-01-22 20:00:00+00:00",
          "2025-01-22 21:00:00+00:00",
          "2025-01-22 22:00:00+00:00",
          "2025-01-22 23:00:00+00:00",
          "2025-01-23 00:00:00+00:00",
          "2025-01-23 01:00:00+00:00",
          "2025-01-23 02:00:00+00:00",
          "2025-01-23 03:00:00+00:00",
          "2025-01-23 04:00:00+00:00",
          "2025-01-23 05:00:00+00:00",
          "2025-01-23 06:00:00+00:00",
          "2025-01-28 07:00:00+00:00",
          "2025-02-01 12:00:00+00:00",
          "2025-02-02 10:00:00+00:00"
         ],
         "xaxis": "x",
         "y": [
          11111157911,
          44227997688,
          44736815938,
          44606730870,
          44383394650,
          44434248320,
          43885330743,
          44011171906,
          44705853019,
          44511854612,
          44321475642,
          44427312841,
          43877746665,
          41807698383,
          35439287109,
          33534330125,
          5461903280,
          1113644,
          3987025,
          3618616
         ],
         "yaxis": "y"
        },
        {
         "fillpattern": {
          "shape": ""
         },
         "hovertemplate": "Message Type=getdata<br>timestamp=%{x}<br>inout=%{y}<extra></extra>",
         "legendgroup": "getdata",
         "line": {
          "color": "#EF553B"
         },
         "marker": {
          "symbol": "circle"
         },
         "mode": "lines",
         "name": "getdata",
         "orientation": "v",
         "showlegend": true,
         "stackgroup": "1",
         "type": "scatter",
         "x": [
          "2025-01-22 14:00:00+00:00",
          "2025-01-22 15:00:00+00:00",
          "2025-01-22 16:00:00+00:00",
          "2025-01-22 17:00:00+00:00",
          "2025-01-22 18:00:00+00:00",
          "2025-01-22 19:00:00+00:00",
          "2025-01-22 20:00:00+00:00",
          "2025-01-22 21:00:00+00:00",
          "2025-01-22 22:00:00+00:00",
          "2025-01-22 23:00:00+00:00",
          "2025-01-23 00:00:00+00:00",
          "2025-01-23 01:00:00+00:00",
          "2025-01-23 02:00:00+00:00",
          "2025-01-23 03:00:00+00:00",
          "2025-01-23 04:00:00+00:00",
          "2025-01-23 05:00:00+00:00",
          "2025-01-23 06:00:00+00:00",
          "2025-01-23 07:00:00+00:00",
          "2025-01-23 08:00:00+00:00",
          "2025-01-23 09:00:00+00:00",
          "2025-01-23 10:00:00+00:00",
          "2025-01-23 11:00:00+00:00",
          "2025-01-23 12:00:00+00:00",
          "2025-01-23 13:00:00+00:00",
          "2025-01-23 14:00:00+00:00",
          "2025-01-23 15:00:00+00:00",
          "2025-01-23 16:00:00+00:00",
          "2025-01-23 17:00:00+00:00",
          "2025-01-23 18:00:00+00:00",
          "2025-01-23 19:00:00+00:00",
          "2025-01-23 20:00:00+00:00",
          "2025-01-23 21:00:00+00:00",
          "2025-01-23 22:00:00+00:00",
          "2025-01-23 23:00:00+00:00",
          "2025-01-24 00:00:00+00:00",
          "2025-01-24 01:00:00+00:00",
          "2025-01-24 02:00:00+00:00",
          "2025-01-24 03:00:00+00:00",
          "2025-01-24 04:00:00+00:00",
          "2025-01-24 05:00:00+00:00",
          "2025-01-24 06:00:00+00:00",
          "2025-01-24 07:00:00+00:00",
          "2025-01-24 08:00:00+00:00",
          "2025-01-24 09:00:00+00:00",
          "2025-01-24 10:00:00+00:00",
          "2025-01-24 11:00:00+00:00",
          "2025-01-24 12:00:00+00:00",
          "2025-01-24 13:00:00+00:00",
          "2025-01-24 14:00:00+00:00",
          "2025-01-24 15:00:00+00:00",
          "2025-01-24 16:00:00+00:00",
          "2025-01-24 17:00:00+00:00",
          "2025-01-24 18:00:00+00:00",
          "2025-01-24 19:00:00+00:00",
          "2025-01-24 20:00:00+00:00",
          "2025-01-24 21:00:00+00:00",
          "2025-01-24 22:00:00+00:00",
          "2025-01-24 23:00:00+00:00",
          "2025-01-25 00:00:00+00:00",
          "2025-01-25 01:00:00+00:00",
          "2025-01-25 02:00:00+00:00",
          "2025-01-25 03:00:00+00:00",
          "2025-01-25 04:00:00+00:00",
          "2025-01-25 05:00:00+00:00",
          "2025-01-25 06:00:00+00:00",
          "2025-01-25 07:00:00+00:00",
          "2025-01-25 08:00:00+00:00",
          "2025-01-25 09:00:00+00:00",
          "2025-01-25 10:00:00+00:00",
          "2025-01-25 11:00:00+00:00",
          "2025-01-25 12:00:00+00:00",
          "2025-01-25 13:00:00+00:00",
          "2025-01-25 14:00:00+00:00",
          "2025-01-25 15:00:00+00:00",
          "2025-01-25 16:00:00+00:00",
          "2025-01-25 17:00:00+00:00",
          "2025-01-25 18:00:00+00:00",
          "2025-01-25 19:00:00+00:00",
          "2025-01-25 20:00:00+00:00",
          "2025-01-25 21:00:00+00:00",
          "2025-01-25 22:00:00+00:00",
          "2025-01-25 23:00:00+00:00",
          "2025-01-26 00:00:00+00:00",
          "2025-01-26 01:00:00+00:00",
          "2025-01-26 02:00:00+00:00",
          "2025-01-26 03:00:00+00:00",
          "2025-01-26 04:00:00+00:00",
          "2025-01-26 05:00:00+00:00",
          "2025-01-26 06:00:00+00:00",
          "2025-01-26 07:00:00+00:00",
          "2025-01-26 08:00:00+00:00",
          "2025-01-26 09:00:00+00:00",
          "2025-01-26 10:00:00+00:00",
          "2025-01-26 11:00:00+00:00",
          "2025-01-26 12:00:00+00:00",
          "2025-01-26 13:00:00+00:00",
          "2025-01-26 14:00:00+00:00",
          "2025-01-26 15:00:00+00:00",
          "2025-01-26 16:00:00+00:00",
          "2025-01-26 17:00:00+00:00",
          "2025-01-26 18:00:00+00:00",
          "2025-01-26 19:00:00+00:00",
          "2025-01-26 20:00:00+00:00",
          "2025-01-26 21:00:00+00:00",
          "2025-01-26 22:00:00+00:00",
          "2025-01-26 23:00:00+00:00",
          "2025-01-27 00:00:00+00:00",
          "2025-01-27 01:00:00+00:00",
          "2025-01-27 02:00:00+00:00",
          "2025-01-27 03:00:00+00:00",
          "2025-01-27 04:00:00+00:00",
          "2025-01-27 05:00:00+00:00",
          "2025-01-27 06:00:00+00:00",
          "2025-01-27 07:00:00+00:00",
          "2025-01-27 08:00:00+00:00",
          "2025-01-27 09:00:00+00:00",
          "2025-01-27 10:00:00+00:00",
          "2025-01-27 11:00:00+00:00",
          "2025-01-27 12:00:00+00:00",
          "2025-01-27 13:00:00+00:00",
          "2025-01-27 14:00:00+00:00",
          "2025-01-27 15:00:00+00:00",
          "2025-01-27 16:00:00+00:00",
          "2025-01-27 17:00:00+00:00",
          "2025-01-27 18:00:00+00:00",
          "2025-01-27 19:00:00+00:00",
          "2025-01-27 20:00:00+00:00",
          "2025-01-27 21:00:00+00:00",
          "2025-01-27 22:00:00+00:00",
          "2025-01-27 23:00:00+00:00",
          "2025-01-28 00:00:00+00:00",
          "2025-01-28 01:00:00+00:00",
          "2025-01-28 02:00:00+00:00",
          "2025-01-28 03:00:00+00:00",
          "2025-01-28 04:00:00+00:00",
          "2025-01-28 05:00:00+00:00",
          "2025-01-28 06:00:00+00:00",
          "2025-01-28 07:00:00+00:00",
          "2025-01-28 08:00:00+00:00",
          "2025-01-28 09:00:00+00:00",
          "2025-01-28 10:00:00+00:00",
          "2025-01-28 11:00:00+00:00",
          "2025-01-28 12:00:00+00:00",
          "2025-01-28 13:00:00+00:00",
          "2025-01-28 14:00:00+00:00",
          "2025-01-28 15:00:00+00:00",
          "2025-01-28 16:00:00+00:00",
          "2025-01-28 17:00:00+00:00",
          "2025-01-28 18:00:00+00:00",
          "2025-01-28 19:00:00+00:00",
          "2025-01-28 20:00:00+00:00",
          "2025-01-28 21:00:00+00:00",
          "2025-01-28 22:00:00+00:00",
          "2025-01-28 23:00:00+00:00",
          "2025-01-29 00:00:00+00:00",
          "2025-01-29 01:00:00+00:00",
          "2025-01-29 02:00:00+00:00",
          "2025-01-29 03:00:00+00:00",
          "2025-01-29 04:00:00+00:00",
          "2025-01-29 05:00:00+00:00",
          "2025-01-29 06:00:00+00:00",
          "2025-01-29 07:00:00+00:00",
          "2025-01-29 08:00:00+00:00",
          "2025-01-29 09:00:00+00:00",
          "2025-01-29 10:00:00+00:00",
          "2025-01-29 11:00:00+00:00",
          "2025-01-29 12:00:00+00:00",
          "2025-01-29 13:00:00+00:00",
          "2025-01-29 14:00:00+00:00",
          "2025-01-29 15:00:00+00:00",
          "2025-01-29 16:00:00+00:00",
          "2025-01-29 17:00:00+00:00",
          "2025-01-29 18:00:00+00:00",
          "2025-01-29 19:00:00+00:00",
          "2025-01-29 20:00:00+00:00",
          "2025-01-29 21:00:00+00:00",
          "2025-01-29 22:00:00+00:00",
          "2025-01-29 23:00:00+00:00",
          "2025-01-30 00:00:00+00:00",
          "2025-01-30 01:00:00+00:00",
          "2025-01-30 02:00:00+00:00",
          "2025-01-30 03:00:00+00:00",
          "2025-01-30 04:00:00+00:00",
          "2025-01-30 05:00:00+00:00",
          "2025-01-30 06:00:00+00:00",
          "2025-01-30 07:00:00+00:00",
          "2025-01-30 08:00:00+00:00",
          "2025-01-30 09:00:00+00:00",
          "2025-01-30 10:00:00+00:00",
          "2025-01-30 11:00:00+00:00",
          "2025-01-30 12:00:00+00:00",
          "2025-01-30 13:00:00+00:00",
          "2025-01-30 14:00:00+00:00",
          "2025-01-30 15:00:00+00:00",
          "2025-01-30 16:00:00+00:00",
          "2025-01-30 17:00:00+00:00",
          "2025-01-30 18:00:00+00:00",
          "2025-01-30 19:00:00+00:00",
          "2025-01-30 20:00:00+00:00",
          "2025-01-30 21:00:00+00:00",
          "2025-01-30 22:00:00+00:00",
          "2025-01-30 23:00:00+00:00",
          "2025-01-31 00:00:00+00:00",
          "2025-01-31 01:00:00+00:00",
          "2025-01-31 02:00:00+00:00",
          "2025-01-31 03:00:00+00:00",
          "2025-01-31 04:00:00+00:00",
          "2025-01-31 05:00:00+00:00",
          "2025-01-31 06:00:00+00:00",
          "2025-01-31 07:00:00+00:00",
          "2025-01-31 08:00:00+00:00",
          "2025-01-31 09:00:00+00:00",
          "2025-01-31 10:00:00+00:00",
          "2025-01-31 11:00:00+00:00",
          "2025-01-31 12:00:00+00:00",
          "2025-01-31 13:00:00+00:00",
          "2025-01-31 14:00:00+00:00",
          "2025-01-31 15:00:00+00:00",
          "2025-01-31 16:00:00+00:00",
          "2025-01-31 17:00:00+00:00",
          "2025-01-31 18:00:00+00:00",
          "2025-01-31 19:00:00+00:00",
          "2025-01-31 20:00:00+00:00",
          "2025-01-31 21:00:00+00:00",
          "2025-01-31 22:00:00+00:00",
          "2025-01-31 23:00:00+00:00",
          "2025-02-01 00:00:00+00:00",
          "2025-02-01 01:00:00+00:00",
          "2025-02-01 02:00:00+00:00",
          "2025-02-01 03:00:00+00:00",
          "2025-02-01 04:00:00+00:00",
          "2025-02-01 05:00:00+00:00",
          "2025-02-01 06:00:00+00:00",
          "2025-02-01 07:00:00+00:00",
          "2025-02-01 08:00:00+00:00",
          "2025-02-01 09:00:00+00:00",
          "2025-02-01 10:00:00+00:00",
          "2025-02-01 11:00:00+00:00",
          "2025-02-01 12:00:00+00:00",
          "2025-02-01 13:00:00+00:00",
          "2025-02-01 14:00:00+00:00",
          "2025-02-01 15:00:00+00:00",
          "2025-02-01 16:00:00+00:00",
          "2025-02-01 17:00:00+00:00",
          "2025-02-01 18:00:00+00:00",
          "2025-02-01 19:00:00+00:00",
          "2025-02-01 20:00:00+00:00",
          "2025-02-01 21:00:00+00:00",
          "2025-02-01 22:00:00+00:00",
          "2025-02-01 23:00:00+00:00",
          "2025-02-02 00:00:00+00:00",
          "2025-02-02 01:00:00+00:00",
          "2025-02-02 02:00:00+00:00",
          "2025-02-02 03:00:00+00:00",
          "2025-02-02 04:00:00+00:00",
          "2025-02-02 05:00:00+00:00",
          "2025-02-02 06:00:00+00:00",
          "2025-02-02 07:00:00+00:00",
          "2025-02-02 08:00:00+00:00",
          "2025-02-02 09:00:00+00:00",
          "2025-02-02 10:00:00+00:00",
          "2025-02-02 11:00:00+00:00",
          "2025-02-02 12:00:00+00:00",
          "2025-02-02 13:00:00+00:00",
          "2025-02-02 14:00:00+00:00",
          "2025-02-02 15:00:00+00:00",
          "2025-02-02 16:00:00+00:00",
          "2025-02-02 17:00:00+00:00",
          "2025-02-02 18:00:00+00:00",
          "2025-02-02 19:00:00+00:00",
          "2025-02-02 20:00:00+00:00",
          "2025-02-02 21:00:00+00:00",
          "2025-02-02 22:00:00+00:00",
          "2025-02-02 23:00:00+00:00",
          "2025-02-03 00:00:00+00:00",
          "2025-02-03 01:00:00+00:00",
          "2025-02-03 02:00:00+00:00",
          "2025-02-03 03:00:00+00:00",
          "2025-02-03 04:00:00+00:00",
          "2025-02-03 05:00:00+00:00",
          "2025-02-03 06:00:00+00:00",
          "2025-02-03 07:00:00+00:00",
          "2025-02-03 08:00:00+00:00",
          "2025-02-03 09:00:00+00:00",
          "2025-02-03 10:00:00+00:00",
          "2025-02-03 11:00:00+00:00",
          "2025-02-03 12:00:00+00:00"
         ],
         "xaxis": "x",
         "y": [
          31071649,
          16045927,
          6752315,
          5600776,
          5780632,
          5003092,
          4903998,
          4321395,
          4050236,
          4640490,
          4470126,
          3290604,
          3070599,
          2878101,
          2555013,
          2421116,
          1211731,
          1087396,
          982286,
          958353,
          859704,
          1046869,
          1013301,
          1209945,
          1134029,
          1043712,
          988224,
          1050431,
          1133946,
          939255,
          932471,
          1111968,
          926156,
          864302,
          996850,
          1029941,
          1006602,
          838888,
          895938,
          1650276,
          1086580,
          1283174,
          1220256,
          1039127,
          2318935,
          889638,
          913865,
          800123,
          955993,
          1048819,
          1266922,
          1236836,
          1143116,
          1245809,
          3685637,
          4372683,
          2248838,
          905960,
          830041,
          879067,
          928800,
          1198415,
          1049623,
          1063046,
          1099608,
          1126153,
          1212555,
          1115156,
          1066447,
          1505173,
          2038708,
          1614554,
          2417018,
          1255931,
          2179252,
          1236306,
          1141523,
          1292314,
          1220926,
          1131666,
          1062731,
          1218846,
          972947,
          1015812,
          834857,
          893152,
          746997,
          900410,
          1258680,
          1232226,
          911436,
          1014352,
          883318,
          821071,
          827206,
          1016665,
          1074424,
          1036537,
          1113690,
          1089377,
          1134512,
          952558,
          899726,
          1054325,
          1000696,
          779391,
          904656,
          832103,
          801740,
          766099,
          701096,
          740759,
          1150073,
          1258333,
          1365986,
          1287980,
          997500,
          885488,
          914533,
          911194,
          1089646,
          1106060,
          1342487,
          1249360,
          1146645,
          1125757,
          950440,
          1107455,
          1173749,
          1122503,
          913772,
          1084704,
          1197626,
          946404,
          692599,
          1263981,
          738079,
          3659760,
          872411,
          790435,
          880974,
          865626,
          878929,
          935573,
          992320,
          952068,
          1046981,
          972393,
          937477,
          900746,
          966657,
          979218,
          858426,
          778805,
          668337,
          877614,
          946226,
          976098,
          1310425,
          809465,
          832358,
          1593943,
          1008193,
          954405,
          943545,
          893002,
          856970,
          1027770,
          1252711,
          1027524,
          1018178,
          1033398,
          1101543,
          890730,
          932502,
          910451,
          988435,
          988407,
          959665,
          1105719,
          877862,
          806393,
          795141,
          691361,
          869554,
          827132,
          809932,
          904077,
          863606,
          789216,
          977186,
          1107180,
          1038395,
          1013731,
          976778,
          1038657,
          991572,
          1021119,
          920942,
          946112,
          956101,
          1188572,
          1208850,
          804761,
          1122781,
          977331,
          989194,
          939836,
          753330,
          793596,
          973123,
          830534,
          826771,
          867003,
          886857,
          900321,
          1107246,
          1081154,
          1103088,
          1000872,
          1041314,
          926034,
          907555,
          896888,
          771760,
          737655,
          762145,
          774079,
          877065,
          970380,
          825880,
          1596314,
          1524874,
          980496,
          703358,
          943275,
          824298,
          832671,
          819435,
          1493725,
          1200491,
          967101,
          1010522,
          1043884,
          1358914,
          1157641,
          1282344,
          1126093,
          1250363,
          910048,
          1166598,
          782016,
          916599,
          705144,
          971344,
          1491555,
          1600890,
          1730754,
          2838961,
          1649092,
          1155319,
          987123,
          979955,
          1008976,
          1342532,
          1257754,
          1196436,
          1027191,
          1156841,
          1141413,
          867853,
          831534,
          868403,
          1000386,
          1058104,
          1173438,
          1327017,
          1482360,
          809513,
          853123,
          757674,
          924151,
          851378,
          844390,
          985615,
          1189691,
          857187
         ],
         "yaxis": "y"
        },
        {
         "fillpattern": {
          "shape": ""
         },
         "hovertemplate": "Message Type=headers<br>timestamp=%{x}<br>inout=%{y}<extra></extra>",
         "legendgroup": "headers",
         "line": {
          "color": "#00cc96"
         },
         "marker": {
          "symbol": "circle"
         },
         "mode": "lines",
         "name": "headers",
         "orientation": "v",
         "showlegend": true,
         "stackgroup": "1",
         "type": "scatter",
         "x": [
          "2025-01-22 14:00:00+00:00",
          "2025-01-22 15:00:00+00:00",
          "2025-01-22 16:00:00+00:00",
          "2025-01-22 17:00:00+00:00",
          "2025-01-22 18:00:00+00:00",
          "2025-01-22 19:00:00+00:00",
          "2025-01-22 20:00:00+00:00",
          "2025-01-22 21:00:00+00:00",
          "2025-01-22 22:00:00+00:00",
          "2025-01-22 23:00:00+00:00",
          "2025-01-23 00:00:00+00:00",
          "2025-01-23 01:00:00+00:00",
          "2025-01-23 02:00:00+00:00",
          "2025-01-23 03:00:00+00:00",
          "2025-01-23 04:00:00+00:00",
          "2025-01-23 05:00:00+00:00",
          "2025-01-23 06:00:00+00:00",
          "2025-01-23 07:00:00+00:00",
          "2025-01-23 08:00:00+00:00",
          "2025-01-23 09:00:00+00:00",
          "2025-01-23 10:00:00+00:00",
          "2025-01-23 11:00:00+00:00",
          "2025-01-23 12:00:00+00:00",
          "2025-01-23 13:00:00+00:00",
          "2025-01-23 14:00:00+00:00",
          "2025-01-23 15:00:00+00:00",
          "2025-01-23 16:00:00+00:00",
          "2025-01-23 17:00:00+00:00",
          "2025-01-23 18:00:00+00:00",
          "2025-01-23 19:00:00+00:00",
          "2025-01-23 20:00:00+00:00",
          "2025-01-23 21:00:00+00:00",
          "2025-01-23 22:00:00+00:00",
          "2025-01-23 23:00:00+00:00",
          "2025-01-24 00:00:00+00:00",
          "2025-01-24 01:00:00+00:00",
          "2025-01-24 02:00:00+00:00",
          "2025-01-24 03:00:00+00:00",
          "2025-01-24 04:00:00+00:00",
          "2025-01-24 05:00:00+00:00",
          "2025-01-24 06:00:00+00:00",
          "2025-01-24 07:00:00+00:00",
          "2025-01-24 08:00:00+00:00",
          "2025-01-24 09:00:00+00:00",
          "2025-01-24 10:00:00+00:00",
          "2025-01-24 11:00:00+00:00",
          "2025-01-24 12:00:00+00:00",
          "2025-01-24 13:00:00+00:00",
          "2025-01-24 14:00:00+00:00",
          "2025-01-24 15:00:00+00:00",
          "2025-01-24 16:00:00+00:00",
          "2025-01-24 17:00:00+00:00",
          "2025-01-24 18:00:00+00:00",
          "2025-01-24 19:00:00+00:00",
          "2025-01-24 20:00:00+00:00",
          "2025-01-24 21:00:00+00:00",
          "2025-01-24 22:00:00+00:00",
          "2025-01-24 23:00:00+00:00",
          "2025-01-25 00:00:00+00:00",
          "2025-01-25 01:00:00+00:00",
          "2025-01-25 02:00:00+00:00",
          "2025-01-25 03:00:00+00:00",
          "2025-01-25 04:00:00+00:00",
          "2025-01-25 05:00:00+00:00",
          "2025-01-25 06:00:00+00:00",
          "2025-01-25 07:00:00+00:00",
          "2025-01-25 08:00:00+00:00",
          "2025-01-25 09:00:00+00:00",
          "2025-01-25 10:00:00+00:00",
          "2025-01-25 11:00:00+00:00",
          "2025-01-25 12:00:00+00:00",
          "2025-01-25 13:00:00+00:00",
          "2025-01-25 14:00:00+00:00",
          "2025-01-25 15:00:00+00:00",
          "2025-01-25 16:00:00+00:00",
          "2025-01-25 17:00:00+00:00",
          "2025-01-25 18:00:00+00:00",
          "2025-01-25 19:00:00+00:00",
          "2025-01-25 20:00:00+00:00",
          "2025-01-25 21:00:00+00:00",
          "2025-01-25 22:00:00+00:00",
          "2025-01-25 23:00:00+00:00",
          "2025-01-26 00:00:00+00:00",
          "2025-01-26 01:00:00+00:00",
          "2025-01-26 02:00:00+00:00",
          "2025-01-26 03:00:00+00:00",
          "2025-01-26 04:00:00+00:00",
          "2025-01-26 05:00:00+00:00",
          "2025-01-26 06:00:00+00:00",
          "2025-01-26 07:00:00+00:00",
          "2025-01-26 08:00:00+00:00",
          "2025-01-26 09:00:00+00:00",
          "2025-01-26 10:00:00+00:00",
          "2025-01-26 11:00:00+00:00",
          "2025-01-26 12:00:00+00:00",
          "2025-01-26 13:00:00+00:00",
          "2025-01-26 14:00:00+00:00",
          "2025-01-26 15:00:00+00:00",
          "2025-01-26 16:00:00+00:00",
          "2025-01-26 17:00:00+00:00",
          "2025-01-26 18:00:00+00:00",
          "2025-01-26 19:00:00+00:00",
          "2025-01-26 20:00:00+00:00",
          "2025-01-26 21:00:00+00:00",
          "2025-01-26 22:00:00+00:00",
          "2025-01-26 23:00:00+00:00",
          "2025-01-27 00:00:00+00:00",
          "2025-01-27 01:00:00+00:00",
          "2025-01-27 02:00:00+00:00",
          "2025-01-27 03:00:00+00:00",
          "2025-01-27 04:00:00+00:00",
          "2025-01-27 05:00:00+00:00",
          "2025-01-27 06:00:00+00:00",
          "2025-01-27 07:00:00+00:00",
          "2025-01-27 08:00:00+00:00",
          "2025-01-27 09:00:00+00:00",
          "2025-01-27 10:00:00+00:00",
          "2025-01-27 11:00:00+00:00",
          "2025-01-27 12:00:00+00:00",
          "2025-01-27 13:00:00+00:00",
          "2025-01-27 14:00:00+00:00",
          "2025-01-27 15:00:00+00:00",
          "2025-01-27 16:00:00+00:00",
          "2025-01-27 17:00:00+00:00",
          "2025-01-27 18:00:00+00:00",
          "2025-01-27 19:00:00+00:00",
          "2025-01-27 20:00:00+00:00",
          "2025-01-27 21:00:00+00:00",
          "2025-01-27 22:00:00+00:00",
          "2025-01-27 23:00:00+00:00",
          "2025-01-28 00:00:00+00:00",
          "2025-01-28 01:00:00+00:00",
          "2025-01-28 02:00:00+00:00",
          "2025-01-28 03:00:00+00:00",
          "2025-01-28 04:00:00+00:00",
          "2025-01-28 05:00:00+00:00",
          "2025-01-28 06:00:00+00:00",
          "2025-01-28 07:00:00+00:00",
          "2025-01-28 08:00:00+00:00",
          "2025-01-28 09:00:00+00:00",
          "2025-01-28 10:00:00+00:00",
          "2025-01-28 11:00:00+00:00",
          "2025-01-28 12:00:00+00:00",
          "2025-01-28 13:00:00+00:00",
          "2025-01-28 14:00:00+00:00",
          "2025-01-28 15:00:00+00:00",
          "2025-01-28 16:00:00+00:00",
          "2025-01-28 17:00:00+00:00",
          "2025-01-28 18:00:00+00:00",
          "2025-01-28 19:00:00+00:00",
          "2025-01-28 20:00:00+00:00",
          "2025-01-28 21:00:00+00:00",
          "2025-01-28 22:00:00+00:00",
          "2025-01-28 23:00:00+00:00",
          "2025-01-29 00:00:00+00:00",
          "2025-01-29 01:00:00+00:00",
          "2025-01-29 02:00:00+00:00",
          "2025-01-29 03:00:00+00:00",
          "2025-01-29 04:00:00+00:00",
          "2025-01-29 05:00:00+00:00",
          "2025-01-29 06:00:00+00:00",
          "2025-01-29 07:00:00+00:00",
          "2025-01-29 08:00:00+00:00",
          "2025-01-29 09:00:00+00:00",
          "2025-01-29 10:00:00+00:00",
          "2025-01-29 11:00:00+00:00",
          "2025-01-29 12:00:00+00:00",
          "2025-01-29 13:00:00+00:00",
          "2025-01-29 14:00:00+00:00",
          "2025-01-29 15:00:00+00:00",
          "2025-01-29 16:00:00+00:00",
          "2025-01-29 17:00:00+00:00",
          "2025-01-29 18:00:00+00:00",
          "2025-01-29 19:00:00+00:00",
          "2025-01-29 20:00:00+00:00",
          "2025-01-29 21:00:00+00:00",
          "2025-01-29 22:00:00+00:00",
          "2025-01-29 23:00:00+00:00",
          "2025-01-30 00:00:00+00:00",
          "2025-01-30 01:00:00+00:00",
          "2025-01-30 02:00:00+00:00",
          "2025-01-30 03:00:00+00:00",
          "2025-01-30 04:00:00+00:00",
          "2025-01-30 05:00:00+00:00",
          "2025-01-30 06:00:00+00:00",
          "2025-01-30 07:00:00+00:00",
          "2025-01-30 08:00:00+00:00",
          "2025-01-30 09:00:00+00:00",
          "2025-01-30 10:00:00+00:00",
          "2025-01-30 11:00:00+00:00",
          "2025-01-30 12:00:00+00:00",
          "2025-01-30 13:00:00+00:00",
          "2025-01-30 14:00:00+00:00",
          "2025-01-30 15:00:00+00:00",
          "2025-01-30 16:00:00+00:00",
          "2025-01-30 17:00:00+00:00",
          "2025-01-30 18:00:00+00:00",
          "2025-01-30 19:00:00+00:00",
          "2025-01-30 20:00:00+00:00",
          "2025-01-30 21:00:00+00:00",
          "2025-01-30 22:00:00+00:00",
          "2025-01-30 23:00:00+00:00",
          "2025-01-31 00:00:00+00:00",
          "2025-01-31 01:00:00+00:00",
          "2025-01-31 02:00:00+00:00",
          "2025-01-31 03:00:00+00:00",
          "2025-01-31 04:00:00+00:00",
          "2025-01-31 05:00:00+00:00",
          "2025-01-31 06:00:00+00:00",
          "2025-01-31 07:00:00+00:00",
          "2025-01-31 08:00:00+00:00",
          "2025-01-31 09:00:00+00:00",
          "2025-01-31 10:00:00+00:00",
          "2025-01-31 11:00:00+00:00",
          "2025-01-31 12:00:00+00:00",
          "2025-01-31 13:00:00+00:00",
          "2025-01-31 14:00:00+00:00",
          "2025-01-31 15:00:00+00:00",
          "2025-01-31 16:00:00+00:00",
          "2025-01-31 17:00:00+00:00",
          "2025-01-31 18:00:00+00:00",
          "2025-01-31 19:00:00+00:00",
          "2025-01-31 20:00:00+00:00",
          "2025-01-31 21:00:00+00:00",
          "2025-01-31 22:00:00+00:00",
          "2025-01-31 23:00:00+00:00",
          "2025-02-01 00:00:00+00:00",
          "2025-02-01 01:00:00+00:00",
          "2025-02-01 02:00:00+00:00",
          "2025-02-01 03:00:00+00:00",
          "2025-02-01 04:00:00+00:00",
          "2025-02-01 05:00:00+00:00",
          "2025-02-01 06:00:00+00:00",
          "2025-02-01 07:00:00+00:00",
          "2025-02-01 08:00:00+00:00",
          "2025-02-01 09:00:00+00:00",
          "2025-02-01 10:00:00+00:00",
          "2025-02-01 11:00:00+00:00",
          "2025-02-01 12:00:00+00:00",
          "2025-02-01 13:00:00+00:00",
          "2025-02-01 14:00:00+00:00",
          "2025-02-01 15:00:00+00:00",
          "2025-02-01 16:00:00+00:00",
          "2025-02-01 17:00:00+00:00",
          "2025-02-01 18:00:00+00:00",
          "2025-02-01 19:00:00+00:00",
          "2025-02-01 20:00:00+00:00",
          "2025-02-01 21:00:00+00:00",
          "2025-02-01 22:00:00+00:00",
          "2025-02-01 23:00:00+00:00",
          "2025-02-02 00:00:00+00:00",
          "2025-02-02 01:00:00+00:00",
          "2025-02-02 02:00:00+00:00",
          "2025-02-02 03:00:00+00:00",
          "2025-02-02 04:00:00+00:00",
          "2025-02-02 05:00:00+00:00",
          "2025-02-02 06:00:00+00:00",
          "2025-02-02 07:00:00+00:00",
          "2025-02-02 08:00:00+00:00",
          "2025-02-02 09:00:00+00:00",
          "2025-02-02 10:00:00+00:00",
          "2025-02-02 11:00:00+00:00",
          "2025-02-02 12:00:00+00:00",
          "2025-02-02 13:00:00+00:00",
          "2025-02-02 14:00:00+00:00",
          "2025-02-02 15:00:00+00:00",
          "2025-02-02 16:00:00+00:00",
          "2025-02-02 17:00:00+00:00",
          "2025-02-02 18:00:00+00:00",
          "2025-02-02 19:00:00+00:00",
          "2025-02-02 20:00:00+00:00",
          "2025-02-02 21:00:00+00:00",
          "2025-02-02 22:00:00+00:00",
          "2025-02-02 23:00:00+00:00",
          "2025-02-03 00:00:00+00:00",
          "2025-02-03 01:00:00+00:00",
          "2025-02-03 02:00:00+00:00",
          "2025-02-03 03:00:00+00:00",
          "2025-02-03 04:00:00+00:00",
          "2025-02-03 05:00:00+00:00",
          "2025-02-03 06:00:00+00:00",
          "2025-02-03 07:00:00+00:00",
          "2025-02-03 08:00:00+00:00",
          "2025-02-03 09:00:00+00:00",
          "2025-02-03 10:00:00+00:00",
          "2025-02-03 11:00:00+00:00",
          "2025-02-03 12:00:00+00:00"
         ],
         "xaxis": "x",
         "y": [
          113216848,
          6309,
          13515,
          10332,
          3397,
          9960,
          23067,
          18950,
          10080,
          8400,
          15120,
          8400,
          6720,
          6720,
          11760,
          11760,
          8740624,
          15859,
          11813,
          15129,
          4289,
          18405,
          9205,
          10687,
          9959,
          9946,
          4297,
          9699,
          15663,
          7116,
          11820,
          12894,
          8808,
          9140,
          13166,
          14865,
          14154,
          8812,
          15085,
          13323,
          5816,
          16863,
          15317,
          13004,
          7942,
          11079,
          10908,
          3892,
          11755,
          15173,
          12696617,
          12691517,
          13184,
          11430,
          21047,
          9519,
          15802,
          7449,
          6578,
          13544,
          7668,
          9344,
          15947,
          11580,
          11653,
          15408,
          11548,
          8458,
          8867,
          9907,
          8739310,
          9235,
          7599,
          10607,
          14440,
          8405,
          14785,
          12901,
          16590,
          8938,
          15688,
          10815,
          19415,
          13480,
          16931,
          15675,
          351041,
          4349,
          10300,
          8392,
          8270,
          9271,
          17968,
          5816,
          7035,
          15298,
          11706,
          14718,
          13391,
          8946,
          16448,
          12179,
          9915,
          12897698,
          11256,
          8717,
          14808,
          12621,
          14707,
          14099,
          14495,
          10286,
          15126,
          10747,
          4112,
          12967,
          10256,
          8989,
          9815,
          11574,
          10540,
          9864,
          10172,
          15941,
          12140,
          713,
          8839,
          10046,
          12561,
          16688,
          11176,
          5481,
          13348,
          11408,
          13087810,
          351343,
          14471,
          15718,
          342192,
          11683,
          12934,
          9666,
          11290,
          6371,
          14215,
          8263,
          12291,
          8381,
          9494,
          8414,
          351756,
          16560,
          13473,
          9638,
          5002,
          11148,
          9544,
          10892,
          18306,
          13111067,
          13207,
          12006,
          13550,
          12205,
          3242077,
          7704,
          10316,
          22308,
          17772,
          9494,
          10389,
          15027,
          13293,
          5196,
          12945,
          12868,
          18109,
          13799,
          10632,
          350213,
          14520,
          8031,
          11202,
          7573,
          11914,
          9441,
          7233,
          13299910,
          4216,
          7338,
          9870,
          14454,
          14767,
          6803,
          11924,
          11122,
          6914,
          14374,
          18917,
          14608,
          10296,
          13471,
          15532,
          7059,
          8646,
          10972,
          8703,
          14135,
          7708,
          12376,
          7238,
          9052,
          13682,
          7391,
          14171,
          11085,
          17449,
          9020,
          9182,
          7136,
          10288,
          6262,
          9218,
          8797,
          5966,
          6128,
          12041,
          8290,
          15060,
          18883,
          11236,
          12641,
          17526,
          14573,
          7044,
          14529,
          14042,
          15185,
          26911,
          17830,
          13497977,
          15323,
          14054,
          9150,
          16870,
          22229,
          16230,
          15935,
          11698,
          12832,
          16266,
          8008,
          15776,
          10936,
          20195,
          7129,
          18344,
          20021,
          16643,
          16335,
          11560,
          11843,
          18287,
          10523,
          13519542,
          12260,
          14804,
          15497,
          10493,
          16404,
          6051,
          351325,
          5395,
          11677,
          18384,
          11924,
          11283,
          10653,
          7967,
          10235,
          8218,
          11264,
          5460,
          8907,
          14889,
          13666,
          5334
         ],
         "yaxis": "y"
        },
        {
         "fillpattern": {
          "shape": ""
         },
         "hovertemplate": "Message Type=inv<br>timestamp=%{x}<br>inout=%{y}<extra></extra>",
         "legendgroup": "inv",
         "line": {
          "color": "#ab63fa"
         },
         "marker": {
          "symbol": "circle"
         },
         "mode": "lines",
         "name": "inv",
         "orientation": "v",
         "showlegend": true,
         "stackgroup": "1",
         "type": "scatter",
         "x": [
          "2025-01-22 14:00:00+00:00",
          "2025-01-22 15:00:00+00:00",
          "2025-01-22 16:00:00+00:00",
          "2025-01-22 20:00:00+00:00",
          "2025-01-23 06:00:00+00:00",
          "2025-01-23 07:00:00+00:00",
          "2025-01-23 08:00:00+00:00",
          "2025-01-23 09:00:00+00:00",
          "2025-01-23 10:00:00+00:00",
          "2025-01-23 11:00:00+00:00",
          "2025-01-23 12:00:00+00:00",
          "2025-01-23 13:00:00+00:00",
          "2025-01-23 14:00:00+00:00",
          "2025-01-23 15:00:00+00:00",
          "2025-01-23 16:00:00+00:00",
          "2025-01-23 17:00:00+00:00",
          "2025-01-23 18:00:00+00:00",
          "2025-01-23 19:00:00+00:00",
          "2025-01-23 20:00:00+00:00",
          "2025-01-23 21:00:00+00:00",
          "2025-01-23 22:00:00+00:00",
          "2025-01-23 23:00:00+00:00",
          "2025-01-24 00:00:00+00:00",
          "2025-01-24 01:00:00+00:00",
          "2025-01-24 02:00:00+00:00",
          "2025-01-24 03:00:00+00:00",
          "2025-01-24 04:00:00+00:00",
          "2025-01-24 05:00:00+00:00",
          "2025-01-24 06:00:00+00:00",
          "2025-01-24 07:00:00+00:00",
          "2025-01-24 08:00:00+00:00",
          "2025-01-24 09:00:00+00:00",
          "2025-01-24 10:00:00+00:00",
          "2025-01-24 11:00:00+00:00",
          "2025-01-24 12:00:00+00:00",
          "2025-01-24 13:00:00+00:00",
          "2025-01-24 14:00:00+00:00",
          "2025-01-24 15:00:00+00:00",
          "2025-01-24 16:00:00+00:00",
          "2025-01-24 17:00:00+00:00",
          "2025-01-24 18:00:00+00:00",
          "2025-01-24 19:00:00+00:00",
          "2025-01-24 20:00:00+00:00",
          "2025-01-24 21:00:00+00:00",
          "2025-01-24 22:00:00+00:00",
          "2025-01-24 23:00:00+00:00",
          "2025-01-25 00:00:00+00:00",
          "2025-01-25 01:00:00+00:00",
          "2025-01-25 02:00:00+00:00",
          "2025-01-25 03:00:00+00:00",
          "2025-01-25 04:00:00+00:00",
          "2025-01-25 05:00:00+00:00",
          "2025-01-25 06:00:00+00:00",
          "2025-01-25 07:00:00+00:00",
          "2025-01-25 08:00:00+00:00",
          "2025-01-25 09:00:00+00:00",
          "2025-01-25 10:00:00+00:00",
          "2025-01-25 11:00:00+00:00",
          "2025-01-25 12:00:00+00:00",
          "2025-01-25 13:00:00+00:00",
          "2025-01-25 14:00:00+00:00",
          "2025-01-25 15:00:00+00:00",
          "2025-01-25 16:00:00+00:00",
          "2025-01-25 17:00:00+00:00",
          "2025-01-25 18:00:00+00:00",
          "2025-01-25 19:00:00+00:00",
          "2025-01-25 20:00:00+00:00",
          "2025-01-25 21:00:00+00:00",
          "2025-01-25 22:00:00+00:00",
          "2025-01-25 23:00:00+00:00",
          "2025-01-26 00:00:00+00:00",
          "2025-01-26 01:00:00+00:00",
          "2025-01-26 02:00:00+00:00",
          "2025-01-26 03:00:00+00:00",
          "2025-01-26 04:00:00+00:00",
          "2025-01-26 05:00:00+00:00",
          "2025-01-26 06:00:00+00:00",
          "2025-01-26 07:00:00+00:00",
          "2025-01-26 08:00:00+00:00",
          "2025-01-26 09:00:00+00:00",
          "2025-01-26 10:00:00+00:00",
          "2025-01-26 11:00:00+00:00",
          "2025-01-26 12:00:00+00:00",
          "2025-01-26 13:00:00+00:00",
          "2025-01-26 14:00:00+00:00",
          "2025-01-26 15:00:00+00:00",
          "2025-01-26 16:00:00+00:00",
          "2025-01-26 17:00:00+00:00",
          "2025-01-26 18:00:00+00:00",
          "2025-01-26 19:00:00+00:00",
          "2025-01-26 20:00:00+00:00",
          "2025-01-26 21:00:00+00:00",
          "2025-01-26 22:00:00+00:00",
          "2025-01-26 23:00:00+00:00",
          "2025-01-27 00:00:00+00:00",
          "2025-01-27 01:00:00+00:00",
          "2025-01-27 02:00:00+00:00",
          "2025-01-27 03:00:00+00:00",
          "2025-01-27 04:00:00+00:00",
          "2025-01-27 05:00:00+00:00",
          "2025-01-27 06:00:00+00:00",
          "2025-01-27 07:00:00+00:00",
          "2025-01-27 08:00:00+00:00",
          "2025-01-27 09:00:00+00:00",
          "2025-01-27 10:00:00+00:00",
          "2025-01-27 11:00:00+00:00",
          "2025-01-27 12:00:00+00:00",
          "2025-01-27 13:00:00+00:00",
          "2025-01-27 14:00:00+00:00",
          "2025-01-27 15:00:00+00:00",
          "2025-01-27 16:00:00+00:00",
          "2025-01-27 17:00:00+00:00",
          "2025-01-27 18:00:00+00:00",
          "2025-01-27 19:00:00+00:00",
          "2025-01-27 20:00:00+00:00",
          "2025-01-27 21:00:00+00:00",
          "2025-01-27 22:00:00+00:00",
          "2025-01-27 23:00:00+00:00",
          "2025-01-28 00:00:00+00:00",
          "2025-01-28 01:00:00+00:00",
          "2025-01-28 02:00:00+00:00",
          "2025-01-28 03:00:00+00:00",
          "2025-01-28 04:00:00+00:00",
          "2025-01-28 05:00:00+00:00",
          "2025-01-28 06:00:00+00:00",
          "2025-01-28 07:00:00+00:00",
          "2025-01-28 08:00:00+00:00",
          "2025-01-28 09:00:00+00:00",
          "2025-01-28 10:00:00+00:00",
          "2025-01-28 11:00:00+00:00",
          "2025-01-28 12:00:00+00:00",
          "2025-01-28 13:00:00+00:00",
          "2025-01-28 14:00:00+00:00",
          "2025-01-28 15:00:00+00:00",
          "2025-01-28 16:00:00+00:00",
          "2025-01-28 17:00:00+00:00",
          "2025-01-28 18:00:00+00:00",
          "2025-01-28 19:00:00+00:00",
          "2025-01-28 20:00:00+00:00",
          "2025-01-28 21:00:00+00:00",
          "2025-01-28 22:00:00+00:00",
          "2025-01-28 23:00:00+00:00",
          "2025-01-29 00:00:00+00:00",
          "2025-01-29 01:00:00+00:00",
          "2025-01-29 02:00:00+00:00",
          "2025-01-29 03:00:00+00:00",
          "2025-01-29 04:00:00+00:00",
          "2025-01-29 05:00:00+00:00",
          "2025-01-29 06:00:00+00:00",
          "2025-01-29 07:00:00+00:00",
          "2025-01-29 08:00:00+00:00",
          "2025-01-29 09:00:00+00:00",
          "2025-01-29 10:00:00+00:00",
          "2025-01-29 11:00:00+00:00",
          "2025-01-29 12:00:00+00:00",
          "2025-01-29 13:00:00+00:00",
          "2025-01-29 14:00:00+00:00",
          "2025-01-29 15:00:00+00:00",
          "2025-01-29 16:00:00+00:00",
          "2025-01-29 17:00:00+00:00",
          "2025-01-29 18:00:00+00:00",
          "2025-01-29 19:00:00+00:00",
          "2025-01-29 20:00:00+00:00",
          "2025-01-29 21:00:00+00:00",
          "2025-01-29 22:00:00+00:00",
          "2025-01-29 23:00:00+00:00",
          "2025-01-30 00:00:00+00:00",
          "2025-01-30 01:00:00+00:00",
          "2025-01-30 02:00:00+00:00",
          "2025-01-30 03:00:00+00:00",
          "2025-01-30 04:00:00+00:00",
          "2025-01-30 05:00:00+00:00",
          "2025-01-30 06:00:00+00:00",
          "2025-01-30 07:00:00+00:00",
          "2025-01-30 08:00:00+00:00",
          "2025-01-30 09:00:00+00:00",
          "2025-01-30 10:00:00+00:00",
          "2025-01-30 11:00:00+00:00",
          "2025-01-30 12:00:00+00:00",
          "2025-01-30 13:00:00+00:00",
          "2025-01-30 14:00:00+00:00",
          "2025-01-30 15:00:00+00:00",
          "2025-01-30 16:00:00+00:00",
          "2025-01-30 17:00:00+00:00",
          "2025-01-30 18:00:00+00:00",
          "2025-01-30 19:00:00+00:00",
          "2025-01-30 20:00:00+00:00",
          "2025-01-30 21:00:00+00:00",
          "2025-01-30 22:00:00+00:00",
          "2025-01-30 23:00:00+00:00",
          "2025-01-31 00:00:00+00:00",
          "2025-01-31 01:00:00+00:00",
          "2025-01-31 02:00:00+00:00",
          "2025-01-31 03:00:00+00:00",
          "2025-01-31 04:00:00+00:00",
          "2025-01-31 05:00:00+00:00",
          "2025-01-31 06:00:00+00:00",
          "2025-01-31 07:00:00+00:00",
          "2025-01-31 08:00:00+00:00",
          "2025-01-31 09:00:00+00:00",
          "2025-01-31 10:00:00+00:00",
          "2025-01-31 11:00:00+00:00",
          "2025-01-31 12:00:00+00:00",
          "2025-01-31 13:00:00+00:00",
          "2025-01-31 14:00:00+00:00",
          "2025-01-31 15:00:00+00:00",
          "2025-01-31 16:00:00+00:00",
          "2025-01-31 17:00:00+00:00",
          "2025-01-31 18:00:00+00:00",
          "2025-01-31 19:00:00+00:00",
          "2025-01-31 20:00:00+00:00",
          "2025-01-31 21:00:00+00:00",
          "2025-01-31 22:00:00+00:00",
          "2025-01-31 23:00:00+00:00",
          "2025-02-01 00:00:00+00:00",
          "2025-02-01 01:00:00+00:00",
          "2025-02-01 02:00:00+00:00",
          "2025-02-01 03:00:00+00:00",
          "2025-02-01 04:00:00+00:00",
          "2025-02-01 05:00:00+00:00",
          "2025-02-01 06:00:00+00:00",
          "2025-02-01 07:00:00+00:00",
          "2025-02-01 08:00:00+00:00",
          "2025-02-01 09:00:00+00:00",
          "2025-02-01 10:00:00+00:00",
          "2025-02-01 11:00:00+00:00",
          "2025-02-01 12:00:00+00:00",
          "2025-02-01 13:00:00+00:00",
          "2025-02-01 14:00:00+00:00",
          "2025-02-01 15:00:00+00:00",
          "2025-02-01 16:00:00+00:00",
          "2025-02-01 17:00:00+00:00",
          "2025-02-01 18:00:00+00:00",
          "2025-02-01 19:00:00+00:00",
          "2025-02-01 20:00:00+00:00",
          "2025-02-01 21:00:00+00:00",
          "2025-02-01 22:00:00+00:00",
          "2025-02-01 23:00:00+00:00",
          "2025-02-02 00:00:00+00:00",
          "2025-02-02 01:00:00+00:00",
          "2025-02-02 02:00:00+00:00",
          "2025-02-02 03:00:00+00:00",
          "2025-02-02 04:00:00+00:00",
          "2025-02-02 05:00:00+00:00",
          "2025-02-02 06:00:00+00:00",
          "2025-02-02 07:00:00+00:00",
          "2025-02-02 08:00:00+00:00",
          "2025-02-02 09:00:00+00:00",
          "2025-02-02 10:00:00+00:00",
          "2025-02-02 11:00:00+00:00",
          "2025-02-02 12:00:00+00:00",
          "2025-02-02 13:00:00+00:00",
          "2025-02-02 14:00:00+00:00",
          "2025-02-02 15:00:00+00:00",
          "2025-02-02 16:00:00+00:00",
          "2025-02-02 17:00:00+00:00",
          "2025-02-02 18:00:00+00:00",
          "2025-02-02 19:00:00+00:00",
          "2025-02-02 20:00:00+00:00",
          "2025-02-02 21:00:00+00:00",
          "2025-02-02 22:00:00+00:00",
          "2025-02-02 23:00:00+00:00",
          "2025-02-03 00:00:00+00:00",
          "2025-02-03 01:00:00+00:00",
          "2025-02-03 02:00:00+00:00",
          "2025-02-03 03:00:00+00:00",
          "2025-02-03 04:00:00+00:00",
          "2025-02-03 05:00:00+00:00",
          "2025-02-03 06:00:00+00:00",
          "2025-02-03 07:00:00+00:00",
          "2025-02-03 08:00:00+00:00",
          "2025-02-03 09:00:00+00:00",
          "2025-02-03 10:00:00+00:00",
          "2025-02-03 11:00:00+00:00",
          "2025-02-03 12:00:00+00:00"
         ],
         "xaxis": "x",
         "y": [
          884,
          2072,
          1126,
          698,
          3927417,
          5288314,
          4745518,
          4768554,
          4336733,
          5409253,
          5041360,
          5980686,
          5617758,
          5511233,
          5247451,
          5588540,
          6149217,
          4989774,
          4973288,
          5898775,
          4736028,
          4450519,
          5305890,
          5027254,
          4863026,
          4124909,
          4266728,
          7464859,
          4969838,
          6147291,
          5289399,
          4705880,
          7415212,
          4230654,
          4360198,
          3917639,
          4891819,
          5229735,
          5930776,
          6061755,
          5469326,
          5863318,
          9629710,
          10060590,
          7607286,
          4129450,
          3747067,
          3878832,
          3754769,
          4247886,
          3934877,
          3842374,
          4048489,
          4178657,
          4370593,
          4215095,
          4239295,
          5640665,
          6931242,
          6121249,
          7410626,
          5327958,
          7772539,
          5060054,
          5128503,
          5668422,
          5446424,
          4864731,
          4980964,
          5185193,
          4730214,
          4283961,
          3679607,
          3861748,
          3173105,
          3566048,
          5177407,
          4763126,
          3999988,
          4204905,
          4257147,
          3542651,
          3602424,
          4455179,
          4601529,
          4752320,
          5061911,
          4687503,
          5092102,
          4348457,
          4074761,
          4628679,
          5060409,
          3914614,
          4505383,
          4110359,
          3984463,
          3910259,
          3533774,
          3644894,
          5328631,
          5666326,
          5537856,
          6306922,
          4868177,
          4500944,
          4670109,
          4864643,
          5846198,
          5807701,
          6542480,
          6449282,
          5968087,
          5360775,
          5060848,
          5656421,
          5847352,
          5553036,
          4473411,
          5075707,
          5923171,
          4917020,
          3513183,
          7716438,
          3777781,
          18295471,
          3929479,
          4169642,
          4836157,
          4621046,
          4668768,
          4802033,
          5211257,
          5075644,
          5536054,
          5164552,
          5006348,
          4906339,
          5170811,
          5275056,
          4542129,
          3967592,
          3403940,
          4388871,
          4519250,
          4665498,
          6161625,
          3902742,
          4217030,
          8825198,
          5025376,
          4764157,
          4779258,
          4562284,
          4471996,
          5525389,
          6271830,
          5222067,
          5372737,
          5548046,
          5781654,
          4614957,
          5079820,
          4791034,
          5255368,
          4867446,
          4785579,
          6017969,
          4441060,
          3974090,
          4005142,
          3514895,
          4423268,
          4193646,
          4132107,
          4765933,
          4458555,
          4261322,
          5118600,
          5780321,
          5627414,
          5676365,
          5522817,
          5759423,
          5507291,
          5630794,
          5176369,
          5129380,
          5046982,
          6907018,
          6743349,
          4128892,
          5200025,
          4747586,
          4720697,
          4755083,
          3855310,
          4085849,
          4732840,
          4348425,
          4468345,
          4541793,
          4758567,
          4877440,
          5991156,
          5789862,
          5873569,
          5366335,
          5690877,
          5092376,
          4967379,
          4979978,
          4193360,
          4023603,
          4150388,
          4080214,
          4368481,
          4732815,
          4052372,
          7182592,
          7114098,
          4757202,
          3681566,
          4837616,
          4294361,
          4283179,
          4327288,
          7269591,
          5890407,
          5030572,
          5340448,
          5356062,
          6809408,
          5939686,
          6368269,
          5691686,
          5946610,
          4698471,
          5732750,
          3928542,
          4534312,
          3490997,
          4773579,
          6448657,
          7468810,
          8162004,
          12162295,
          7304973,
          5384680,
          4850749,
          5176094,
          4918701,
          6654262,
          6295107,
          6108033,
          5574002,
          5806288,
          6019703,
          4569754,
          4403267,
          4458915,
          5057836,
          5270196,
          5768592,
          6386629,
          6813537,
          4022629,
          4260616,
          3839199,
          4625811,
          4348371,
          4570459,
          5047629,
          5976330,
          4055080
         ],
         "yaxis": "y"
        },
        {
         "fillpattern": {
          "shape": ""
         },
         "hovertemplate": "Message Type=other<br>timestamp=%{x}<br>inout=%{y}<extra></extra>",
         "legendgroup": "other",
         "line": {
          "color": "#FFA15A"
         },
         "marker": {
          "symbol": "circle"
         },
         "mode": "lines",
         "name": "other",
         "orientation": "v",
         "showlegend": true,
         "stackgroup": "1",
         "type": "scatter",
         "x": [
          "2025-01-22 14:00:00+00:00",
          "2025-01-22 15:00:00+00:00",
          "2025-01-22 16:00:00+00:00",
          "2025-01-22 17:00:00+00:00",
          "2025-01-22 18:00:00+00:00",
          "2025-01-22 19:00:00+00:00",
          "2025-01-22 20:00:00+00:00",
          "2025-01-22 21:00:00+00:00",
          "2025-01-22 22:00:00+00:00",
          "2025-01-22 23:00:00+00:00",
          "2025-01-23 00:00:00+00:00",
          "2025-01-23 01:00:00+00:00",
          "2025-01-23 02:00:00+00:00",
          "2025-01-23 03:00:00+00:00",
          "2025-01-23 04:00:00+00:00",
          "2025-01-23 05:00:00+00:00",
          "2025-01-23 06:00:00+00:00",
          "2025-01-23 07:00:00+00:00",
          "2025-01-23 08:00:00+00:00",
          "2025-01-23 09:00:00+00:00",
          "2025-01-23 10:00:00+00:00",
          "2025-01-23 11:00:00+00:00",
          "2025-01-23 12:00:00+00:00",
          "2025-01-23 13:00:00+00:00",
          "2025-01-23 14:00:00+00:00",
          "2025-01-23 15:00:00+00:00",
          "2025-01-23 16:00:00+00:00",
          "2025-01-23 17:00:00+00:00",
          "2025-01-23 18:00:00+00:00",
          "2025-01-23 19:00:00+00:00",
          "2025-01-23 20:00:00+00:00",
          "2025-01-23 21:00:00+00:00",
          "2025-01-23 22:00:00+00:00",
          "2025-01-23 23:00:00+00:00",
          "2025-01-24 00:00:00+00:00",
          "2025-01-24 01:00:00+00:00",
          "2025-01-24 02:00:00+00:00",
          "2025-01-24 03:00:00+00:00",
          "2025-01-24 04:00:00+00:00",
          "2025-01-24 05:00:00+00:00",
          "2025-01-24 06:00:00+00:00",
          "2025-01-24 07:00:00+00:00",
          "2025-01-24 08:00:00+00:00",
          "2025-01-24 09:00:00+00:00",
          "2025-01-24 10:00:00+00:00",
          "2025-01-24 11:00:00+00:00",
          "2025-01-24 12:00:00+00:00",
          "2025-01-24 13:00:00+00:00",
          "2025-01-24 14:00:00+00:00",
          "2025-01-24 15:00:00+00:00",
          "2025-01-24 16:00:00+00:00",
          "2025-01-24 17:00:00+00:00",
          "2025-01-24 18:00:00+00:00",
          "2025-01-24 19:00:00+00:00",
          "2025-01-24 20:00:00+00:00",
          "2025-01-24 21:00:00+00:00",
          "2025-01-24 22:00:00+00:00",
          "2025-01-24 23:00:00+00:00",
          "2025-01-25 00:00:00+00:00",
          "2025-01-25 01:00:00+00:00",
          "2025-01-25 02:00:00+00:00",
          "2025-01-25 03:00:00+00:00",
          "2025-01-25 04:00:00+00:00",
          "2025-01-25 05:00:00+00:00",
          "2025-01-25 06:00:00+00:00",
          "2025-01-25 07:00:00+00:00",
          "2025-01-25 08:00:00+00:00",
          "2025-01-25 09:00:00+00:00",
          "2025-01-25 10:00:00+00:00",
          "2025-01-25 11:00:00+00:00",
          "2025-01-25 12:00:00+00:00",
          "2025-01-25 13:00:00+00:00",
          "2025-01-25 14:00:00+00:00",
          "2025-01-25 15:00:00+00:00",
          "2025-01-25 16:00:00+00:00",
          "2025-01-25 17:00:00+00:00",
          "2025-01-25 18:00:00+00:00",
          "2025-01-25 19:00:00+00:00",
          "2025-01-25 20:00:00+00:00",
          "2025-01-25 21:00:00+00:00",
          "2025-01-25 22:00:00+00:00",
          "2025-01-25 23:00:00+00:00",
          "2025-01-26 00:00:00+00:00",
          "2025-01-26 01:00:00+00:00",
          "2025-01-26 02:00:00+00:00",
          "2025-01-26 03:00:00+00:00",
          "2025-01-26 04:00:00+00:00",
          "2025-01-26 05:00:00+00:00",
          "2025-01-26 06:00:00+00:00",
          "2025-01-26 07:00:00+00:00",
          "2025-01-26 08:00:00+00:00",
          "2025-01-26 09:00:00+00:00",
          "2025-01-26 10:00:00+00:00",
          "2025-01-26 11:00:00+00:00",
          "2025-01-26 12:00:00+00:00",
          "2025-01-26 13:00:00+00:00",
          "2025-01-26 14:00:00+00:00",
          "2025-01-26 15:00:00+00:00",
          "2025-01-26 16:00:00+00:00",
          "2025-01-26 17:00:00+00:00",
          "2025-01-26 18:00:00+00:00",
          "2025-01-26 19:00:00+00:00",
          "2025-01-26 20:00:00+00:00",
          "2025-01-26 21:00:00+00:00",
          "2025-01-26 22:00:00+00:00",
          "2025-01-26 23:00:00+00:00",
          "2025-01-27 00:00:00+00:00",
          "2025-01-27 01:00:00+00:00",
          "2025-01-27 02:00:00+00:00",
          "2025-01-27 03:00:00+00:00",
          "2025-01-27 04:00:00+00:00",
          "2025-01-27 05:00:00+00:00",
          "2025-01-27 06:00:00+00:00",
          "2025-01-27 07:00:00+00:00",
          "2025-01-27 08:00:00+00:00",
          "2025-01-27 09:00:00+00:00",
          "2025-01-27 10:00:00+00:00",
          "2025-01-27 11:00:00+00:00",
          "2025-01-27 12:00:00+00:00",
          "2025-01-27 13:00:00+00:00",
          "2025-01-27 14:00:00+00:00",
          "2025-01-27 15:00:00+00:00",
          "2025-01-27 16:00:00+00:00",
          "2025-01-27 17:00:00+00:00",
          "2025-01-27 18:00:00+00:00",
          "2025-01-27 19:00:00+00:00",
          "2025-01-27 20:00:00+00:00",
          "2025-01-27 21:00:00+00:00",
          "2025-01-27 22:00:00+00:00",
          "2025-01-27 23:00:00+00:00",
          "2025-01-28 00:00:00+00:00",
          "2025-01-28 01:00:00+00:00",
          "2025-01-28 02:00:00+00:00",
          "2025-01-28 03:00:00+00:00",
          "2025-01-28 04:00:00+00:00",
          "2025-01-28 05:00:00+00:00",
          "2025-01-28 06:00:00+00:00",
          "2025-01-28 07:00:00+00:00",
          "2025-01-28 08:00:00+00:00",
          "2025-01-28 09:00:00+00:00",
          "2025-01-28 10:00:00+00:00",
          "2025-01-28 11:00:00+00:00",
          "2025-01-28 12:00:00+00:00",
          "2025-01-28 13:00:00+00:00",
          "2025-01-28 14:00:00+00:00",
          "2025-01-28 15:00:00+00:00",
          "2025-01-28 16:00:00+00:00",
          "2025-01-28 17:00:00+00:00",
          "2025-01-28 18:00:00+00:00",
          "2025-01-28 19:00:00+00:00",
          "2025-01-28 20:00:00+00:00",
          "2025-01-28 21:00:00+00:00",
          "2025-01-28 22:00:00+00:00",
          "2025-01-28 23:00:00+00:00",
          "2025-01-29 00:00:00+00:00",
          "2025-01-29 01:00:00+00:00",
          "2025-01-29 02:00:00+00:00",
          "2025-01-29 03:00:00+00:00",
          "2025-01-29 04:00:00+00:00",
          "2025-01-29 05:00:00+00:00",
          "2025-01-29 06:00:00+00:00",
          "2025-01-29 07:00:00+00:00",
          "2025-01-29 08:00:00+00:00",
          "2025-01-29 09:00:00+00:00",
          "2025-01-29 10:00:00+00:00",
          "2025-01-29 11:00:00+00:00",
          "2025-01-29 12:00:00+00:00",
          "2025-01-29 13:00:00+00:00",
          "2025-01-29 14:00:00+00:00",
          "2025-01-29 15:00:00+00:00",
          "2025-01-29 16:00:00+00:00",
          "2025-01-29 17:00:00+00:00",
          "2025-01-29 18:00:00+00:00",
          "2025-01-29 19:00:00+00:00",
          "2025-01-29 20:00:00+00:00",
          "2025-01-29 21:00:00+00:00",
          "2025-01-29 22:00:00+00:00",
          "2025-01-29 23:00:00+00:00",
          "2025-01-30 00:00:00+00:00",
          "2025-01-30 01:00:00+00:00",
          "2025-01-30 02:00:00+00:00",
          "2025-01-30 03:00:00+00:00",
          "2025-01-30 04:00:00+00:00",
          "2025-01-30 05:00:00+00:00",
          "2025-01-30 06:00:00+00:00",
          "2025-01-30 07:00:00+00:00",
          "2025-01-30 08:00:00+00:00",
          "2025-01-30 09:00:00+00:00",
          "2025-01-30 10:00:00+00:00",
          "2025-01-30 11:00:00+00:00",
          "2025-01-30 12:00:00+00:00",
          "2025-01-30 13:00:00+00:00",
          "2025-01-30 14:00:00+00:00",
          "2025-01-30 15:00:00+00:00",
          "2025-01-30 16:00:00+00:00",
          "2025-01-30 17:00:00+00:00",
          "2025-01-30 18:00:00+00:00",
          "2025-01-30 19:00:00+00:00",
          "2025-01-30 20:00:00+00:00",
          "2025-01-30 21:00:00+00:00",
          "2025-01-30 22:00:00+00:00",
          "2025-01-30 23:00:00+00:00",
          "2025-01-31 00:00:00+00:00",
          "2025-01-31 01:00:00+00:00",
          "2025-01-31 02:00:00+00:00",
          "2025-01-31 03:00:00+00:00",
          "2025-01-31 04:00:00+00:00",
          "2025-01-31 05:00:00+00:00",
          "2025-01-31 06:00:00+00:00",
          "2025-01-31 07:00:00+00:00",
          "2025-01-31 08:00:00+00:00",
          "2025-01-31 09:00:00+00:00",
          "2025-01-31 10:00:00+00:00",
          "2025-01-31 11:00:00+00:00",
          "2025-01-31 12:00:00+00:00",
          "2025-01-31 13:00:00+00:00",
          "2025-01-31 14:00:00+00:00",
          "2025-01-31 15:00:00+00:00",
          "2025-01-31 16:00:00+00:00",
          "2025-01-31 17:00:00+00:00",
          "2025-01-31 18:00:00+00:00",
          "2025-01-31 19:00:00+00:00",
          "2025-01-31 20:00:00+00:00",
          "2025-01-31 21:00:00+00:00",
          "2025-01-31 22:00:00+00:00",
          "2025-01-31 23:00:00+00:00",
          "2025-02-01 00:00:00+00:00",
          "2025-02-01 01:00:00+00:00",
          "2025-02-01 02:00:00+00:00",
          "2025-02-01 03:00:00+00:00",
          "2025-02-01 04:00:00+00:00",
          "2025-02-01 05:00:00+00:00",
          "2025-02-01 06:00:00+00:00",
          "2025-02-01 07:00:00+00:00",
          "2025-02-01 08:00:00+00:00",
          "2025-02-01 09:00:00+00:00",
          "2025-02-01 10:00:00+00:00",
          "2025-02-01 11:00:00+00:00",
          "2025-02-01 12:00:00+00:00",
          "2025-02-01 13:00:00+00:00",
          "2025-02-01 14:00:00+00:00",
          "2025-02-01 15:00:00+00:00",
          "2025-02-01 16:00:00+00:00",
          "2025-02-01 17:00:00+00:00",
          "2025-02-01 18:00:00+00:00",
          "2025-02-01 19:00:00+00:00",
          "2025-02-01 20:00:00+00:00",
          "2025-02-01 21:00:00+00:00",
          "2025-02-01 22:00:00+00:00",
          "2025-02-01 23:00:00+00:00",
          "2025-02-02 00:00:00+00:00",
          "2025-02-02 01:00:00+00:00",
          "2025-02-02 02:00:00+00:00",
          "2025-02-02 03:00:00+00:00",
          "2025-02-02 04:00:00+00:00",
          "2025-02-02 05:00:00+00:00",
          "2025-02-02 06:00:00+00:00",
          "2025-02-02 07:00:00+00:00",
          "2025-02-02 08:00:00+00:00",
          "2025-02-02 09:00:00+00:00",
          "2025-02-02 10:00:00+00:00",
          "2025-02-02 11:00:00+00:00",
          "2025-02-02 12:00:00+00:00",
          "2025-02-02 13:00:00+00:00",
          "2025-02-02 14:00:00+00:00",
          "2025-02-02 15:00:00+00:00",
          "2025-02-02 16:00:00+00:00",
          "2025-02-02 17:00:00+00:00",
          "2025-02-02 18:00:00+00:00",
          "2025-02-02 19:00:00+00:00",
          "2025-02-02 20:00:00+00:00",
          "2025-02-02 21:00:00+00:00",
          "2025-02-02 22:00:00+00:00",
          "2025-02-02 23:00:00+00:00",
          "2025-02-03 00:00:00+00:00",
          "2025-02-03 01:00:00+00:00",
          "2025-02-03 02:00:00+00:00",
          "2025-02-03 03:00:00+00:00",
          "2025-02-03 04:00:00+00:00",
          "2025-02-03 05:00:00+00:00",
          "2025-02-03 06:00:00+00:00",
          "2025-02-03 07:00:00+00:00",
          "2025-02-03 08:00:00+00:00",
          "2025-02-03 09:00:00+00:00",
          "2025-02-03 10:00:00+00:00",
          "2025-02-03 11:00:00+00:00",
          "2025-02-03 12:00:00+00:00"
         ],
         "xaxis": "x",
         "y": [
          442506,
          303073,
          187699,
          231848,
          217141,
          191060,
          337348,
          186712,
          178748,
          184423,
          195435,
          176963,
          175509,
          183551,
          173496,
          178081,
          357221,
          548155,
          453104,
          460756,
          322742,
          645981,
          446328,
          561458,
          608728,
          464395,
          340301,
          593145,
          617335,
          413413,
          544799,
          535677,
          441745,
          433674,
          505749,
          600752,
          430458,
          431960,
          411160,
          603302,
          331498,
          610931,
          347571,
          293270,
          286156,
          281225,
          313800,
          340006,
          327449,
          279382,
          362098,
          356397,
          298778,
          321147,
          352026,
          453801,
          410009,
          251757,
          241443,
          328497,
          240500,
          285427,
          343373,
          286903,
          347039,
          352484,
          333261,
          359745,
          302627,
          449701,
          440792,
          470095,
          341819,
          523525,
          452810,
          338679,
          597951,
          421316,
          398751,
          343031,
          376787,
          379227,
          438754,
          345182,
          366138,
          379206,
          379176,
          253169,
          554596,
          461640,
          347831,
          428330,
          356516,
          316110,
          391767,
          401603,
          327622,
          403156,
          395278,
          372111,
          445043,
          411676,
          348426,
          439741,
          540381,
          516200,
          446990,
          381850,
          459498,
          462975,
          391838,
          344105,
          539283,
          502612,
          334959,
          703091,
          476862,
          430647,
          322558,
          618120,
          429053,
          524087,
          514062,
          654399,
          514653,
          238267,
          595513,
          377177,
          537978,
          653304,
          462144,
          301414,
          645878,
          378564,
          398844,
          445360,
          391198,
          695884,
          367096,
          424334,
          500321,
          484376,
          423958,
          396003,
          454402,
          528833,
          529183,
          563167,
          471444,
          429498,
          434712,
          518115,
          469895,
          351692,
          381892,
          517527,
          407791,
          504693,
          594999,
          444231,
          447566,
          796477,
          511631,
          453186,
          425326,
          409342,
          398359,
          462391,
          377888,
          486174,
          348430,
          483835,
          448388,
          413006,
          465107,
          399997,
          391321,
          432797,
          429638,
          501353,
          474853,
          362743,
          390952,
          404356,
          534748,
          382211,
          389232,
          512038,
          337343,
          415460,
          494147,
          576451,
          512401,
          359986,
          589553,
          559554,
          466555,
          557007,
          529216,
          477063,
          437054,
          806794,
          677049,
          416575,
          363190,
          652859,
          394365,
          685503,
          389863,
          431203,
          419178,
          392483,
          509049,
          355267,
          462513,
          526034,
          505473,
          477409,
          438799,
          469298,
          547269,
          428578,
          486591,
          499227,
          520491,
          467410,
          474550,
          494157,
          386239,
          351518,
          319041,
          526355,
          492025,
          421660,
          331295,
          412929,
          334889,
          352926,
          385041,
          455055,
          460633,
          370034,
          409808,
          333494,
          531019,
          508496,
          481525,
          432608,
          378225,
          400630,
          370564,
          308240,
          360769,
          318476,
          413391,
          320607,
          607535,
          523447,
          574730,
          591740,
          444691,
          454412,
          529915,
          451130,
          640263,
          543719,
          561931,
          531445,
          513681,
          613611,
          329631,
          642838,
          379500,
          495588,
          501686,
          409713,
          642525,
          595872,
          365543,
          383352,
          438101,
          451241,
          292199,
          336737,
          418283,
          453127,
          210787
         ],
         "yaxis": "y"
        },
        {
         "fillpattern": {
          "shape": ""
         },
         "hovertemplate": "Message Type=blocktxn<br>timestamp=%{x}<br>inout=%{y}<extra></extra>",
         "legendgroup": "blocktxn",
         "line": {
          "color": "#19d3f3"
         },
         "marker": {
          "symbol": "circle"
         },
         "mode": "lines",
         "name": "blocktxn",
         "orientation": "v",
         "showlegend": true,
         "stackgroup": "1",
         "type": "scatter",
         "x": [
          "2025-01-23 06:00:00+00:00",
          "2025-01-23 07:00:00+00:00",
          "2025-01-23 08:00:00+00:00",
          "2025-01-23 09:00:00+00:00",
          "2025-01-23 10:00:00+00:00",
          "2025-01-23 11:00:00+00:00",
          "2025-01-23 12:00:00+00:00",
          "2025-01-23 13:00:00+00:00",
          "2025-01-23 14:00:00+00:00",
          "2025-01-23 15:00:00+00:00",
          "2025-01-23 16:00:00+00:00",
          "2025-01-23 17:00:00+00:00",
          "2025-01-23 18:00:00+00:00",
          "2025-01-23 19:00:00+00:00",
          "2025-01-23 20:00:00+00:00",
          "2025-01-23 21:00:00+00:00",
          "2025-01-23 22:00:00+00:00",
          "2025-01-23 23:00:00+00:00",
          "2025-01-24 00:00:00+00:00",
          "2025-01-24 01:00:00+00:00",
          "2025-01-24 02:00:00+00:00",
          "2025-01-24 03:00:00+00:00",
          "2025-01-24 04:00:00+00:00",
          "2025-01-24 05:00:00+00:00",
          "2025-01-24 06:00:00+00:00",
          "2025-01-24 07:00:00+00:00",
          "2025-01-24 08:00:00+00:00",
          "2025-01-24 09:00:00+00:00",
          "2025-01-24 10:00:00+00:00",
          "2025-01-24 11:00:00+00:00",
          "2025-01-24 12:00:00+00:00",
          "2025-01-24 13:00:00+00:00",
          "2025-01-24 14:00:00+00:00",
          "2025-01-24 15:00:00+00:00",
          "2025-01-24 17:00:00+00:00",
          "2025-01-24 18:00:00+00:00",
          "2025-01-24 19:00:00+00:00",
          "2025-01-24 20:00:00+00:00",
          "2025-01-24 21:00:00+00:00",
          "2025-01-24 22:00:00+00:00",
          "2025-01-24 23:00:00+00:00",
          "2025-01-25 00:00:00+00:00",
          "2025-01-25 01:00:00+00:00",
          "2025-01-25 03:00:00+00:00",
          "2025-01-25 04:00:00+00:00",
          "2025-01-25 05:00:00+00:00",
          "2025-01-25 06:00:00+00:00",
          "2025-01-25 07:00:00+00:00",
          "2025-01-25 08:00:00+00:00",
          "2025-01-25 09:00:00+00:00",
          "2025-01-25 10:00:00+00:00",
          "2025-01-25 11:00:00+00:00",
          "2025-01-25 12:00:00+00:00",
          "2025-01-25 13:00:00+00:00",
          "2025-01-25 15:00:00+00:00",
          "2025-01-25 16:00:00+00:00",
          "2025-01-25 18:00:00+00:00",
          "2025-01-25 19:00:00+00:00",
          "2025-01-25 20:00:00+00:00",
          "2025-01-25 21:00:00+00:00",
          "2025-01-25 22:00:00+00:00",
          "2025-01-25 23:00:00+00:00",
          "2025-01-26 00:00:00+00:00",
          "2025-01-26 01:00:00+00:00",
          "2025-01-26 02:00:00+00:00",
          "2025-01-26 03:00:00+00:00",
          "2025-01-26 04:00:00+00:00",
          "2025-01-26 05:00:00+00:00",
          "2025-01-26 06:00:00+00:00",
          "2025-01-26 07:00:00+00:00",
          "2025-01-26 08:00:00+00:00",
          "2025-01-26 09:00:00+00:00",
          "2025-01-26 10:00:00+00:00",
          "2025-01-26 12:00:00+00:00",
          "2025-01-26 13:00:00+00:00",
          "2025-01-26 14:00:00+00:00",
          "2025-01-26 15:00:00+00:00",
          "2025-01-26 16:00:00+00:00",
          "2025-01-26 17:00:00+00:00",
          "2025-01-26 18:00:00+00:00",
          "2025-01-26 19:00:00+00:00",
          "2025-01-26 20:00:00+00:00",
          "2025-01-26 22:00:00+00:00",
          "2025-01-26 23:00:00+00:00",
          "2025-01-27 00:00:00+00:00",
          "2025-01-27 01:00:00+00:00",
          "2025-01-27 02:00:00+00:00",
          "2025-01-27 03:00:00+00:00",
          "2025-01-27 04:00:00+00:00",
          "2025-01-27 05:00:00+00:00",
          "2025-01-27 06:00:00+00:00",
          "2025-01-27 07:00:00+00:00",
          "2025-01-27 08:00:00+00:00",
          "2025-01-27 09:00:00+00:00",
          "2025-01-27 10:00:00+00:00",
          "2025-01-27 12:00:00+00:00",
          "2025-01-27 13:00:00+00:00",
          "2025-01-27 14:00:00+00:00",
          "2025-01-27 15:00:00+00:00",
          "2025-01-27 16:00:00+00:00",
          "2025-01-27 17:00:00+00:00",
          "2025-01-27 18:00:00+00:00",
          "2025-01-27 20:00:00+00:00",
          "2025-01-27 21:00:00+00:00",
          "2025-01-27 22:00:00+00:00",
          "2025-01-27 23:00:00+00:00",
          "2025-01-28 00:00:00+00:00",
          "2025-01-28 01:00:00+00:00",
          "2025-01-28 02:00:00+00:00",
          "2025-01-28 03:00:00+00:00",
          "2025-01-28 04:00:00+00:00",
          "2025-01-28 05:00:00+00:00",
          "2025-01-28 06:00:00+00:00",
          "2025-01-28 07:00:00+00:00",
          "2025-01-28 08:00:00+00:00",
          "2025-01-28 09:00:00+00:00",
          "2025-01-28 10:00:00+00:00",
          "2025-01-28 12:00:00+00:00",
          "2025-01-28 13:00:00+00:00",
          "2025-01-28 14:00:00+00:00",
          "2025-01-28 15:00:00+00:00",
          "2025-01-28 16:00:00+00:00",
          "2025-01-28 17:00:00+00:00",
          "2025-01-28 18:00:00+00:00",
          "2025-01-28 19:00:00+00:00",
          "2025-01-28 20:00:00+00:00",
          "2025-01-28 21:00:00+00:00",
          "2025-01-28 22:00:00+00:00",
          "2025-01-28 23:00:00+00:00",
          "2025-01-29 00:00:00+00:00",
          "2025-01-29 01:00:00+00:00",
          "2025-01-29 02:00:00+00:00",
          "2025-01-29 03:00:00+00:00",
          "2025-01-29 04:00:00+00:00",
          "2025-01-29 05:00:00+00:00",
          "2025-01-29 06:00:00+00:00",
          "2025-01-29 07:00:00+00:00",
          "2025-01-29 08:00:00+00:00",
          "2025-01-29 09:00:00+00:00",
          "2025-01-29 10:00:00+00:00",
          "2025-01-29 12:00:00+00:00",
          "2025-01-29 13:00:00+00:00",
          "2025-01-29 14:00:00+00:00",
          "2025-01-29 15:00:00+00:00",
          "2025-01-29 17:00:00+00:00",
          "2025-01-29 18:00:00+00:00",
          "2025-01-29 19:00:00+00:00",
          "2025-01-29 20:00:00+00:00",
          "2025-01-29 21:00:00+00:00",
          "2025-01-29 22:00:00+00:00",
          "2025-01-29 23:00:00+00:00",
          "2025-01-30 00:00:00+00:00",
          "2025-01-30 01:00:00+00:00",
          "2025-01-30 02:00:00+00:00",
          "2025-01-30 03:00:00+00:00",
          "2025-01-30 04:00:00+00:00",
          "2025-01-30 06:00:00+00:00",
          "2025-01-30 07:00:00+00:00",
          "2025-01-30 09:00:00+00:00",
          "2025-01-30 10:00:00+00:00",
          "2025-01-30 11:00:00+00:00",
          "2025-01-30 12:00:00+00:00",
          "2025-01-30 13:00:00+00:00",
          "2025-01-30 14:00:00+00:00",
          "2025-01-30 15:00:00+00:00",
          "2025-01-30 16:00:00+00:00",
          "2025-01-30 17:00:00+00:00",
          "2025-01-30 18:00:00+00:00",
          "2025-01-30 19:00:00+00:00",
          "2025-01-30 20:00:00+00:00",
          "2025-01-30 21:00:00+00:00",
          "2025-01-30 22:00:00+00:00",
          "2025-01-30 23:00:00+00:00",
          "2025-01-31 00:00:00+00:00",
          "2025-01-31 01:00:00+00:00",
          "2025-01-31 03:00:00+00:00",
          "2025-01-31 05:00:00+00:00",
          "2025-01-31 06:00:00+00:00",
          "2025-01-31 07:00:00+00:00",
          "2025-01-31 08:00:00+00:00",
          "2025-01-31 09:00:00+00:00",
          "2025-01-31 10:00:00+00:00",
          "2025-01-31 11:00:00+00:00",
          "2025-01-31 12:00:00+00:00",
          "2025-01-31 13:00:00+00:00",
          "2025-01-31 14:00:00+00:00",
          "2025-01-31 17:00:00+00:00",
          "2025-01-31 18:00:00+00:00",
          "2025-01-31 19:00:00+00:00",
          "2025-01-31 20:00:00+00:00",
          "2025-01-31 21:00:00+00:00",
          "2025-01-31 22:00:00+00:00",
          "2025-01-31 23:00:00+00:00",
          "2025-02-01 00:00:00+00:00",
          "2025-02-01 01:00:00+00:00",
          "2025-02-01 02:00:00+00:00",
          "2025-02-01 03:00:00+00:00",
          "2025-02-01 04:00:00+00:00",
          "2025-02-01 05:00:00+00:00",
          "2025-02-01 06:00:00+00:00",
          "2025-02-01 07:00:00+00:00",
          "2025-02-01 08:00:00+00:00",
          "2025-02-01 09:00:00+00:00",
          "2025-02-01 10:00:00+00:00",
          "2025-02-01 11:00:00+00:00",
          "2025-02-01 12:00:00+00:00",
          "2025-02-01 13:00:00+00:00",
          "2025-02-01 15:00:00+00:00",
          "2025-02-01 16:00:00+00:00",
          "2025-02-01 18:00:00+00:00",
          "2025-02-01 19:00:00+00:00",
          "2025-02-01 20:00:00+00:00",
          "2025-02-01 21:00:00+00:00",
          "2025-02-01 22:00:00+00:00",
          "2025-02-01 23:00:00+00:00",
          "2025-02-02 00:00:00+00:00",
          "2025-02-02 01:00:00+00:00",
          "2025-02-02 02:00:00+00:00",
          "2025-02-02 05:00:00+00:00",
          "2025-02-02 06:00:00+00:00",
          "2025-02-02 07:00:00+00:00",
          "2025-02-02 08:00:00+00:00",
          "2025-02-02 09:00:00+00:00",
          "2025-02-02 10:00:00+00:00",
          "2025-02-02 12:00:00+00:00",
          "2025-02-02 14:00:00+00:00",
          "2025-02-02 19:00:00+00:00",
          "2025-02-02 21:00:00+00:00",
          "2025-02-02 22:00:00+00:00",
          "2025-02-02 23:00:00+00:00",
          "2025-02-03 02:00:00+00:00",
          "2025-02-03 03:00:00+00:00",
          "2025-02-03 04:00:00+00:00",
          "2025-02-03 06:00:00+00:00",
          "2025-02-03 09:00:00+00:00"
         ],
         "xaxis": "x",
         "y": [
          2075535,
          1011068,
          38905,
          7055,
          2083,
          40295,
          8214,
          13416,
          2439259,
          16463,
          8937,
          23298,
          13237,
          13549,
          10105,
          6779,
          3128,
          2587,
          7493,
          42589,
          387909,
          9792,
          1247296,
          61154,
          25162,
          16837,
          37333,
          89399,
          26432,
          931,
          1635,
          1431,
          6159,
          764,
          3302,
          765,
          5070,
          2331,
          706,
          9150,
          6115,
          1641,
          9795,
          4985,
          7056,
          2474,
          177576,
          8355941,
          31108,
          176450,
          14820,
          205385,
          965,
          4874,
          7584,
          3906,
          7258,
          1584,
          17357,
          655,
          2308348,
          262042,
          23199575,
          3138414,
          846034,
          771563,
          468218,
          634,
          2926,
          23639,
          3354,
          72575,
          364682,
          3180,
          3295584,
          88634,
          32556,
          31830,
          1940,
          570727,
          669911,
          65655,
          45048,
          1899,
          761817,
          1624424,
          3399544,
          1418792,
          773522,
          18016646,
          716424,
          11010,
          3524,
          10017,
          1370,
          59830,
          10268,
          87851,
          8701,
          3490,
          6984,
          683790,
          9920,
          2118,
          2956,
          672390,
          2540630,
          4008,
          16168,
          612201,
          149637,
          61103,
          920,
          472809,
          8076,
          3729,
          6604662,
          4826,
          452,
          1529,
          15015,
          1938,
          5001,
          1985,
          1791,
          2284,
          11918,
          19302,
          6575,
          9695,
          5074,
          3395,
          890,
          1150680,
          992931,
          6811851,
          175415,
          13908,
          1303,
          15488,
          752,
          14511,
          3685,
          1487,
          2529,
          1310,
          9450,
          13472,
          14922,
          3163,
          5130,
          12410,
          9034,
          16705,
          6296354,
          139896,
          2282,
          6642,
          7761,
          2287,
          2489,
          1344,
          3900,
          5124,
          4122,
          9287,
          28535,
          1090,
          664,
          662,
          9790,
          6428,
          428213,
          37630,
          22674,
          6400,
          882557,
          19250,
          69843,
          1074,
          1052,
          3656,
          100962,
          2067,
          1514,
          2357,
          1866,
          33951,
          12708,
          3272,
          594,
          4563,
          9232,
          6218,
          301,
          660,
          4968,
          3562,
          137288,
          97353,
          11607,
          3490,
          1496,
          600,
          3096,
          102720,
          295626,
          10059,
          1732,
          2842,
          65201,
          42604,
          2047,
          934,
          3752,
          664,
          4135965,
          2187444,
          141526,
          938,
          312958,
          1051,
          664,
          1862,
          2511,
          1550,
          1618,
          5429,
          1666,
          2399,
          28449,
          3246,
          70864,
          6711,
          443
         ],
         "yaxis": "y"
        },
        {
         "fillpattern": {
          "shape": ""
         },
         "hovertemplate": "Message Type=reject<br>timestamp=%{x}<br>inout=%{y}<extra></extra>",
         "legendgroup": "reject",
         "line": {
          "color": "#FF6692"
         },
         "marker": {
          "symbol": "circle"
         },
         "mode": "lines",
         "name": "reject",
         "orientation": "v",
         "showlegend": true,
         "stackgroup": "1",
         "type": "scatter",
         "x": [
          "2025-01-23 06:00:00+00:00",
          "2025-01-23 07:00:00+00:00",
          "2025-01-23 08:00:00+00:00",
          "2025-01-23 09:00:00+00:00",
          "2025-01-23 10:00:00+00:00",
          "2025-01-23 11:00:00+00:00",
          "2025-01-23 12:00:00+00:00",
          "2025-01-23 13:00:00+00:00",
          "2025-01-23 14:00:00+00:00",
          "2025-01-23 15:00:00+00:00",
          "2025-01-23 16:00:00+00:00",
          "2025-01-23 17:00:00+00:00",
          "2025-01-23 18:00:00+00:00",
          "2025-01-23 19:00:00+00:00",
          "2025-01-23 20:00:00+00:00",
          "2025-01-23 21:00:00+00:00",
          "2025-01-23 22:00:00+00:00",
          "2025-01-23 23:00:00+00:00",
          "2025-01-24 00:00:00+00:00",
          "2025-01-24 01:00:00+00:00",
          "2025-01-24 02:00:00+00:00",
          "2025-01-24 03:00:00+00:00",
          "2025-01-24 04:00:00+00:00",
          "2025-01-24 05:00:00+00:00",
          "2025-01-24 06:00:00+00:00",
          "2025-01-24 07:00:00+00:00",
          "2025-01-24 08:00:00+00:00",
          "2025-01-24 09:00:00+00:00",
          "2025-01-24 10:00:00+00:00",
          "2025-01-24 11:00:00+00:00",
          "2025-01-24 12:00:00+00:00",
          "2025-01-24 13:00:00+00:00",
          "2025-01-24 14:00:00+00:00",
          "2025-01-24 15:00:00+00:00",
          "2025-01-24 16:00:00+00:00",
          "2025-01-24 17:00:00+00:00",
          "2025-01-24 18:00:00+00:00",
          "2025-01-24 19:00:00+00:00",
          "2025-01-24 20:00:00+00:00",
          "2025-01-24 21:00:00+00:00",
          "2025-01-24 22:00:00+00:00",
          "2025-01-24 23:00:00+00:00",
          "2025-01-25 00:00:00+00:00",
          "2025-01-25 01:00:00+00:00",
          "2025-01-25 02:00:00+00:00",
          "2025-01-25 03:00:00+00:00",
          "2025-01-25 04:00:00+00:00",
          "2025-01-25 05:00:00+00:00",
          "2025-01-25 06:00:00+00:00",
          "2025-01-25 07:00:00+00:00",
          "2025-01-25 08:00:00+00:00",
          "2025-01-25 09:00:00+00:00",
          "2025-01-25 10:00:00+00:00",
          "2025-01-25 11:00:00+00:00",
          "2025-01-25 12:00:00+00:00",
          "2025-01-25 13:00:00+00:00",
          "2025-01-25 14:00:00+00:00",
          "2025-01-25 15:00:00+00:00",
          "2025-01-25 16:00:00+00:00",
          "2025-01-25 17:00:00+00:00",
          "2025-01-25 18:00:00+00:00",
          "2025-01-25 19:00:00+00:00",
          "2025-01-25 20:00:00+00:00",
          "2025-01-25 21:00:00+00:00",
          "2025-01-25 22:00:00+00:00",
          "2025-01-25 23:00:00+00:00",
          "2025-01-26 00:00:00+00:00",
          "2025-01-26 01:00:00+00:00",
          "2025-01-26 02:00:00+00:00",
          "2025-01-26 03:00:00+00:00",
          "2025-01-26 04:00:00+00:00",
          "2025-01-26 05:00:00+00:00",
          "2025-01-26 06:00:00+00:00",
          "2025-01-26 07:00:00+00:00",
          "2025-01-26 08:00:00+00:00",
          "2025-01-26 09:00:00+00:00",
          "2025-01-26 10:00:00+00:00",
          "2025-01-26 11:00:00+00:00",
          "2025-01-26 12:00:00+00:00",
          "2025-01-26 13:00:00+00:00",
          "2025-01-26 14:00:00+00:00",
          "2025-01-26 15:00:00+00:00",
          "2025-01-26 16:00:00+00:00",
          "2025-01-26 17:00:00+00:00",
          "2025-01-26 18:00:00+00:00",
          "2025-01-26 19:00:00+00:00",
          "2025-01-26 20:00:00+00:00",
          "2025-01-26 21:00:00+00:00",
          "2025-01-26 22:00:00+00:00",
          "2025-01-26 23:00:00+00:00",
          "2025-01-27 00:00:00+00:00",
          "2025-01-27 01:00:00+00:00",
          "2025-01-27 02:00:00+00:00",
          "2025-01-27 03:00:00+00:00",
          "2025-01-27 04:00:00+00:00",
          "2025-01-27 05:00:00+00:00",
          "2025-01-27 06:00:00+00:00",
          "2025-01-27 07:00:00+00:00",
          "2025-01-27 08:00:00+00:00",
          "2025-01-27 09:00:00+00:00",
          "2025-01-27 10:00:00+00:00",
          "2025-01-27 11:00:00+00:00",
          "2025-01-27 12:00:00+00:00",
          "2025-01-27 13:00:00+00:00",
          "2025-01-27 14:00:00+00:00",
          "2025-01-27 15:00:00+00:00",
          "2025-01-27 16:00:00+00:00",
          "2025-01-27 17:00:00+00:00",
          "2025-01-27 18:00:00+00:00",
          "2025-01-27 19:00:00+00:00",
          "2025-01-27 20:00:00+00:00",
          "2025-01-27 21:00:00+00:00",
          "2025-01-27 22:00:00+00:00",
          "2025-01-27 23:00:00+00:00",
          "2025-01-28 00:00:00+00:00",
          "2025-01-28 01:00:00+00:00",
          "2025-01-28 02:00:00+00:00",
          "2025-01-28 03:00:00+00:00",
          "2025-01-28 04:00:00+00:00",
          "2025-01-28 05:00:00+00:00",
          "2025-01-28 06:00:00+00:00",
          "2025-01-28 07:00:00+00:00",
          "2025-01-28 08:00:00+00:00",
          "2025-01-28 09:00:00+00:00",
          "2025-01-28 10:00:00+00:00",
          "2025-01-28 11:00:00+00:00",
          "2025-01-28 12:00:00+00:00",
          "2025-01-28 13:00:00+00:00",
          "2025-01-28 14:00:00+00:00",
          "2025-01-28 15:00:00+00:00",
          "2025-01-28 16:00:00+00:00",
          "2025-01-28 17:00:00+00:00",
          "2025-01-28 18:00:00+00:00",
          "2025-01-28 19:00:00+00:00",
          "2025-01-28 20:00:00+00:00",
          "2025-01-28 21:00:00+00:00",
          "2025-01-28 22:00:00+00:00",
          "2025-01-28 23:00:00+00:00",
          "2025-01-29 00:00:00+00:00",
          "2025-01-29 01:00:00+00:00",
          "2025-01-29 02:00:00+00:00",
          "2025-01-29 03:00:00+00:00",
          "2025-01-29 04:00:00+00:00",
          "2025-01-29 05:00:00+00:00",
          "2025-01-29 06:00:00+00:00",
          "2025-01-29 07:00:00+00:00",
          "2025-01-29 08:00:00+00:00",
          "2025-01-29 09:00:00+00:00",
          "2025-01-29 10:00:00+00:00",
          "2025-01-29 11:00:00+00:00",
          "2025-01-29 12:00:00+00:00",
          "2025-01-29 13:00:00+00:00",
          "2025-01-29 14:00:00+00:00",
          "2025-01-29 15:00:00+00:00",
          "2025-01-29 16:00:00+00:00",
          "2025-01-29 17:00:00+00:00",
          "2025-01-29 18:00:00+00:00",
          "2025-01-29 19:00:00+00:00",
          "2025-01-29 20:00:00+00:00",
          "2025-01-29 21:00:00+00:00",
          "2025-01-29 22:00:00+00:00",
          "2025-01-29 23:00:00+00:00",
          "2025-01-30 00:00:00+00:00",
          "2025-01-30 01:00:00+00:00",
          "2025-01-30 02:00:00+00:00",
          "2025-01-30 03:00:00+00:00",
          "2025-01-30 04:00:00+00:00",
          "2025-01-30 05:00:00+00:00",
          "2025-01-30 06:00:00+00:00",
          "2025-01-30 07:00:00+00:00",
          "2025-01-30 08:00:00+00:00",
          "2025-01-30 09:00:00+00:00",
          "2025-01-30 10:00:00+00:00",
          "2025-01-30 11:00:00+00:00",
          "2025-01-30 12:00:00+00:00",
          "2025-01-30 13:00:00+00:00",
          "2025-01-30 14:00:00+00:00",
          "2025-01-30 15:00:00+00:00",
          "2025-01-30 16:00:00+00:00",
          "2025-01-30 17:00:00+00:00",
          "2025-01-30 18:00:00+00:00",
          "2025-01-30 19:00:00+00:00",
          "2025-01-30 20:00:00+00:00",
          "2025-01-30 21:00:00+00:00",
          "2025-01-30 22:00:00+00:00",
          "2025-01-30 23:00:00+00:00",
          "2025-01-31 00:00:00+00:00",
          "2025-01-31 01:00:00+00:00",
          "2025-01-31 02:00:00+00:00",
          "2025-01-31 03:00:00+00:00",
          "2025-01-31 04:00:00+00:00",
          "2025-01-31 05:00:00+00:00",
          "2025-01-31 06:00:00+00:00",
          "2025-01-31 07:00:00+00:00",
          "2025-01-31 08:00:00+00:00",
          "2025-01-31 09:00:00+00:00",
          "2025-01-31 10:00:00+00:00",
          "2025-01-31 11:00:00+00:00",
          "2025-01-31 12:00:00+00:00",
          "2025-01-31 13:00:00+00:00",
          "2025-01-31 14:00:00+00:00",
          "2025-01-31 15:00:00+00:00",
          "2025-01-31 16:00:00+00:00",
          "2025-01-31 17:00:00+00:00",
          "2025-01-31 18:00:00+00:00",
          "2025-01-31 19:00:00+00:00",
          "2025-01-31 20:00:00+00:00",
          "2025-01-31 21:00:00+00:00",
          "2025-01-31 22:00:00+00:00",
          "2025-01-31 23:00:00+00:00",
          "2025-02-01 00:00:00+00:00",
          "2025-02-01 01:00:00+00:00",
          "2025-02-01 02:00:00+00:00",
          "2025-02-01 03:00:00+00:00",
          "2025-02-01 04:00:00+00:00",
          "2025-02-01 05:00:00+00:00",
          "2025-02-01 06:00:00+00:00",
          "2025-02-01 07:00:00+00:00",
          "2025-02-01 08:00:00+00:00",
          "2025-02-01 09:00:00+00:00",
          "2025-02-01 10:00:00+00:00",
          "2025-02-01 11:00:00+00:00",
          "2025-02-01 12:00:00+00:00",
          "2025-02-01 13:00:00+00:00",
          "2025-02-01 14:00:00+00:00",
          "2025-02-01 15:00:00+00:00",
          "2025-02-01 16:00:00+00:00",
          "2025-02-01 17:00:00+00:00",
          "2025-02-01 18:00:00+00:00",
          "2025-02-01 19:00:00+00:00",
          "2025-02-01 20:00:00+00:00",
          "2025-02-01 21:00:00+00:00",
          "2025-02-01 22:00:00+00:00",
          "2025-02-01 23:00:00+00:00",
          "2025-02-02 00:00:00+00:00",
          "2025-02-02 01:00:00+00:00",
          "2025-02-02 02:00:00+00:00",
          "2025-02-02 03:00:00+00:00",
          "2025-02-02 04:00:00+00:00",
          "2025-02-02 05:00:00+00:00",
          "2025-02-02 06:00:00+00:00",
          "2025-02-02 07:00:00+00:00",
          "2025-02-02 08:00:00+00:00",
          "2025-02-02 09:00:00+00:00",
          "2025-02-02 10:00:00+00:00",
          "2025-02-02 11:00:00+00:00",
          "2025-02-02 12:00:00+00:00",
          "2025-02-02 13:00:00+00:00",
          "2025-02-02 14:00:00+00:00",
          "2025-02-02 15:00:00+00:00",
          "2025-02-02 16:00:00+00:00",
          "2025-02-02 17:00:00+00:00",
          "2025-02-02 18:00:00+00:00",
          "2025-02-02 19:00:00+00:00",
          "2025-02-02 20:00:00+00:00",
          "2025-02-02 21:00:00+00:00",
          "2025-02-02 22:00:00+00:00",
          "2025-02-02 23:00:00+00:00",
          "2025-02-03 00:00:00+00:00",
          "2025-02-03 01:00:00+00:00",
          "2025-02-03 02:00:00+00:00",
          "2025-02-03 03:00:00+00:00",
          "2025-02-03 04:00:00+00:00",
          "2025-02-03 05:00:00+00:00",
          "2025-02-03 06:00:00+00:00",
          "2025-02-03 07:00:00+00:00",
          "2025-02-03 08:00:00+00:00",
          "2025-02-03 09:00:00+00:00",
          "2025-02-03 10:00:00+00:00",
          "2025-02-03 11:00:00+00:00",
          "2025-02-03 12:00:00+00:00"
         ],
         "xaxis": "x",
         "y": [
          422785,
          523940,
          429945,
          379838,
          260629,
          375350,
          409148,
          612805,
          480643,
          294235,
          264625,
          266210,
          236738,
          205518,
          226923,
          370814,
          303954,
          276205,
          338360,
          493693,
          518445,
          381083,
          475853,
          1506155,
          745273,
          955825,
          834320,
          551595,
          999050,
          355853,
          328295,
          229685,
          227794,
          330785,
          624065,
          484305,
          424645,
          587180,
          1851148,
          2208484,
          1499408,
          248814,
          226245,
          237609,
          304378,
          587753,
          409760,
          429652,
          414082,
          410160,
          514107,
          426045,
          374495,
          762295,
          1222540,
          910975,
          1391885,
          501595,
          1088200,
          517280,
          355812,
          450704,
          483659,
          479660,
          280835,
          479060,
          561655,
          755545,
          440655,
          490795,
          373825,
          655935,
          1065670,
          1128425,
          482830,
          682375,
          320379,
          403386,
          359050,
          538045,
          633050,
          409885,
          526065,
          615240,
          522340,
          380260,
          358103,
          594038,
          394385,
          255869,
          402039,
          313930,
          303778,
          256214,
          238020,
          288955,
          785735,
          819470,
          868951,
          831085,
          461909,
          275868,
          317755,
          239165,
          331621,
          357385,
          728955,
          519545,
          417363,
          610620,
          264019,
          508845,
          608734,
          630078,
          442945,
          732565,
          765575,
          424390,
          228015,
          282824,
          237845,
          2484815,
          450695,
          229424,
          242075,
          280710,
          267550,
          380270,
          354680,
          293415,
          384425,
          262355,
          226940,
          197994,
          281473,
          330890,
          263506,
          287659,
          214047,
          425444,
          606705,
          729620,
          1073775,
          478520,
          460524,
          891980,
          550985,
          465825,
          464505,
          344288,
          288450,
          361863,
          722561,
          449675,
          327805,
          338350,
          398680,
          220905,
          232205,
          287021,
          337325,
          464930,
          534776,
          444620,
          402730,
          354600,
          320755,
          251994,
          518134,
          336815,
          293893,
          429980,
          334873,
          214089,
          405870,
          513079,
          422279,
          322726,
          284900,
          338865,
          318100,
          355996,
          267764,
          350371,
          437373,
          386870,
          535563,
          337785,
          842700,
          625209,
          675640,
          459289,
          287029,
          291740,
          502067,
          252356,
          251515,
          305534,
          290400,
          272774,
          372500,
          372075,
          381775,
          306780,
          296864,
          213000,
          234295,
          237710,
          176935,
          175670,
          210480,
          294586,
          395770,
          604985,
          463104,
          1524670,
          1309455,
          653215,
          250000,
          599705,
          320165,
          330100,
          290720,
          1137430,
          746844,
          352715,
          375320,
          470565,
          872820,
          606900,
          823144,
          587465,
          833385,
          413125,
          778560,
          331200,
          500010,
          285190,
          610529,
          1455540,
          1541960,
          1533205,
          3224405,
          1481070,
          1022730,
          585660,
          484295,
          525875,
          890904,
          787700,
          596315,
          276980,
          422471,
          432809,
          271660,
          268474,
          329625,
          524560,
          589530,
          727715,
          912743,
          1208600,
          326475,
          400500,
          245820,
          436725,
          323295,
          226095,
          390115,
          647695,
          631150
         ],
         "yaxis": "y"
        },
        {
         "fillpattern": {
          "shape": ""
         },
         "hovertemplate": "Message Type=tx<br>timestamp=%{x}<br>inout=%{y}<extra></extra>",
         "legendgroup": "tx",
         "line": {
          "color": "#B6E880"
         },
         "marker": {
          "symbol": "circle"
         },
         "mode": "lines",
         "name": "tx",
         "orientation": "v",
         "showlegend": true,
         "stackgroup": "1",
         "type": "scatter",
         "x": [
          "2025-01-23 06:00:00+00:00",
          "2025-01-23 07:00:00+00:00",
          "2025-01-23 08:00:00+00:00",
          "2025-01-23 09:00:00+00:00",
          "2025-01-23 10:00:00+00:00",
          "2025-01-23 11:00:00+00:00",
          "2025-01-23 12:00:00+00:00",
          "2025-01-23 13:00:00+00:00",
          "2025-01-23 14:00:00+00:00",
          "2025-01-23 15:00:00+00:00",
          "2025-01-23 16:00:00+00:00",
          "2025-01-23 17:00:00+00:00",
          "2025-01-23 18:00:00+00:00",
          "2025-01-23 19:00:00+00:00",
          "2025-01-23 20:00:00+00:00",
          "2025-01-23 21:00:00+00:00",
          "2025-01-23 22:00:00+00:00",
          "2025-01-23 23:00:00+00:00",
          "2025-01-24 00:00:00+00:00",
          "2025-01-24 01:00:00+00:00",
          "2025-01-24 02:00:00+00:00",
          "2025-01-24 03:00:00+00:00",
          "2025-01-24 04:00:00+00:00",
          "2025-01-24 05:00:00+00:00",
          "2025-01-24 06:00:00+00:00",
          "2025-01-24 07:00:00+00:00",
          "2025-01-24 08:00:00+00:00",
          "2025-01-24 09:00:00+00:00",
          "2025-01-24 10:00:00+00:00",
          "2025-01-24 11:00:00+00:00",
          "2025-01-24 12:00:00+00:00",
          "2025-01-24 13:00:00+00:00",
          "2025-01-24 14:00:00+00:00",
          "2025-01-24 15:00:00+00:00",
          "2025-01-24 16:00:00+00:00",
          "2025-01-24 17:00:00+00:00",
          "2025-01-24 18:00:00+00:00",
          "2025-01-24 19:00:00+00:00",
          "2025-01-24 20:00:00+00:00",
          "2025-01-24 21:00:00+00:00",
          "2025-01-24 22:00:00+00:00",
          "2025-01-24 23:00:00+00:00",
          "2025-01-25 00:00:00+00:00",
          "2025-01-25 01:00:00+00:00",
          "2025-01-25 02:00:00+00:00",
          "2025-01-25 03:00:00+00:00",
          "2025-01-25 04:00:00+00:00",
          "2025-01-25 05:00:00+00:00",
          "2025-01-25 06:00:00+00:00",
          "2025-01-25 07:00:00+00:00",
          "2025-01-25 08:00:00+00:00",
          "2025-01-25 09:00:00+00:00",
          "2025-01-25 10:00:00+00:00",
          "2025-01-25 11:00:00+00:00",
          "2025-01-25 12:00:00+00:00",
          "2025-01-25 13:00:00+00:00",
          "2025-01-25 14:00:00+00:00",
          "2025-01-25 15:00:00+00:00",
          "2025-01-25 16:00:00+00:00",
          "2025-01-25 17:00:00+00:00",
          "2025-01-25 18:00:00+00:00",
          "2025-01-25 19:00:00+00:00",
          "2025-01-25 20:00:00+00:00",
          "2025-01-25 21:00:00+00:00",
          "2025-01-25 22:00:00+00:00",
          "2025-01-25 23:00:00+00:00",
          "2025-01-26 00:00:00+00:00",
          "2025-01-26 01:00:00+00:00",
          "2025-01-26 02:00:00+00:00",
          "2025-01-26 03:00:00+00:00",
          "2025-01-26 04:00:00+00:00",
          "2025-01-26 05:00:00+00:00",
          "2025-01-26 06:00:00+00:00",
          "2025-01-26 07:00:00+00:00",
          "2025-01-26 08:00:00+00:00",
          "2025-01-26 09:00:00+00:00",
          "2025-01-26 10:00:00+00:00",
          "2025-01-26 11:00:00+00:00",
          "2025-01-26 12:00:00+00:00",
          "2025-01-26 13:00:00+00:00",
          "2025-01-26 14:00:00+00:00",
          "2025-01-26 15:00:00+00:00",
          "2025-01-26 16:00:00+00:00",
          "2025-01-26 17:00:00+00:00",
          "2025-01-26 18:00:00+00:00",
          "2025-01-26 19:00:00+00:00",
          "2025-01-26 20:00:00+00:00",
          "2025-01-26 21:00:00+00:00",
          "2025-01-26 22:00:00+00:00",
          "2025-01-26 23:00:00+00:00",
          "2025-01-27 00:00:00+00:00",
          "2025-01-27 01:00:00+00:00",
          "2025-01-27 02:00:00+00:00",
          "2025-01-27 03:00:00+00:00",
          "2025-01-27 04:00:00+00:00",
          "2025-01-27 05:00:00+00:00",
          "2025-01-27 06:00:00+00:00",
          "2025-01-27 07:00:00+00:00",
          "2025-01-27 08:00:00+00:00",
          "2025-01-27 09:00:00+00:00",
          "2025-01-27 10:00:00+00:00",
          "2025-01-27 11:00:00+00:00",
          "2025-01-27 12:00:00+00:00",
          "2025-01-27 13:00:00+00:00",
          "2025-01-27 14:00:00+00:00",
          "2025-01-27 15:00:00+00:00",
          "2025-01-27 16:00:00+00:00",
          "2025-01-27 17:00:00+00:00",
          "2025-01-27 18:00:00+00:00",
          "2025-01-27 19:00:00+00:00",
          "2025-01-27 20:00:00+00:00",
          "2025-01-27 21:00:00+00:00",
          "2025-01-27 22:00:00+00:00",
          "2025-01-27 23:00:00+00:00",
          "2025-01-28 00:00:00+00:00",
          "2025-01-28 01:00:00+00:00",
          "2025-01-28 02:00:00+00:00",
          "2025-01-28 03:00:00+00:00",
          "2025-01-28 04:00:00+00:00",
          "2025-01-28 05:00:00+00:00",
          "2025-01-28 06:00:00+00:00",
          "2025-01-28 07:00:00+00:00",
          "2025-01-28 08:00:00+00:00",
          "2025-01-28 09:00:00+00:00",
          "2025-01-28 10:00:00+00:00",
          "2025-01-28 11:00:00+00:00",
          "2025-01-28 12:00:00+00:00",
          "2025-01-28 13:00:00+00:00",
          "2025-01-28 14:00:00+00:00",
          "2025-01-28 15:00:00+00:00",
          "2025-01-28 16:00:00+00:00",
          "2025-01-28 17:00:00+00:00",
          "2025-01-28 18:00:00+00:00",
          "2025-01-28 19:00:00+00:00",
          "2025-01-28 20:00:00+00:00",
          "2025-01-28 21:00:00+00:00",
          "2025-01-28 22:00:00+00:00",
          "2025-01-28 23:00:00+00:00",
          "2025-01-29 00:00:00+00:00",
          "2025-01-29 01:00:00+00:00",
          "2025-01-29 02:00:00+00:00",
          "2025-01-29 03:00:00+00:00",
          "2025-01-29 04:00:00+00:00",
          "2025-01-29 05:00:00+00:00",
          "2025-01-29 06:00:00+00:00",
          "2025-01-29 07:00:00+00:00",
          "2025-01-29 08:00:00+00:00",
          "2025-01-29 09:00:00+00:00",
          "2025-01-29 10:00:00+00:00",
          "2025-01-29 11:00:00+00:00",
          "2025-01-29 12:00:00+00:00",
          "2025-01-29 13:00:00+00:00",
          "2025-01-29 14:00:00+00:00",
          "2025-01-29 15:00:00+00:00",
          "2025-01-29 16:00:00+00:00",
          "2025-01-29 17:00:00+00:00",
          "2025-01-29 18:00:00+00:00",
          "2025-01-29 19:00:00+00:00",
          "2025-01-29 20:00:00+00:00",
          "2025-01-29 21:00:00+00:00",
          "2025-01-29 22:00:00+00:00",
          "2025-01-29 23:00:00+00:00",
          "2025-01-30 00:00:00+00:00",
          "2025-01-30 01:00:00+00:00",
          "2025-01-30 02:00:00+00:00",
          "2025-01-30 03:00:00+00:00",
          "2025-01-30 04:00:00+00:00",
          "2025-01-30 05:00:00+00:00",
          "2025-01-30 06:00:00+00:00",
          "2025-01-30 07:00:00+00:00",
          "2025-01-30 08:00:00+00:00",
          "2025-01-30 09:00:00+00:00",
          "2025-01-30 10:00:00+00:00",
          "2025-01-30 11:00:00+00:00",
          "2025-01-30 12:00:00+00:00",
          "2025-01-30 13:00:00+00:00",
          "2025-01-30 14:00:00+00:00",
          "2025-01-30 15:00:00+00:00",
          "2025-01-30 16:00:00+00:00",
          "2025-01-30 17:00:00+00:00",
          "2025-01-30 18:00:00+00:00",
          "2025-01-30 19:00:00+00:00",
          "2025-01-30 20:00:00+00:00",
          "2025-01-30 21:00:00+00:00",
          "2025-01-30 22:00:00+00:00",
          "2025-01-30 23:00:00+00:00",
          "2025-01-31 00:00:00+00:00",
          "2025-01-31 01:00:00+00:00",
          "2025-01-31 02:00:00+00:00",
          "2025-01-31 03:00:00+00:00",
          "2025-01-31 04:00:00+00:00",
          "2025-01-31 05:00:00+00:00",
          "2025-01-31 06:00:00+00:00",
          "2025-01-31 07:00:00+00:00",
          "2025-01-31 08:00:00+00:00",
          "2025-01-31 09:00:00+00:00",
          "2025-01-31 10:00:00+00:00",
          "2025-01-31 11:00:00+00:00",
          "2025-01-31 12:00:00+00:00",
          "2025-01-31 13:00:00+00:00",
          "2025-01-31 14:00:00+00:00",
          "2025-01-31 15:00:00+00:00",
          "2025-01-31 16:00:00+00:00",
          "2025-01-31 17:00:00+00:00",
          "2025-01-31 18:00:00+00:00",
          "2025-01-31 19:00:00+00:00",
          "2025-01-31 20:00:00+00:00",
          "2025-01-31 21:00:00+00:00",
          "2025-01-31 22:00:00+00:00",
          "2025-01-31 23:00:00+00:00",
          "2025-02-01 00:00:00+00:00",
          "2025-02-01 01:00:00+00:00",
          "2025-02-01 02:00:00+00:00",
          "2025-02-01 03:00:00+00:00",
          "2025-02-01 04:00:00+00:00",
          "2025-02-01 05:00:00+00:00",
          "2025-02-01 06:00:00+00:00",
          "2025-02-01 07:00:00+00:00",
          "2025-02-01 08:00:00+00:00",
          "2025-02-01 09:00:00+00:00",
          "2025-02-01 10:00:00+00:00",
          "2025-02-01 11:00:00+00:00",
          "2025-02-01 12:00:00+00:00",
          "2025-02-01 13:00:00+00:00",
          "2025-02-01 14:00:00+00:00",
          "2025-02-01 15:00:00+00:00",
          "2025-02-01 16:00:00+00:00",
          "2025-02-01 17:00:00+00:00",
          "2025-02-01 18:00:00+00:00",
          "2025-02-01 19:00:00+00:00",
          "2025-02-01 20:00:00+00:00",
          "2025-02-01 21:00:00+00:00",
          "2025-02-01 22:00:00+00:00",
          "2025-02-01 23:00:00+00:00",
          "2025-02-02 00:00:00+00:00",
          "2025-02-02 01:00:00+00:00",
          "2025-02-02 02:00:00+00:00",
          "2025-02-02 03:00:00+00:00",
          "2025-02-02 04:00:00+00:00",
          "2025-02-02 05:00:00+00:00",
          "2025-02-02 06:00:00+00:00",
          "2025-02-02 07:00:00+00:00",
          "2025-02-02 08:00:00+00:00",
          "2025-02-02 09:00:00+00:00",
          "2025-02-02 10:00:00+00:00",
          "2025-02-02 11:00:00+00:00",
          "2025-02-02 12:00:00+00:00",
          "2025-02-02 13:00:00+00:00",
          "2025-02-02 14:00:00+00:00",
          "2025-02-02 15:00:00+00:00",
          "2025-02-02 16:00:00+00:00",
          "2025-02-02 17:00:00+00:00",
          "2025-02-02 18:00:00+00:00",
          "2025-02-02 19:00:00+00:00",
          "2025-02-02 20:00:00+00:00",
          "2025-02-02 21:00:00+00:00",
          "2025-02-02 22:00:00+00:00",
          "2025-02-02 23:00:00+00:00",
          "2025-02-03 00:00:00+00:00",
          "2025-02-03 01:00:00+00:00",
          "2025-02-03 02:00:00+00:00",
          "2025-02-03 03:00:00+00:00",
          "2025-02-03 04:00:00+00:00",
          "2025-02-03 05:00:00+00:00",
          "2025-02-03 06:00:00+00:00",
          "2025-02-03 07:00:00+00:00",
          "2025-02-03 08:00:00+00:00",
          "2025-02-03 09:00:00+00:00",
          "2025-02-03 10:00:00+00:00",
          "2025-02-03 11:00:00+00:00",
          "2025-02-03 12:00:00+00:00"
         ],
         "xaxis": "x",
         "y": [
          14429491,
          19335404,
          28521195,
          14340712,
          10293378,
          18172609,
          20409538,
          14708744,
          12860494,
          13454419,
          10026357,
          10754701,
          13162016,
          11978733,
          9100167,
          12870196,
          10873334,
          9430875,
          11527685,
          16435705,
          20644613,
          10001747,
          21685227,
          21867537,
          13552621,
          16489826,
          15876872,
          14187916,
          36570078,
          8831862,
          10703776,
          8209719,
          10444771,
          12819950,
          16918111,
          13252324,
          13306974,
          12802627,
          40222389,
          40478219,
          27345706,
          10364810,
          7696518,
          8134371,
          8574746,
          11671927,
          13446947,
          14150862,
          11007622,
          12699145,
          12375602,
          13647575,
          9423630,
          13358836,
          27564085,
          17685675,
          22529179,
          11369159,
          20074309,
          11183290,
          13323188,
          14550264,
          13770964,
          11210478,
          12561079,
          12332204,
          11675323,
          24882508,
          18177471,
          20956617,
          12408195,
          19512525,
          14714452,
          13159228,
          8395318,
          9531367,
          8653410,
          12255564,
          18667416,
          12188817,
          15083368,
          12919354,
          17696142,
          16707901,
          27973643,
          10744665,
          9878726,
          12146144,
          11872181,
          8497035,
          14329569,
          19203020,
          12304935,
          21299489,
          13838835,
          9365095,
          30314655,
          21713430,
          35284488,
          18158533,
          12380788,
          9585092,
          9389274,
          10535748,
          14385177,
          13231312,
          17493028,
          19658456,
          14050749,
          12016483,
          21505940,
          14678566,
          13062235,
          12153839,
          13846732,
          11706176,
          15185332,
          12476223,
          13590583,
          57211736,
          15765200,
          54794126,
          24930798,
          8725474,
          9792129,
          10763731,
          11863453,
          12689004,
          20917928,
          31677099,
          35118594,
          9763828,
          9887658,
          16612585,
          9333637,
          17937195,
          17951594,
          11218815,
          6518310,
          10406322,
          9632670,
          9827383,
          18097478,
          9341453,
          8984575,
          23613299,
          44565258,
          12738280,
          9915258,
          31211113,
          29780401,
          10367682,
          15028162,
          11460767,
          11312333,
          19976525,
          11325053,
          8665216,
          11812570,
          18180217,
          15349032,
          25971626,
          13925581,
          18149963,
          16304634,
          28368262,
          14060968,
          12978280,
          9331411,
          22736321,
          8732936,
          11298359,
          9642305,
          9234256,
          10621818,
          11501831,
          13728963,
          18677562,
          12225476,
          11084285,
          11551724,
          13012463,
          16492443,
          13801658,
          10445726,
          14380384,
          13620373,
          9161655,
          16240816,
          10241735,
          12092710,
          14694914,
          26227877,
          19151762,
          12903600,
          12305041,
          11057428,
          15293569,
          25730200,
          17482051,
          35439706,
          19776757,
          20840239,
          19712483,
          12945365,
          9657754,
          9864771,
          9931184,
          7173143,
          7551491,
          8634230,
          8084071,
          19746136,
          19165531,
          14557954,
          21095032,
          23788832,
          24670803,
          10222712,
          12668116,
          12751553,
          12816329,
          21608604,
          32855762,
          18428623,
          18634701,
          20439811,
          13218337,
          16887285,
          16495182,
          17203171,
          18640967,
          16098328,
          18195232,
          19192004,
          14737562,
          17778662,
          10748835,
          17960503,
          18438908,
          19614241,
          22278398,
          43922957,
          21172697,
          14616082,
          22394970,
          18188903,
          15117406,
          17405879,
          21530871,
          17612913,
          23852763,
          35958326,
          14244618,
          9729988,
          9447126,
          10585662,
          17247952,
          14235175,
          19210100,
          17529249,
          25216480,
          17286132,
          16209109,
          9413133,
          17737896,
          15311256,
          9729133,
          12711135,
          14442016,
          9490020
         ],
         "yaxis": "y"
        },
        {
         "line": {
          "color": "black",
          "width": 2
         },
         "mode": "lines",
         "name": "emp_hourly",
         "type": "scatter",
         "x": [
          "2025-01-22 14:00:00+00:00",
          "2025-01-22 15:00:00+00:00",
          "2025-01-22 16:00:00+00:00",
          "2025-01-22 17:00:00+00:00",
          "2025-01-22 18:00:00+00:00",
          "2025-01-22 19:00:00+00:00",
          "2025-01-22 20:00:00+00:00",
          "2025-01-22 21:00:00+00:00",
          "2025-01-22 22:00:00+00:00",
          "2025-01-22 23:00:00+00:00",
          "2025-01-23 00:00:00+00:00",
          "2025-01-23 01:00:00+00:00",
          "2025-01-23 02:00:00+00:00",
          "2025-01-23 03:00:00+00:00",
          "2025-01-23 04:00:00+00:00",
          "2025-01-23 05:00:00+00:00",
          "2025-01-23 06:00:00+00:00",
          "2025-01-23 07:00:00+00:00",
          "2025-01-23 08:00:00+00:00",
          "2025-01-23 09:00:00+00:00",
          "2025-01-23 10:00:00+00:00",
          "2025-01-23 11:00:00+00:00",
          "2025-01-23 12:00:00+00:00",
          "2025-01-23 13:00:00+00:00",
          "2025-01-23 14:00:00+00:00",
          "2025-01-23 15:00:00+00:00",
          "2025-01-23 16:00:00+00:00",
          "2025-01-23 17:00:00+00:00",
          "2025-01-23 18:00:00+00:00",
          "2025-01-23 19:00:00+00:00",
          "2025-01-23 20:00:00+00:00",
          "2025-01-23 21:00:00+00:00",
          "2025-01-23 22:00:00+00:00",
          "2025-01-23 23:00:00+00:00",
          "2025-01-24 00:00:00+00:00",
          "2025-01-24 01:00:00+00:00",
          "2025-01-24 02:00:00+00:00",
          "2025-01-24 03:00:00+00:00",
          "2025-01-24 04:00:00+00:00",
          "2025-01-24 05:00:00+00:00",
          "2025-01-24 06:00:00+00:00",
          "2025-01-24 07:00:00+00:00",
          "2025-01-24 08:00:00+00:00",
          "2025-01-24 09:00:00+00:00",
          "2025-01-24 10:00:00+00:00",
          "2025-01-24 11:00:00+00:00",
          "2025-01-24 12:00:00+00:00",
          "2025-01-24 13:00:00+00:00",
          "2025-01-24 14:00:00+00:00",
          "2025-01-24 15:00:00+00:00",
          "2025-01-24 16:00:00+00:00",
          "2025-01-24 17:00:00+00:00",
          "2025-01-24 18:00:00+00:00",
          "2025-01-24 19:00:00+00:00",
          "2025-01-24 20:00:00+00:00",
          "2025-01-24 21:00:00+00:00",
          "2025-01-24 22:00:00+00:00",
          "2025-01-24 23:00:00+00:00",
          "2025-01-25 00:00:00+00:00",
          "2025-01-25 01:00:00+00:00",
          "2025-01-25 02:00:00+00:00",
          "2025-01-25 03:00:00+00:00",
          "2025-01-25 04:00:00+00:00",
          "2025-01-25 05:00:00+00:00",
          "2025-01-25 06:00:00+00:00",
          "2025-01-25 07:00:00+00:00",
          "2025-01-25 08:00:00+00:00",
          "2025-01-25 09:00:00+00:00",
          "2025-01-25 10:00:00+00:00",
          "2025-01-25 11:00:00+00:00",
          "2025-01-25 12:00:00+00:00",
          "2025-01-25 13:00:00+00:00",
          "2025-01-25 14:00:00+00:00",
          "2025-01-25 15:00:00+00:00",
          "2025-01-25 16:00:00+00:00",
          "2025-01-25 17:00:00+00:00",
          "2025-01-25 18:00:00+00:00",
          "2025-01-25 19:00:00+00:00",
          "2025-01-25 20:00:00+00:00",
          "2025-01-25 21:00:00+00:00",
          "2025-01-25 22:00:00+00:00",
          "2025-01-25 23:00:00+00:00",
          "2025-01-26 00:00:00+00:00",
          "2025-01-26 01:00:00+00:00",
          "2025-01-26 02:00:00+00:00",
          "2025-01-26 03:00:00+00:00",
          "2025-01-26 04:00:00+00:00",
          "2025-01-26 05:00:00+00:00",
          "2025-01-26 06:00:00+00:00",
          "2025-01-26 07:00:00+00:00",
          "2025-01-26 08:00:00+00:00",
          "2025-01-26 09:00:00+00:00",
          "2025-01-26 10:00:00+00:00",
          "2025-01-26 11:00:00+00:00",
          "2025-01-26 12:00:00+00:00",
          "2025-01-26 13:00:00+00:00",
          "2025-01-26 14:00:00+00:00",
          "2025-01-26 15:00:00+00:00",
          "2025-01-26 16:00:00+00:00",
          "2025-01-26 17:00:00+00:00",
          "2025-01-26 18:00:00+00:00",
          "2025-01-26 19:00:00+00:00",
          "2025-01-26 20:00:00+00:00",
          "2025-01-26 21:00:00+00:00",
          "2025-01-26 22:00:00+00:00",
          "2025-01-26 23:00:00+00:00",
          "2025-01-27 00:00:00+00:00",
          "2025-01-27 01:00:00+00:00",
          "2025-01-27 02:00:00+00:00",
          "2025-01-27 03:00:00+00:00",
          "2025-01-27 04:00:00+00:00",
          "2025-01-27 05:00:00+00:00",
          "2025-01-27 06:00:00+00:00",
          "2025-01-27 07:00:00+00:00",
          "2025-01-27 08:00:00+00:00",
          "2025-01-27 09:00:00+00:00",
          "2025-01-27 10:00:00+00:00",
          "2025-01-27 11:00:00+00:00",
          "2025-01-27 12:00:00+00:00",
          "2025-01-27 13:00:00+00:00",
          "2025-01-27 14:00:00+00:00",
          "2025-01-27 15:00:00+00:00",
          "2025-01-27 16:00:00+00:00",
          "2025-01-27 17:00:00+00:00",
          "2025-01-27 18:00:00+00:00",
          "2025-01-27 19:00:00+00:00",
          "2025-01-27 20:00:00+00:00",
          "2025-01-27 21:00:00+00:00",
          "2025-01-27 22:00:00+00:00",
          "2025-01-27 23:00:00+00:00",
          "2025-01-28 00:00:00+00:00",
          "2025-01-28 01:00:00+00:00",
          "2025-01-28 02:00:00+00:00",
          "2025-01-28 03:00:00+00:00",
          "2025-01-28 04:00:00+00:00",
          "2025-01-28 05:00:00+00:00",
          "2025-01-28 06:00:00+00:00",
          "2025-01-28 07:00:00+00:00",
          "2025-01-28 08:00:00+00:00",
          "2025-01-28 09:00:00+00:00",
          "2025-01-28 10:00:00+00:00",
          "2025-01-28 11:00:00+00:00",
          "2025-01-28 12:00:00+00:00",
          "2025-01-28 13:00:00+00:00",
          "2025-01-28 14:00:00+00:00",
          "2025-01-28 15:00:00+00:00",
          "2025-01-28 16:00:00+00:00",
          "2025-01-28 17:00:00+00:00",
          "2025-01-28 18:00:00+00:00",
          "2025-01-28 19:00:00+00:00",
          "2025-01-28 20:00:00+00:00",
          "2025-01-28 21:00:00+00:00",
          "2025-01-28 22:00:00+00:00",
          "2025-01-28 23:00:00+00:00",
          "2025-01-29 00:00:00+00:00",
          "2025-01-29 01:00:00+00:00",
          "2025-01-29 02:00:00+00:00",
          "2025-01-29 03:00:00+00:00",
          "2025-01-29 04:00:00+00:00",
          "2025-01-29 05:00:00+00:00",
          "2025-01-29 06:00:00+00:00",
          "2025-01-29 07:00:00+00:00",
          "2025-01-29 08:00:00+00:00",
          "2025-01-29 09:00:00+00:00",
          "2025-01-29 10:00:00+00:00",
          "2025-01-29 11:00:00+00:00",
          "2025-01-29 12:00:00+00:00",
          "2025-01-29 13:00:00+00:00",
          "2025-01-29 14:00:00+00:00",
          "2025-01-29 15:00:00+00:00",
          "2025-01-29 16:00:00+00:00",
          "2025-01-29 17:00:00+00:00",
          "2025-01-29 18:00:00+00:00",
          "2025-01-29 19:00:00+00:00",
          "2025-01-29 20:00:00+00:00",
          "2025-01-29 21:00:00+00:00",
          "2025-01-29 22:00:00+00:00",
          "2025-01-29 23:00:00+00:00",
          "2025-01-30 00:00:00+00:00",
          "2025-01-30 01:00:00+00:00",
          "2025-01-30 02:00:00+00:00",
          "2025-01-30 03:00:00+00:00",
          "2025-01-30 04:00:00+00:00",
          "2025-01-30 05:00:00+00:00",
          "2025-01-30 06:00:00+00:00",
          "2025-01-30 07:00:00+00:00",
          "2025-01-30 08:00:00+00:00",
          "2025-01-30 09:00:00+00:00",
          "2025-01-30 10:00:00+00:00",
          "2025-01-30 11:00:00+00:00",
          "2025-01-30 12:00:00+00:00",
          "2025-01-30 13:00:00+00:00",
          "2025-01-30 14:00:00+00:00",
          "2025-01-30 15:00:00+00:00",
          "2025-01-30 16:00:00+00:00",
          "2025-01-30 17:00:00+00:00",
          "2025-01-30 18:00:00+00:00",
          "2025-01-30 19:00:00+00:00",
          "2025-01-30 20:00:00+00:00",
          "2025-01-30 21:00:00+00:00",
          "2025-01-30 22:00:00+00:00",
          "2025-01-30 23:00:00+00:00",
          "2025-01-31 00:00:00+00:00",
          "2025-01-31 01:00:00+00:00",
          "2025-01-31 02:00:00+00:00",
          "2025-01-31 03:00:00+00:00",
          "2025-01-31 04:00:00+00:00",
          "2025-01-31 05:00:00+00:00",
          "2025-01-31 06:00:00+00:00",
          "2025-01-31 07:00:00+00:00",
          "2025-01-31 08:00:00+00:00",
          "2025-01-31 09:00:00+00:00",
          "2025-01-31 10:00:00+00:00",
          "2025-01-31 11:00:00+00:00",
          "2025-01-31 12:00:00+00:00",
          "2025-01-31 13:00:00+00:00",
          "2025-01-31 14:00:00+00:00",
          "2025-01-31 15:00:00+00:00",
          "2025-01-31 16:00:00+00:00",
          "2025-01-31 17:00:00+00:00",
          "2025-01-31 18:00:00+00:00",
          "2025-01-31 19:00:00+00:00",
          "2025-01-31 20:00:00+00:00",
          "2025-01-31 21:00:00+00:00",
          "2025-01-31 22:00:00+00:00",
          "2025-01-31 23:00:00+00:00",
          "2025-02-01 00:00:00+00:00",
          "2025-02-01 01:00:00+00:00",
          "2025-02-01 02:00:00+00:00",
          "2025-02-01 03:00:00+00:00",
          "2025-02-01 04:00:00+00:00",
          "2025-02-01 05:00:00+00:00",
          "2025-02-01 06:00:00+00:00",
          "2025-02-01 07:00:00+00:00",
          "2025-02-01 08:00:00+00:00",
          "2025-02-01 09:00:00+00:00",
          "2025-02-01 10:00:00+00:00",
          "2025-02-01 11:00:00+00:00",
          "2025-02-01 12:00:00+00:00",
          "2025-02-01 13:00:00+00:00",
          "2025-02-01 14:00:00+00:00",
          "2025-02-01 15:00:00+00:00",
          "2025-02-01 16:00:00+00:00",
          "2025-02-01 17:00:00+00:00",
          "2025-02-01 18:00:00+00:00",
          "2025-02-01 19:00:00+00:00",
          "2025-02-01 20:00:00+00:00",
          "2025-02-01 21:00:00+00:00",
          "2025-02-01 22:00:00+00:00",
          "2025-02-01 23:00:00+00:00",
          "2025-02-02 00:00:00+00:00",
          "2025-02-02 01:00:00+00:00",
          "2025-02-02 02:00:00+00:00",
          "2025-02-02 03:00:00+00:00",
          "2025-02-02 04:00:00+00:00",
          "2025-02-02 05:00:00+00:00",
          "2025-02-02 06:00:00+00:00",
          "2025-02-02 07:00:00+00:00",
          "2025-02-02 08:00:00+00:00",
          "2025-02-02 09:00:00+00:00",
          "2025-02-02 10:00:00+00:00",
          "2025-02-02 11:00:00+00:00",
          "2025-02-02 12:00:00+00:00",
          "2025-02-02 13:00:00+00:00",
          "2025-02-02 14:00:00+00:00",
          "2025-02-02 15:00:00+00:00",
          "2025-02-02 16:00:00+00:00",
          "2025-02-02 17:00:00+00:00",
          "2025-02-02 18:00:00+00:00",
          "2025-02-02 19:00:00+00:00",
          "2025-02-02 20:00:00+00:00",
          "2025-02-02 21:00:00+00:00",
          "2025-02-02 22:00:00+00:00",
          "2025-02-02 23:00:00+00:00",
          "2025-02-03 00:00:00+00:00",
          "2025-02-03 01:00:00+00:00",
          "2025-02-03 02:00:00+00:00",
          "2025-02-03 03:00:00+00:00",
          "2025-02-03 04:00:00+00:00",
          "2025-02-03 05:00:00+00:00",
          "2025-02-03 06:00:00+00:00",
          "2025-02-03 07:00:00+00:00",
          "2025-02-03 08:00:00+00:00",
          "2025-02-03 09:00:00+00:00",
          "2025-02-03 10:00:00+00:00",
          "2025-02-03 11:00:00+00:00",
          "2025-02-03 12:00:00+00:00"
         ],
         "y": [
          11389074854,
          44729365439,
          45160383397,
          45027125238,
          44782216112,
          44843758953,
          44311573652,
          44447174516,
          45184207518,
          44983569275,
          44797005865,
          44898815050,
          44332232487,
          42219411759,
          35802890378,
          33741504883,
          5453905814,
          30056248,
          37468392,
          23043015,
          18096360,
          27502500,
          29346009,
          25087947,
          25166987,
          22676246,
          18678144,
          20150848,
          23233558,
          20374955,
          17579120,
          22691007,
          19156221,
          17275019,
          20485903,
          25478110,
          29801086,
          17480008,
          30845144,
          35093838,
          22584544,
          26327425,
          25080307,
          22342851,
          48842123,
          15931855,
          18001983,
          14852223,
          18168574,
          21113561,
          39153530,
          35313474,
          22176999,
          22217359,
          59424201,
          62574228,
          41198799,
          17574804,
          14386440,
          15187622,
          15618686,
          19755568,
          21133807,
          21818715,
          19074130,
          29276481,
          20880558,
          21951003,
          17333476,
          24034065,
          49648471,
          29103886,
          36965092,
          20921005,
          34170760,
          20310653,
          22387625,
          24230454,
          23150991,
          19894516,
          23340270,
          21641613,
          42953004,
          36026818,
          25817645,
          28913109,
          19315823,
          26336122,
          24128628,
          22238532,
          15546637,
          17341522,
          16128256,
          18753659,
          25400852,
          23456953,
          23362608,
          21075250,
          26363916,
          25072148,
          37493722,
          19024734,
          17081436,
          33357633,
          21777892,
          16011524,
          23128980,
          28326514,
          22810972,
          29718865,
          21018834,
          34091851,
          40446472,
          31549019,
          44883756,
          28869319,
          20847856,
          17283169,
          17243004,
          18723401,
          23768267,
          22671291,
          28464115,
          30343800,
          24416024,
          21070383,
          29982609,
          23868796,
          22763167,
          22376366,
          24307948,
          20410273,
          25136985,
          21249170,
          33030772,
          68557233,
          22427684,
          82137149,
          32735482,
          15748825,
          24418950,
          18463685,
          19651448,
          20767695,
          29648826,
          40327709,
          44341804,
          18263062,
          18053884,
          24670336,
          18010770,
          26600884,
          25652694,
          18079388,
          12581330,
          18048748,
          17551513,
          17911499,
          29637308,
          30285380,
          23235633,
          37067061,
          53684207,
          20936792,
          21339354,
          39169843,
          37560016,
          19365358,
          25468303,
          20343037,
          20051439,
          28978359,
          20678073,
          16395321,
          20090251,
          26208099,
          23954529,
          34493556,
          22292995,
          28042146,
          24090312,
          42007512,
          21317343,
          19370998,
          17190058,
          30108682,
          15938814,
          32544834,
          17186488,
          16433503,
          19217871,
          21100581,
          22933483,
          27732150,
          21215157,
          20449789,
          20484251,
          22277203,
          25074148,
          22237713,
          18777347,
          25505435,
          24274255,
          16393016,
          25495612,
          18833193,
          20446138,
          24063631,
          33186727,
          26432042,
          21230051,
          19767326,
          18605422,
          23072249,
          33819214,
          25906854,
          45098281,
          29248483,
          30355438,
          28580186,
          22146964,
          17835364,
          17969281,
          18025496,
          14316056,
          14442655,
          15732370,
          15160523,
          27368976,
          27326196,
          21675111,
          33805651,
          35978693,
          33167172,
          16663574,
          21079220,
          20049376,
          20159343,
          33128488,
          45290571,
          41738023,
          27075383,
          29215259,
          21976070,
          28085700,
          26404938,
          27776287,
          28114581,
          26259277,
          26242555,
          28874665,
          25802731,
          27937594,
          17113116,
          26357536,
          30002119,
          32466078,
          36088363,
          64559794,
          34072025,
          27853382,
          30849638,
          26871191,
          23599383,
          41973820,
          32083917,
          27743957,
          33017323,
          45845225,
          24082682,
          17329295,
          17537301,
          18164777,
          25957026,
          23273028,
          28933217,
          28519238,
          37106020,
          24501557,
          23647276,
          16252344,
          25736242,
          22721111,
          17267819,
          21250377,
          24392211,
          16308240
         ]
        }
       ],
       "layout": {
        "legend": {
         "orientation": "h",
         "title": {
          "text": "Message Type"
         },
         "tracegroupgap": 0,
         "y": 1.02,
         "yanchor": "bottom"
        },
        "template": {
         "data": {
          "bar": [
           {
            "error_x": {
             "color": "#2a3f5f"
            },
            "error_y": {
             "color": "#2a3f5f"
            },
            "marker": {
             "line": {
              "color": "#E5ECF6",
              "width": 0.5
             },
             "pattern": {
              "fillmode": "overlay",
              "size": 10,
              "solidity": 0.2
             }
            },
            "type": "bar"
           }
          ],
          "barpolar": [
           {
            "marker": {
             "line": {
              "color": "#E5ECF6",
              "width": 0.5
             },
             "pattern": {
              "fillmode": "overlay",
              "size": 10,
              "solidity": 0.2
             }
            },
            "type": "barpolar"
           }
          ],
          "carpet": [
           {
            "aaxis": {
             "endlinecolor": "#2a3f5f",
             "gridcolor": "white",
             "linecolor": "white",
             "minorgridcolor": "white",
             "startlinecolor": "#2a3f5f"
            },
            "baxis": {
             "endlinecolor": "#2a3f5f",
             "gridcolor": "white",
             "linecolor": "white",
             "minorgridcolor": "white",
             "startlinecolor": "#2a3f5f"
            },
            "type": "carpet"
           }
          ],
          "choropleth": [
           {
            "colorbar": {
             "outlinewidth": 0,
             "ticks": ""
            },
            "type": "choropleth"
           }
          ],
          "contour": [
           {
            "colorbar": {
             "outlinewidth": 0,
             "ticks": ""
            },
            "colorscale": [
             [
              0,
              "#0d0887"
             ],
             [
              0.1111111111111111,
              "#46039f"
             ],
             [
              0.2222222222222222,
              "#7201a8"
             ],
             [
              0.3333333333333333,
              "#9c179e"
             ],
             [
              0.4444444444444444,
              "#bd3786"
             ],
             [
              0.5555555555555556,
              "#d8576b"
             ],
             [
              0.6666666666666666,
              "#ed7953"
             ],
             [
              0.7777777777777778,
              "#fb9f3a"
             ],
             [
              0.8888888888888888,
              "#fdca26"
             ],
             [
              1,
              "#f0f921"
             ]
            ],
            "type": "contour"
           }
          ],
          "contourcarpet": [
           {
            "colorbar": {
             "outlinewidth": 0,
             "ticks": ""
            },
            "type": "contourcarpet"
           }
          ],
          "heatmap": [
           {
            "colorbar": {
             "outlinewidth": 0,
             "ticks": ""
            },
            "colorscale": [
             [
              0,
              "#0d0887"
             ],
             [
              0.1111111111111111,
              "#46039f"
             ],
             [
              0.2222222222222222,
              "#7201a8"
             ],
             [
              0.3333333333333333,
              "#9c179e"
             ],
             [
              0.4444444444444444,
              "#bd3786"
             ],
             [
              0.5555555555555556,
              "#d8576b"
             ],
             [
              0.6666666666666666,
              "#ed7953"
             ],
             [
              0.7777777777777778,
              "#fb9f3a"
             ],
             [
              0.8888888888888888,
              "#fdca26"
             ],
             [
              1,
              "#f0f921"
             ]
            ],
            "type": "heatmap"
           }
          ],
          "heatmapgl": [
           {
            "colorbar": {
             "outlinewidth": 0,
             "ticks": ""
            },
            "colorscale": [
             [
              0,
              "#0d0887"
             ],
             [
              0.1111111111111111,
              "#46039f"
             ],
             [
              0.2222222222222222,
              "#7201a8"
             ],
             [
              0.3333333333333333,
              "#9c179e"
             ],
             [
              0.4444444444444444,
              "#bd3786"
             ],
             [
              0.5555555555555556,
              "#d8576b"
             ],
             [
              0.6666666666666666,
              "#ed7953"
             ],
             [
              0.7777777777777778,
              "#fb9f3a"
             ],
             [
              0.8888888888888888,
              "#fdca26"
             ],
             [
              1,
              "#f0f921"
             ]
            ],
            "type": "heatmapgl"
           }
          ],
          "histogram": [
           {
            "marker": {
             "pattern": {
              "fillmode": "overlay",
              "size": 10,
              "solidity": 0.2
             }
            },
            "type": "histogram"
           }
          ],
          "histogram2d": [
           {
            "colorbar": {
             "outlinewidth": 0,
             "ticks": ""
            },
            "colorscale": [
             [
              0,
              "#0d0887"
             ],
             [
              0.1111111111111111,
              "#46039f"
             ],
             [
              0.2222222222222222,
              "#7201a8"
             ],
             [
              0.3333333333333333,
              "#9c179e"
             ],
             [
              0.4444444444444444,
              "#bd3786"
             ],
             [
              0.5555555555555556,
              "#d8576b"
             ],
             [
              0.6666666666666666,
              "#ed7953"
             ],
             [
              0.7777777777777778,
              "#fb9f3a"
             ],
             [
              0.8888888888888888,
              "#fdca26"
             ],
             [
              1,
              "#f0f921"
             ]
            ],
            "type": "histogram2d"
           }
          ],
          "histogram2dcontour": [
           {
            "colorbar": {
             "outlinewidth": 0,
             "ticks": ""
            },
            "colorscale": [
             [
              0,
              "#0d0887"
             ],
             [
              0.1111111111111111,
              "#46039f"
             ],
             [
              0.2222222222222222,
              "#7201a8"
             ],
             [
              0.3333333333333333,
              "#9c179e"
             ],
             [
              0.4444444444444444,
              "#bd3786"
             ],
             [
              0.5555555555555556,
              "#d8576b"
             ],
             [
              0.6666666666666666,
              "#ed7953"
             ],
             [
              0.7777777777777778,
              "#fb9f3a"
             ],
             [
              0.8888888888888888,
              "#fdca26"
             ],
             [
              1,
              "#f0f921"
             ]
            ],
            "type": "histogram2dcontour"
           }
          ],
          "mesh3d": [
           {
            "colorbar": {
             "outlinewidth": 0,
             "ticks": ""
            },
            "type": "mesh3d"
           }
          ],
          "parcoords": [
           {
            "line": {
             "colorbar": {
              "outlinewidth": 0,
              "ticks": ""
             }
            },
            "type": "parcoords"
           }
          ],
          "pie": [
           {
            "automargin": true,
            "type": "pie"
           }
          ],
          "scatter": [
           {
            "fillpattern": {
             "fillmode": "overlay",
             "size": 10,
             "solidity": 0.2
            },
            "type": "scatter"
           }
          ],
          "scatter3d": [
           {
            "line": {
             "colorbar": {
              "outlinewidth": 0,
              "ticks": ""
             }
            },
            "marker": {
             "colorbar": {
              "outlinewidth": 0,
              "ticks": ""
             }
            },
            "type": "scatter3d"
           }
          ],
          "scattercarpet": [
           {
            "marker": {
             "colorbar": {
              "outlinewidth": 0,
              "ticks": ""
             }
            },
            "type": "scattercarpet"
           }
          ],
          "scattergeo": [
           {
            "marker": {
             "colorbar": {
              "outlinewidth": 0,
              "ticks": ""
             }
            },
            "type": "scattergeo"
           }
          ],
          "scattergl": [
           {
            "marker": {
             "colorbar": {
              "outlinewidth": 0,
              "ticks": ""
             }
            },
            "type": "scattergl"
           }
          ],
          "scattermapbox": [
           {
            "marker": {
             "colorbar": {
              "outlinewidth": 0,
              "ticks": ""
             }
            },
            "type": "scattermapbox"
           }
          ],
          "scatterpolar": [
           {
            "marker": {
             "colorbar": {
              "outlinewidth": 0,
              "ticks": ""
             }
            },
            "type": "scatterpolar"
           }
          ],
          "scatterpolargl": [
           {
            "marker": {
             "colorbar": {
              "outlinewidth": 0,
              "ticks": ""
             }
            },
            "type": "scatterpolargl"
           }
          ],
          "scatterternary": [
           {
            "marker": {
             "colorbar": {
              "outlinewidth": 0,
              "ticks": ""
             }
            },
            "type": "scatterternary"
           }
          ],
          "surface": [
           {
            "colorbar": {
             "outlinewidth": 0,
             "ticks": ""
            },
            "colorscale": [
             [
              0,
              "#0d0887"
             ],
             [
              0.1111111111111111,
              "#46039f"
             ],
             [
              0.2222222222222222,
              "#7201a8"
             ],
             [
              0.3333333333333333,
              "#9c179e"
             ],
             [
              0.4444444444444444,
              "#bd3786"
             ],
             [
              0.5555555555555556,
              "#d8576b"
             ],
             [
              0.6666666666666666,
              "#ed7953"
             ],
             [
              0.7777777777777778,
              "#fb9f3a"
             ],
             [
              0.8888888888888888,
              "#fdca26"
             ],
             [
              1,
              "#f0f921"
             ]
            ],
            "type": "surface"
           }
          ],
          "table": [
           {
            "cells": {
             "fill": {
              "color": "#EBF0F8"
             },
             "line": {
              "color": "white"
             }
            },
            "header": {
             "fill": {
              "color": "#C8D4E3"
             },
             "line": {
              "color": "white"
             }
            },
            "type": "table"
           }
          ]
         },
         "layout": {
          "annotationdefaults": {
           "arrowcolor": "#2a3f5f",
           "arrowhead": 0,
           "arrowwidth": 1
          },
          "autotypenumbers": "strict",
          "coloraxis": {
           "colorbar": {
            "outlinewidth": 0,
            "ticks": ""
           }
          },
          "colorscale": {
           "diverging": [
            [
             0,
             "#8e0152"
            ],
            [
             0.1,
             "#c51b7d"
            ],
            [
             0.2,
             "#de77ae"
            ],
            [
             0.3,
             "#f1b6da"
            ],
            [
             0.4,
             "#fde0ef"
            ],
            [
             0.5,
             "#f7f7f7"
            ],
            [
             0.6,
             "#e6f5d0"
            ],
            [
             0.7,
             "#b8e186"
            ],
            [
             0.8,
             "#7fbc41"
            ],
            [
             0.9,
             "#4d9221"
            ],
            [
             1,
             "#276419"
            ]
           ],
           "sequential": [
            [
             0,
             "#0d0887"
            ],
            [
             0.1111111111111111,
             "#46039f"
            ],
            [
             0.2222222222222222,
             "#7201a8"
            ],
            [
             0.3333333333333333,
             "#9c179e"
            ],
            [
             0.4444444444444444,
             "#bd3786"
            ],
            [
             0.5555555555555556,
             "#d8576b"
            ],
            [
             0.6666666666666666,
             "#ed7953"
            ],
            [
             0.7777777777777778,
             "#fb9f3a"
            ],
            [
             0.8888888888888888,
             "#fdca26"
            ],
            [
             1,
             "#f0f921"
            ]
           ],
           "sequentialminus": [
            [
             0,
             "#0d0887"
            ],
            [
             0.1111111111111111,
             "#46039f"
            ],
            [
             0.2222222222222222,
             "#7201a8"
            ],
            [
             0.3333333333333333,
             "#9c179e"
            ],
            [
             0.4444444444444444,
             "#bd3786"
            ],
            [
             0.5555555555555556,
             "#d8576b"
            ],
            [
             0.6666666666666666,
             "#ed7953"
            ],
            [
             0.7777777777777778,
             "#fb9f3a"
            ],
            [
             0.8888888888888888,
             "#fdca26"
            ],
            [
             1,
             "#f0f921"
            ]
           ]
          },
          "colorway": [
           "#636efa",
           "#EF553B",
           "#00cc96",
           "#ab63fa",
           "#FFA15A",
           "#19d3f3",
           "#FF6692",
           "#B6E880",
           "#FF97FF",
           "#FECB52"
          ],
          "font": {
           "color": "#2a3f5f"
          },
          "geo": {
           "bgcolor": "white",
           "lakecolor": "white",
           "landcolor": "#E5ECF6",
           "showlakes": true,
           "showland": true,
           "subunitcolor": "white"
          },
          "hoverlabel": {
           "align": "left"
          },
          "hovermode": "closest",
          "mapbox": {
           "style": "light"
          },
          "paper_bgcolor": "white",
          "plot_bgcolor": "#E5ECF6",
          "polar": {
           "angularaxis": {
            "gridcolor": "white",
            "linecolor": "white",
            "ticks": ""
           },
           "bgcolor": "#E5ECF6",
           "radialaxis": {
            "gridcolor": "white",
            "linecolor": "white",
            "ticks": ""
           }
          },
          "scene": {
           "xaxis": {
            "backgroundcolor": "#E5ECF6",
            "gridcolor": "white",
            "gridwidth": 2,
            "linecolor": "white",
            "showbackground": true,
            "ticks": "",
            "zerolinecolor": "white"
           },
           "yaxis": {
            "backgroundcolor": "#E5ECF6",
            "gridcolor": "white",
            "gridwidth": 2,
            "linecolor": "white",
            "showbackground": true,
            "ticks": "",
            "zerolinecolor": "white"
           },
           "zaxis": {
            "backgroundcolor": "#E5ECF6",
            "gridcolor": "white",
            "gridwidth": 2,
            "linecolor": "white",
            "showbackground": true,
            "ticks": "",
            "zerolinecolor": "white"
           }
          },
          "shapedefaults": {
           "line": {
            "color": "#2a3f5f"
           }
          },
          "ternary": {
           "aaxis": {
            "gridcolor": "white",
            "linecolor": "white",
            "ticks": ""
           },
           "baxis": {
            "gridcolor": "white",
            "linecolor": "white",
            "ticks": ""
           },
           "bgcolor": "#E5ECF6",
           "caxis": {
            "gridcolor": "white",
            "linecolor": "white",
            "ticks": ""
           }
          },
          "title": {
           "x": 0.05
          },
          "xaxis": {
           "automargin": true,
           "gridcolor": "white",
           "linecolor": "white",
           "ticks": "",
           "title": {
            "standoff": 15
           },
           "zerolinecolor": "white",
           "zerolinewidth": 2
          },
          "yaxis": {
           "automargin": true,
           "gridcolor": "white",
           "linecolor": "white",
           "ticks": "",
           "title": {
            "standoff": 15
           },
           "zerolinecolor": "white",
           "zerolinewidth": 2
          }
         }
        },
        "title": {
         "text": "Stacked Area Chart of net_size over Time by msg_type"
        },
        "xaxis": {
         "anchor": "y",
         "domain": [
          0,
          1
         ],
         "title": {
          "text": "Time"
         }
        },
        "yaxis": {
         "anchor": "x",
         "domain": [
          0,
          1
         ],
         "tickformat": ".2s",
         "ticksuffix": "B",
         "title": {
          "text": "Net Size"
         }
        }
       }
      }
     },
     "metadata": {},
     "output_type": "display_data"
    }
   ],
   "source": [
    "import plotly.express as px\n",
    "import plotly.graph_objects as go\n",
    "\n",
    "fig = px.area(\n",
    "    dfs[\"est_hourly\"],\n",
    "    x=\"timestamp\",\n",
    "    y=\"inout\",\n",
    "    color=\"msg_type\",\n",
    "    title=\"Stacked Area Chart of net_size over Time by msg_type\",\n",
    "    labels={\"net_size\": \"Net Size\", \"hour_groups\": \"Time\", \"msg_type\": \"Message Type\"},\n",
    ")\n",
    "\n",
    "fig.add_trace(\n",
    "    go.Scatter(\n",
    "        x=dfs[\"emp_hourly\"].index,\n",
    "        y=dfs[\"emp_hourly\"][\"in\"] + dfs[\"emp_hourly\"][\"out\"],\n",
    "        mode=\"lines\",\n",
    "        name=\"emp_hourly\",\n",
    "        line=dict(color=\"black\", width=2),\n",
    "    )\n",
    ")\n",
    "\n",
    "fig.update_layout(\n",
    "    xaxis_title=\"Time\",\n",
    "    yaxis_title=\"Net Size\",\n",
    "    legend_title=\"Message Type\",\n",
    "    legend=dict(\n",
    "        orientation=\"h\",\n",
    "        yanchor=\"bottom\",\n",
    "        y=1.02,\n",
    "    ),\n",
    ")\n",
    "fig.update_yaxes(tickformat=\".2s\", ticksuffix=\"B\")\n",
    "fig.show()"
   ]
  },
  {
   "cell_type": "markdown",
   "metadata": {},
   "source": [
    "## Out hourly (should peak near getrawaddrman?)"
   ]
  },
  {
   "cell_type": "code",
   "execution_count": 11,
   "metadata": {},
   "outputs": [
    {
     "data": {
      "application/vnd.plotly.v1+json": {
       "config": {
        "plotlyServerURL": "https://plot.ly"
       },
       "data": [
        {
         "fillpattern": {
          "shape": ""
         },
         "hovertemplate": "Message Type=blocktxn<br>timestamp=%{x}<br>inout=%{y}<extra></extra>",
         "legendgroup": "blocktxn",
         "line": {
          "color": "#636efa"
         },
         "marker": {
          "symbol": "circle"
         },
         "mode": "lines",
         "name": "blocktxn",
         "orientation": "v",
         "showlegend": true,
         "stackgroup": "1",
         "type": "scatter",
         "x": [
          "2025-01-18 00:00:00+00:00",
          "2025-01-18 01:00:00+00:00",
          "2025-01-18 02:00:00+00:00",
          "2025-01-18 03:00:00+00:00",
          "2025-01-18 04:00:00+00:00",
          "2025-01-18 05:00:00+00:00",
          "2025-01-18 06:00:00+00:00",
          "2025-01-18 07:00:00+00:00",
          "2025-01-18 08:00:00+00:00",
          "2025-01-18 09:00:00+00:00",
          "2025-01-18 10:00:00+00:00",
          "2025-01-18 11:00:00+00:00",
          "2025-01-18 12:00:00+00:00",
          "2025-01-18 13:00:00+00:00",
          "2025-01-18 14:00:00+00:00",
          "2025-01-18 15:00:00+00:00",
          "2025-01-18 16:00:00+00:00",
          "2025-01-18 17:00:00+00:00",
          "2025-01-18 18:00:00+00:00",
          "2025-01-18 19:00:00+00:00",
          "2025-01-18 20:00:00+00:00",
          "2025-01-18 21:00:00+00:00",
          "2025-01-18 22:00:00+00:00",
          "2025-01-18 23:00:00+00:00",
          "2025-01-19 00:00:00+00:00",
          "2025-01-19 01:00:00+00:00",
          "2025-01-19 02:00:00+00:00",
          "2025-01-19 03:00:00+00:00",
          "2025-01-19 04:00:00+00:00",
          "2025-01-19 05:00:00+00:00",
          "2025-01-19 06:00:00+00:00",
          "2025-01-19 07:00:00+00:00",
          "2025-01-19 08:00:00+00:00",
          "2025-01-19 09:00:00+00:00",
          "2025-01-19 10:00:00+00:00",
          "2025-01-19 11:00:00+00:00",
          "2025-01-19 12:00:00+00:00",
          "2025-01-19 13:00:00+00:00",
          "2025-01-19 14:00:00+00:00",
          "2025-01-19 15:00:00+00:00",
          "2025-01-19 16:00:00+00:00",
          "2025-01-19 17:00:00+00:00",
          "2025-01-19 18:00:00+00:00",
          "2025-01-19 19:00:00+00:00",
          "2025-01-19 20:00:00+00:00",
          "2025-01-19 21:00:00+00:00",
          "2025-01-19 22:00:00+00:00",
          "2025-01-19 23:00:00+00:00",
          "2025-01-20 00:00:00+00:00",
          "2025-01-20 01:00:00+00:00",
          "2025-01-20 03:00:00+00:00",
          "2025-01-20 04:00:00+00:00",
          "2025-01-20 06:00:00+00:00",
          "2025-01-20 07:00:00+00:00",
          "2025-01-20 08:00:00+00:00",
          "2025-01-20 09:00:00+00:00",
          "2025-01-20 10:00:00+00:00",
          "2025-01-20 11:00:00+00:00",
          "2025-01-20 12:00:00+00:00",
          "2025-01-20 13:00:00+00:00",
          "2025-01-20 14:00:00+00:00",
          "2025-01-20 15:00:00+00:00",
          "2025-01-20 16:00:00+00:00",
          "2025-01-20 17:00:00+00:00",
          "2025-01-20 18:00:00+00:00",
          "2025-01-20 19:00:00+00:00",
          "2025-01-20 20:00:00+00:00",
          "2025-01-20 21:00:00+00:00",
          "2025-01-20 22:00:00+00:00",
          "2025-01-20 23:00:00+00:00",
          "2025-01-21 00:00:00+00:00",
          "2025-01-21 01:00:00+00:00",
          "2025-01-21 02:00:00+00:00",
          "2025-01-21 03:00:00+00:00",
          "2025-01-21 04:00:00+00:00",
          "2025-01-21 05:00:00+00:00",
          "2025-01-21 06:00:00+00:00",
          "2025-01-21 07:00:00+00:00",
          "2025-01-21 08:00:00+00:00",
          "2025-01-21 09:00:00+00:00",
          "2025-01-21 10:00:00+00:00",
          "2025-01-21 11:00:00+00:00",
          "2025-01-21 13:00:00+00:00",
          "2025-01-21 14:00:00+00:00",
          "2025-01-21 15:00:00+00:00",
          "2025-01-21 16:00:00+00:00",
          "2025-01-21 18:00:00+00:00",
          "2025-01-21 19:00:00+00:00",
          "2025-01-21 20:00:00+00:00",
          "2025-01-21 21:00:00+00:00",
          "2025-01-21 22:00:00+00:00",
          "2025-01-21 23:00:00+00:00"
         ],
         "xaxis": "x",
         "y": [
          563290,
          2672,
          39327,
          17681,
          2517981,
          2218030,
          452,
          94853,
          2618,
          2415,
          13287,
          711,
          3579,
          408683,
          155896,
          391402,
          265174,
          23792,
          355639,
          139516,
          145967,
          477502,
          7118163,
          991251,
          3537766,
          2225456,
          68651,
          26051,
          47149,
          71328,
          34029,
          794,
          4536,
          338269,
          670,
          136200,
          2952620,
          126437,
          554196,
          371111,
          1364570,
          285477,
          51648,
          618564,
          52472,
          145261,
          413335,
          981255,
          13966476,
          32839,
          50312,
          64255,
          8040,
          228350,
          139392,
          97241,
          6052,
          89624,
          22835,
          87407,
          53960,
          73411,
          125970,
          273616,
          38101,
          164736,
          135188,
          181246,
          274418,
          191099,
          200854,
          191314,
          178133,
          53227,
          107738,
          76415,
          206724,
          43130,
          11133,
          46069,
          70959,
          89066,
          24118,
          338356,
          1168,
          3553,
          1570,
          2108,
          524,
          3562,
          1631,
          1049
         ],
         "yaxis": "y"
        },
        {
         "fillpattern": {
          "shape": ""
         },
         "hovertemplate": "Message Type=getdata<br>timestamp=%{x}<br>inout=%{y}<extra></extra>",
         "legendgroup": "getdata",
         "line": {
          "color": "#EF553B"
         },
         "marker": {
          "symbol": "circle"
         },
         "mode": "lines",
         "name": "getdata",
         "orientation": "v",
         "showlegend": true,
         "stackgroup": "1",
         "type": "scatter",
         "x": [
          "2025-01-18 00:00:00+00:00",
          "2025-01-18 01:00:00+00:00",
          "2025-01-18 02:00:00+00:00",
          "2025-01-18 03:00:00+00:00",
          "2025-01-18 04:00:00+00:00",
          "2025-01-18 05:00:00+00:00",
          "2025-01-18 06:00:00+00:00",
          "2025-01-18 07:00:00+00:00",
          "2025-01-18 08:00:00+00:00",
          "2025-01-18 09:00:00+00:00",
          "2025-01-18 10:00:00+00:00",
          "2025-01-18 11:00:00+00:00",
          "2025-01-18 12:00:00+00:00",
          "2025-01-18 13:00:00+00:00",
          "2025-01-18 14:00:00+00:00",
          "2025-01-18 15:00:00+00:00",
          "2025-01-18 16:00:00+00:00",
          "2025-01-18 17:00:00+00:00",
          "2025-01-18 18:00:00+00:00",
          "2025-01-18 19:00:00+00:00",
          "2025-01-18 20:00:00+00:00",
          "2025-01-18 21:00:00+00:00",
          "2025-01-18 22:00:00+00:00",
          "2025-01-18 23:00:00+00:00",
          "2025-01-19 00:00:00+00:00",
          "2025-01-19 01:00:00+00:00",
          "2025-01-19 02:00:00+00:00",
          "2025-01-19 03:00:00+00:00",
          "2025-01-19 04:00:00+00:00",
          "2025-01-19 05:00:00+00:00",
          "2025-01-19 06:00:00+00:00",
          "2025-01-19 07:00:00+00:00",
          "2025-01-19 08:00:00+00:00",
          "2025-01-19 09:00:00+00:00",
          "2025-01-19 10:00:00+00:00",
          "2025-01-19 11:00:00+00:00",
          "2025-01-19 12:00:00+00:00",
          "2025-01-19 13:00:00+00:00",
          "2025-01-19 14:00:00+00:00",
          "2025-01-19 15:00:00+00:00",
          "2025-01-19 16:00:00+00:00",
          "2025-01-19 17:00:00+00:00",
          "2025-01-19 18:00:00+00:00",
          "2025-01-19 19:00:00+00:00",
          "2025-01-19 20:00:00+00:00",
          "2025-01-19 21:00:00+00:00",
          "2025-01-19 22:00:00+00:00",
          "2025-01-19 23:00:00+00:00",
          "2025-01-20 00:00:00+00:00",
          "2025-01-20 01:00:00+00:00",
          "2025-01-20 02:00:00+00:00",
          "2025-01-20 03:00:00+00:00",
          "2025-01-20 04:00:00+00:00",
          "2025-01-20 05:00:00+00:00",
          "2025-01-20 06:00:00+00:00",
          "2025-01-20 07:00:00+00:00",
          "2025-01-20 08:00:00+00:00",
          "2025-01-20 09:00:00+00:00",
          "2025-01-20 10:00:00+00:00",
          "2025-01-20 11:00:00+00:00",
          "2025-01-20 12:00:00+00:00",
          "2025-01-20 13:00:00+00:00",
          "2025-01-20 14:00:00+00:00",
          "2025-01-20 15:00:00+00:00",
          "2025-01-20 16:00:00+00:00",
          "2025-01-20 17:00:00+00:00",
          "2025-01-20 18:00:00+00:00",
          "2025-01-20 19:00:00+00:00",
          "2025-01-20 20:00:00+00:00",
          "2025-01-20 21:00:00+00:00",
          "2025-01-20 22:00:00+00:00",
          "2025-01-20 23:00:00+00:00",
          "2025-01-21 00:00:00+00:00",
          "2025-01-21 01:00:00+00:00",
          "2025-01-21 02:00:00+00:00",
          "2025-01-21 03:00:00+00:00",
          "2025-01-21 04:00:00+00:00",
          "2025-01-21 05:00:00+00:00",
          "2025-01-21 06:00:00+00:00",
          "2025-01-21 07:00:00+00:00",
          "2025-01-21 08:00:00+00:00",
          "2025-01-21 09:00:00+00:00",
          "2025-01-21 10:00:00+00:00",
          "2025-01-21 11:00:00+00:00",
          "2025-01-21 12:00:00+00:00",
          "2025-01-21 13:00:00+00:00",
          "2025-01-21 14:00:00+00:00",
          "2025-01-21 15:00:00+00:00",
          "2025-01-21 16:00:00+00:00",
          "2025-01-21 17:00:00+00:00",
          "2025-01-21 18:00:00+00:00",
          "2025-01-21 19:00:00+00:00",
          "2025-01-21 20:00:00+00:00",
          "2025-01-21 21:00:00+00:00",
          "2025-01-21 22:00:00+00:00",
          "2025-01-21 23:00:00+00:00"
         ],
         "xaxis": "x",
         "y": [
          814062,
          907164,
          965076,
          775220,
          801855,
          762145,
          855478,
          1001482,
          905761,
          913800,
          821604,
          876065,
          1214663,
          3712867,
          2163454,
          1599471,
          1136787,
          951961,
          988450,
          963002,
          1127037,
          882058,
          775778,
          790015,
          737594,
          742580,
          832310,
          683654,
          704425,
          764543,
          742608,
          777124,
          741157,
          985054,
          1574682,
          959090,
          1433634,
          1087934,
          1023152,
          837552,
          877174,
          890279,
          793108,
          924758,
          816602,
          876158,
          937865,
          816204,
          730107,
          741615,
          687315,
          678832,
          657246,
          707238,
          725941,
          821611,
          750563,
          901001,
          831138,
          955132,
          946380,
          1241528,
          984909,
          957772,
          1129500,
          1067869,
          1066122,
          1096821,
          891773,
          933965,
          836564,
          799725,
          730400,
          655753,
          658186,
          647282,
          622003,
          630389,
          650683,
          674807,
          653073,
          658029,
          715235,
          754217,
          743970,
          732623,
          1956487,
          1108580,
          1072580,
          975279,
          947521,
          963351,
          1037379,
          1040003,
          708185,
          775882
         ],
         "yaxis": "y"
        },
        {
         "fillpattern": {
          "shape": ""
         },
         "hovertemplate": "Message Type=headers<br>timestamp=%{x}<br>inout=%{y}<extra></extra>",
         "legendgroup": "headers",
         "line": {
          "color": "#00cc96"
         },
         "marker": {
          "symbol": "circle"
         },
         "mode": "lines",
         "name": "headers",
         "orientation": "v",
         "showlegend": true,
         "stackgroup": "1",
         "type": "scatter",
         "x": [
          "2025-01-18 00:00:00+00:00",
          "2025-01-18 01:00:00+00:00",
          "2025-01-18 02:00:00+00:00",
          "2025-01-18 03:00:00+00:00",
          "2025-01-18 04:00:00+00:00",
          "2025-01-18 05:00:00+00:00",
          "2025-01-18 06:00:00+00:00",
          "2025-01-18 07:00:00+00:00",
          "2025-01-18 08:00:00+00:00",
          "2025-01-18 09:00:00+00:00",
          "2025-01-18 10:00:00+00:00",
          "2025-01-18 11:00:00+00:00",
          "2025-01-18 12:00:00+00:00",
          "2025-01-18 13:00:00+00:00",
          "2025-01-18 14:00:00+00:00",
          "2025-01-18 15:00:00+00:00",
          "2025-01-18 16:00:00+00:00",
          "2025-01-18 17:00:00+00:00",
          "2025-01-18 18:00:00+00:00",
          "2025-01-18 19:00:00+00:00",
          "2025-01-18 20:00:00+00:00",
          "2025-01-18 21:00:00+00:00",
          "2025-01-18 22:00:00+00:00",
          "2025-01-18 23:00:00+00:00",
          "2025-01-19 00:00:00+00:00",
          "2025-01-19 01:00:00+00:00",
          "2025-01-19 02:00:00+00:00",
          "2025-01-19 03:00:00+00:00",
          "2025-01-19 04:00:00+00:00",
          "2025-01-19 05:00:00+00:00",
          "2025-01-19 06:00:00+00:00",
          "2025-01-19 07:00:00+00:00",
          "2025-01-19 08:00:00+00:00",
          "2025-01-19 09:00:00+00:00",
          "2025-01-19 10:00:00+00:00",
          "2025-01-19 11:00:00+00:00",
          "2025-01-19 12:00:00+00:00",
          "2025-01-19 13:00:00+00:00",
          "2025-01-19 14:00:00+00:00",
          "2025-01-19 15:00:00+00:00",
          "2025-01-19 16:00:00+00:00",
          "2025-01-19 17:00:00+00:00",
          "2025-01-19 18:00:00+00:00",
          "2025-01-19 19:00:00+00:00",
          "2025-01-19 20:00:00+00:00",
          "2025-01-19 21:00:00+00:00",
          "2025-01-19 22:00:00+00:00",
          "2025-01-19 23:00:00+00:00",
          "2025-01-20 00:00:00+00:00",
          "2025-01-20 01:00:00+00:00",
          "2025-01-20 02:00:00+00:00",
          "2025-01-20 03:00:00+00:00",
          "2025-01-20 04:00:00+00:00",
          "2025-01-20 05:00:00+00:00",
          "2025-01-20 06:00:00+00:00",
          "2025-01-20 07:00:00+00:00",
          "2025-01-20 08:00:00+00:00",
          "2025-01-20 09:00:00+00:00",
          "2025-01-20 10:00:00+00:00",
          "2025-01-20 11:00:00+00:00",
          "2025-01-20 12:00:00+00:00",
          "2025-01-20 13:00:00+00:00",
          "2025-01-20 14:00:00+00:00",
          "2025-01-20 15:00:00+00:00",
          "2025-01-20 16:00:00+00:00",
          "2025-01-20 17:00:00+00:00",
          "2025-01-20 18:00:00+00:00",
          "2025-01-20 19:00:00+00:00",
          "2025-01-20 20:00:00+00:00",
          "2025-01-20 21:00:00+00:00",
          "2025-01-20 22:00:00+00:00",
          "2025-01-20 23:00:00+00:00",
          "2025-01-21 00:00:00+00:00",
          "2025-01-21 01:00:00+00:00",
          "2025-01-21 02:00:00+00:00",
          "2025-01-21 03:00:00+00:00",
          "2025-01-21 04:00:00+00:00",
          "2025-01-21 05:00:00+00:00",
          "2025-01-21 06:00:00+00:00",
          "2025-01-21 07:00:00+00:00",
          "2025-01-21 08:00:00+00:00",
          "2025-01-21 09:00:00+00:00",
          "2025-01-21 10:00:00+00:00",
          "2025-01-21 11:00:00+00:00",
          "2025-01-21 12:00:00+00:00",
          "2025-01-21 13:00:00+00:00",
          "2025-01-21 14:00:00+00:00",
          "2025-01-21 15:00:00+00:00",
          "2025-01-21 16:00:00+00:00",
          "2025-01-21 17:00:00+00:00",
          "2025-01-21 18:00:00+00:00",
          "2025-01-21 19:00:00+00:00",
          "2025-01-21 20:00:00+00:00",
          "2025-01-21 21:00:00+00:00",
          "2025-01-21 22:00:00+00:00",
          "2025-01-21 23:00:00+00:00"
         ],
         "xaxis": "x",
         "y": [
          6480,
          8787,
          16338,
          8969,
          19575,
          9253,
          5931,
          13150,
          5380,
          9439,
          7348,
          7421,
          16804,
          15819,
          7191,
          11561,
          10152,
          3516,
          10605,
          8734620,
          15034,
          12984,
          7247,
          9658,
          12230,
          11902,
          22718,
          13304,
          16954,
          10241,
          9170,
          14606,
          6691,
          14833,
          13350,
          8737662,
          18066,
          6052,
          12092,
          9341,
          10686,
          11558,
          6567,
          11562,
          7850,
          10014,
          10610,
          11866,
          13765,
          14511,
          10314,
          13186,
          10622,
          13373,
          12194,
          7417,
          6979,
          13964,
          7012,
          15524,
          9447,
          15528,
          8620,
          7344,
          12955,
          18100,
          15297,
          14337,
          7125,
          14657,
          17303456,
          22001704,
          11606,
          9621,
          13020,
          9860,
          6676,
          10905,
          9346,
          18323,
          14061,
          5876,
          6586,
          13302,
          13199,
          6938,
          17959,
          10932,
          14545,
          12086,
          10316,
          11511,
          16440,
          16242,
          7100,
          10891
         ],
         "yaxis": "y"
        },
        {
         "fillpattern": {
          "shape": ""
         },
         "hovertemplate": "Message Type=inv<br>timestamp=%{x}<br>inout=%{y}<extra></extra>",
         "legendgroup": "inv",
         "line": {
          "color": "#ab63fa"
         },
         "marker": {
          "symbol": "circle"
         },
         "mode": "lines",
         "name": "inv",
         "orientation": "v",
         "showlegend": true,
         "stackgroup": "1",
         "type": "scatter",
         "x": [
          "2025-01-18 00:00:00+00:00",
          "2025-01-18 01:00:00+00:00",
          "2025-01-18 02:00:00+00:00",
          "2025-01-18 03:00:00+00:00",
          "2025-01-18 04:00:00+00:00",
          "2025-01-18 05:00:00+00:00",
          "2025-01-18 06:00:00+00:00",
          "2025-01-18 07:00:00+00:00",
          "2025-01-18 08:00:00+00:00",
          "2025-01-18 09:00:00+00:00",
          "2025-01-18 10:00:00+00:00",
          "2025-01-18 11:00:00+00:00",
          "2025-01-18 12:00:00+00:00",
          "2025-01-18 13:00:00+00:00",
          "2025-01-18 14:00:00+00:00",
          "2025-01-18 15:00:00+00:00",
          "2025-01-18 16:00:00+00:00",
          "2025-01-18 17:00:00+00:00",
          "2025-01-18 18:00:00+00:00",
          "2025-01-18 19:00:00+00:00",
          "2025-01-18 20:00:00+00:00",
          "2025-01-18 21:00:00+00:00",
          "2025-01-18 22:00:00+00:00",
          "2025-01-18 23:00:00+00:00",
          "2025-01-19 00:00:00+00:00",
          "2025-01-19 01:00:00+00:00",
          "2025-01-19 02:00:00+00:00",
          "2025-01-19 03:00:00+00:00",
          "2025-01-19 04:00:00+00:00",
          "2025-01-19 05:00:00+00:00",
          "2025-01-19 06:00:00+00:00",
          "2025-01-19 07:00:00+00:00",
          "2025-01-19 08:00:00+00:00",
          "2025-01-19 09:00:00+00:00",
          "2025-01-19 10:00:00+00:00",
          "2025-01-19 11:00:00+00:00",
          "2025-01-19 12:00:00+00:00",
          "2025-01-19 13:00:00+00:00",
          "2025-01-19 14:00:00+00:00",
          "2025-01-19 15:00:00+00:00",
          "2025-01-19 16:00:00+00:00",
          "2025-01-19 17:00:00+00:00",
          "2025-01-19 18:00:00+00:00",
          "2025-01-19 19:00:00+00:00",
          "2025-01-19 20:00:00+00:00",
          "2025-01-19 21:00:00+00:00",
          "2025-01-19 22:00:00+00:00",
          "2025-01-19 23:00:00+00:00",
          "2025-01-20 00:00:00+00:00",
          "2025-01-20 01:00:00+00:00",
          "2025-01-20 02:00:00+00:00",
          "2025-01-20 03:00:00+00:00",
          "2025-01-20 04:00:00+00:00",
          "2025-01-20 05:00:00+00:00",
          "2025-01-20 06:00:00+00:00",
          "2025-01-20 07:00:00+00:00",
          "2025-01-20 08:00:00+00:00",
          "2025-01-20 09:00:00+00:00",
          "2025-01-20 10:00:00+00:00",
          "2025-01-20 11:00:00+00:00",
          "2025-01-20 12:00:00+00:00",
          "2025-01-20 13:00:00+00:00",
          "2025-01-20 14:00:00+00:00",
          "2025-01-20 15:00:00+00:00",
          "2025-01-20 16:00:00+00:00",
          "2025-01-20 17:00:00+00:00",
          "2025-01-20 18:00:00+00:00",
          "2025-01-20 19:00:00+00:00",
          "2025-01-20 20:00:00+00:00",
          "2025-01-20 21:00:00+00:00",
          "2025-01-20 22:00:00+00:00",
          "2025-01-20 23:00:00+00:00",
          "2025-01-21 00:00:00+00:00",
          "2025-01-21 01:00:00+00:00",
          "2025-01-21 02:00:00+00:00",
          "2025-01-21 03:00:00+00:00",
          "2025-01-21 04:00:00+00:00",
          "2025-01-21 05:00:00+00:00",
          "2025-01-21 06:00:00+00:00",
          "2025-01-21 07:00:00+00:00",
          "2025-01-21 08:00:00+00:00",
          "2025-01-21 09:00:00+00:00",
          "2025-01-21 10:00:00+00:00",
          "2025-01-21 11:00:00+00:00",
          "2025-01-21 12:00:00+00:00",
          "2025-01-21 13:00:00+00:00",
          "2025-01-21 14:00:00+00:00",
          "2025-01-21 15:00:00+00:00",
          "2025-01-21 16:00:00+00:00",
          "2025-01-21 17:00:00+00:00",
          "2025-01-21 18:00:00+00:00",
          "2025-01-21 19:00:00+00:00",
          "2025-01-21 20:00:00+00:00",
          "2025-01-21 21:00:00+00:00",
          "2025-01-21 22:00:00+00:00",
          "2025-01-21 23:00:00+00:00"
         ],
         "xaxis": "x",
         "y": [
          3541430,
          3880470,
          4258345,
          3433229,
          3594119,
          3363906,
          3606029,
          4419649,
          3696280,
          3944063,
          3551712,
          3921775,
          5669659,
          13687009,
          8350362,
          6463511,
          5100346,
          4284363,
          4507259,
          4274619,
          5222339,
          4439427,
          3944996,
          4232433,
          3943753,
          4078819,
          4818084,
          3806380,
          4046484,
          4398812,
          4133026,
          4383574,
          4160919,
          5782672,
          9765582,
          5381630,
          7841164,
          5871528,
          5552727,
          4525175,
          4807053,
          4907902,
          4325085,
          5122138,
          4430375,
          4810303,
          5239654,
          4610317,
          4098925,
          4149466,
          3862509,
          3810064,
          3749037,
          4012479,
          4034505,
          4617773,
          4170541,
          5008136,
          4551464,
          5350860,
          5067039,
          7337357,
          5505985,
          5328158,
          6413278,
          6082019,
          6063452,
          6316166,
          4894748,
          5156879,
          4464559,
          4273581,
          3926748,
          3391078,
          3532142,
          3499570,
          3456772,
          3407650,
          3502390,
          3640568,
          3531854,
          3851634,
          4214284,
          4690543,
          4639814,
          4476821,
          7744960,
          6394436,
          7002170,
          6308825,
          6110817,
          6152740,
          6789220,
          6847200,
          4434797,
          5001759
         ],
         "yaxis": "y"
        },
        {
         "fillpattern": {
          "shape": ""
         },
         "hovertemplate": "Message Type=other<br>timestamp=%{x}<br>inout=%{y}<extra></extra>",
         "legendgroup": "other",
         "line": {
          "color": "#FFA15A"
         },
         "marker": {
          "symbol": "circle"
         },
         "mode": "lines",
         "name": "other",
         "orientation": "v",
         "showlegend": true,
         "stackgroup": "1",
         "type": "scatter",
         "x": [
          "2025-01-18 00:00:00+00:00",
          "2025-01-18 01:00:00+00:00",
          "2025-01-18 02:00:00+00:00",
          "2025-01-18 03:00:00+00:00",
          "2025-01-18 04:00:00+00:00",
          "2025-01-18 05:00:00+00:00",
          "2025-01-18 06:00:00+00:00",
          "2025-01-18 07:00:00+00:00",
          "2025-01-18 08:00:00+00:00",
          "2025-01-18 09:00:00+00:00",
          "2025-01-18 10:00:00+00:00",
          "2025-01-18 11:00:00+00:00",
          "2025-01-18 12:00:00+00:00",
          "2025-01-18 13:00:00+00:00",
          "2025-01-18 14:00:00+00:00",
          "2025-01-18 15:00:00+00:00",
          "2025-01-18 16:00:00+00:00",
          "2025-01-18 17:00:00+00:00",
          "2025-01-18 18:00:00+00:00",
          "2025-01-18 19:00:00+00:00",
          "2025-01-18 20:00:00+00:00",
          "2025-01-18 21:00:00+00:00",
          "2025-01-18 22:00:00+00:00",
          "2025-01-18 23:00:00+00:00",
          "2025-01-19 00:00:00+00:00",
          "2025-01-19 01:00:00+00:00",
          "2025-01-19 02:00:00+00:00",
          "2025-01-19 03:00:00+00:00",
          "2025-01-19 04:00:00+00:00",
          "2025-01-19 05:00:00+00:00",
          "2025-01-19 06:00:00+00:00",
          "2025-01-19 07:00:00+00:00",
          "2025-01-19 08:00:00+00:00",
          "2025-01-19 09:00:00+00:00",
          "2025-01-19 10:00:00+00:00",
          "2025-01-19 11:00:00+00:00",
          "2025-01-19 12:00:00+00:00",
          "2025-01-19 13:00:00+00:00",
          "2025-01-19 14:00:00+00:00",
          "2025-01-19 15:00:00+00:00",
          "2025-01-19 16:00:00+00:00",
          "2025-01-19 17:00:00+00:00",
          "2025-01-19 18:00:00+00:00",
          "2025-01-19 19:00:00+00:00",
          "2025-01-19 20:00:00+00:00",
          "2025-01-19 21:00:00+00:00",
          "2025-01-19 22:00:00+00:00",
          "2025-01-19 23:00:00+00:00",
          "2025-01-20 00:00:00+00:00",
          "2025-01-20 01:00:00+00:00",
          "2025-01-20 02:00:00+00:00",
          "2025-01-20 03:00:00+00:00",
          "2025-01-20 04:00:00+00:00",
          "2025-01-20 05:00:00+00:00",
          "2025-01-20 06:00:00+00:00",
          "2025-01-20 07:00:00+00:00",
          "2025-01-20 08:00:00+00:00",
          "2025-01-20 09:00:00+00:00",
          "2025-01-20 10:00:00+00:00",
          "2025-01-20 11:00:00+00:00",
          "2025-01-20 12:00:00+00:00",
          "2025-01-20 13:00:00+00:00",
          "2025-01-20 14:00:00+00:00",
          "2025-01-20 15:00:00+00:00",
          "2025-01-20 16:00:00+00:00",
          "2025-01-20 17:00:00+00:00",
          "2025-01-20 18:00:00+00:00",
          "2025-01-20 19:00:00+00:00",
          "2025-01-20 20:00:00+00:00",
          "2025-01-20 21:00:00+00:00",
          "2025-01-20 22:00:00+00:00",
          "2025-01-20 23:00:00+00:00",
          "2025-01-21 00:00:00+00:00",
          "2025-01-21 01:00:00+00:00",
          "2025-01-21 02:00:00+00:00",
          "2025-01-21 03:00:00+00:00",
          "2025-01-21 04:00:00+00:00",
          "2025-01-21 05:00:00+00:00",
          "2025-01-21 06:00:00+00:00",
          "2025-01-21 07:00:00+00:00",
          "2025-01-21 08:00:00+00:00",
          "2025-01-21 09:00:00+00:00",
          "2025-01-21 10:00:00+00:00",
          "2025-01-21 11:00:00+00:00",
          "2025-01-21 12:00:00+00:00",
          "2025-01-21 13:00:00+00:00",
          "2025-01-21 14:00:00+00:00",
          "2025-01-21 15:00:00+00:00",
          "2025-01-21 16:00:00+00:00",
          "2025-01-21 17:00:00+00:00",
          "2025-01-21 18:00:00+00:00",
          "2025-01-21 19:00:00+00:00",
          "2025-01-21 20:00:00+00:00",
          "2025-01-21 21:00:00+00:00",
          "2025-01-21 22:00:00+00:00",
          "2025-01-21 23:00:00+00:00"
         ],
         "xaxis": "x",
         "y": [
          405808,
          457028,
          515215,
          379230,
          423195,
          395496,
          360017,
          458289,
          395305,
          440850,
          457880,
          397800,
          591310,
          1267038,
          604223,
          944000,
          665766,
          264669,
          701715,
          486404,
          796515,
          597861,
          354833,
          530467,
          552821,
          401538,
          555437,
          368796,
          434723,
          417296,
          331569,
          616200,
          368973,
          684212,
          679799,
          630665,
          785019,
          463870,
          711860,
          571389,
          472453,
          526170,
          417742,
          515231,
          442656,
          494009,
          487693,
          489762,
          452945,
          438532,
          369996,
          436439,
          354430,
          461835,
          416891,
          350128,
          523508,
          587374,
          315001,
          630515,
          402234,
          841625,
          415754,
          397195,
          651706,
          671535,
          507041,
          601603,
          425069,
          610944,
          498084,
          450081,
          416970,
          395768,
          491856,
          342757,
          464044,
          428645,
          381231,
          475715,
          406963,
          355339,
          323074,
          388574,
          314131,
          443663,
          658027,
          482669,
          568888,
          544683,
          499915,
          371042,
          509681,
          509224,
          307533,
          392125
         ],
         "yaxis": "y"
        },
        {
         "fillpattern": {
          "shape": ""
         },
         "hovertemplate": "Message Type=reject<br>timestamp=%{x}<br>inout=%{y}<extra></extra>",
         "legendgroup": "reject",
         "line": {
          "color": "#19d3f3"
         },
         "marker": {
          "symbol": "circle"
         },
         "mode": "lines",
         "name": "reject",
         "orientation": "v",
         "showlegend": true,
         "stackgroup": "1",
         "type": "scatter",
         "x": [
          "2025-01-18 00:00:00+00:00",
          "2025-01-18 01:00:00+00:00",
          "2025-01-18 02:00:00+00:00",
          "2025-01-18 03:00:00+00:00",
          "2025-01-18 04:00:00+00:00",
          "2025-01-18 05:00:00+00:00",
          "2025-01-18 06:00:00+00:00",
          "2025-01-18 07:00:00+00:00",
          "2025-01-18 08:00:00+00:00",
          "2025-01-18 09:00:00+00:00",
          "2025-01-18 10:00:00+00:00",
          "2025-01-18 11:00:00+00:00",
          "2025-01-18 12:00:00+00:00",
          "2025-01-18 13:00:00+00:00",
          "2025-01-18 14:00:00+00:00",
          "2025-01-18 15:00:00+00:00",
          "2025-01-18 16:00:00+00:00",
          "2025-01-18 17:00:00+00:00",
          "2025-01-18 18:00:00+00:00",
          "2025-01-18 19:00:00+00:00",
          "2025-01-18 20:00:00+00:00",
          "2025-01-18 21:00:00+00:00",
          "2025-01-18 22:00:00+00:00",
          "2025-01-18 23:00:00+00:00",
          "2025-01-19 00:00:00+00:00",
          "2025-01-19 01:00:00+00:00",
          "2025-01-19 02:00:00+00:00",
          "2025-01-19 03:00:00+00:00",
          "2025-01-19 04:00:00+00:00",
          "2025-01-19 05:00:00+00:00",
          "2025-01-19 06:00:00+00:00",
          "2025-01-19 07:00:00+00:00",
          "2025-01-19 08:00:00+00:00",
          "2025-01-19 09:00:00+00:00",
          "2025-01-19 10:00:00+00:00",
          "2025-01-19 11:00:00+00:00",
          "2025-01-19 12:00:00+00:00",
          "2025-01-19 13:00:00+00:00",
          "2025-01-19 14:00:00+00:00",
          "2025-01-19 15:00:00+00:00",
          "2025-01-19 16:00:00+00:00",
          "2025-01-19 17:00:00+00:00",
          "2025-01-19 18:00:00+00:00",
          "2025-01-19 19:00:00+00:00",
          "2025-01-19 20:00:00+00:00",
          "2025-01-19 21:00:00+00:00",
          "2025-01-19 22:00:00+00:00",
          "2025-01-19 23:00:00+00:00",
          "2025-01-20 01:00:00+00:00"
         ],
         "xaxis": "x",
         "y": [
          202835,
          299580,
          313465,
          172705,
          172600,
          197505,
          281285,
          331245,
          338365,
          282320,
          213645,
          221435,
          390485,
          2654600,
          1106015,
          617512,
          210738,
          180775,
          163533,
          202440,
          214007,
          25260,
          17450,
          12145,
          8570,
          3265,
          3225,
          4945,
          4350,
          4085,
          3765,
          3765,
          2515,
          2445,
          2125,
          2725,
          3835,
          7825,
          3835,
          1875,
          2460,
          820,
          3210,
          820,
          1890,
          375,
          250,
          125,
          125
         ],
         "yaxis": "y"
        },
        {
         "fillpattern": {
          "shape": ""
         },
         "hovertemplate": "Message Type=tx<br>timestamp=%{x}<br>inout=%{y}<extra></extra>",
         "legendgroup": "tx",
         "line": {
          "color": "#FF6692"
         },
         "marker": {
          "symbol": "circle"
         },
         "mode": "lines",
         "name": "tx",
         "orientation": "v",
         "showlegend": true,
         "stackgroup": "1",
         "type": "scatter",
         "x": [
          "2025-01-18 00:00:00+00:00",
          "2025-01-18 01:00:00+00:00",
          "2025-01-18 02:00:00+00:00",
          "2025-01-18 03:00:00+00:00",
          "2025-01-18 04:00:00+00:00",
          "2025-01-18 05:00:00+00:00",
          "2025-01-18 06:00:00+00:00",
          "2025-01-18 07:00:00+00:00",
          "2025-01-18 08:00:00+00:00",
          "2025-01-18 09:00:00+00:00",
          "2025-01-18 10:00:00+00:00",
          "2025-01-18 11:00:00+00:00",
          "2025-01-18 12:00:00+00:00",
          "2025-01-18 13:00:00+00:00",
          "2025-01-18 14:00:00+00:00",
          "2025-01-18 15:00:00+00:00",
          "2025-01-18 16:00:00+00:00",
          "2025-01-18 17:00:00+00:00",
          "2025-01-18 18:00:00+00:00",
          "2025-01-18 19:00:00+00:00",
          "2025-01-18 20:00:00+00:00",
          "2025-01-18 21:00:00+00:00",
          "2025-01-18 22:00:00+00:00",
          "2025-01-18 23:00:00+00:00",
          "2025-01-19 00:00:00+00:00",
          "2025-01-19 01:00:00+00:00",
          "2025-01-19 02:00:00+00:00",
          "2025-01-19 03:00:00+00:00",
          "2025-01-19 04:00:00+00:00",
          "2025-01-19 05:00:00+00:00",
          "2025-01-19 06:00:00+00:00",
          "2025-01-19 07:00:00+00:00",
          "2025-01-19 08:00:00+00:00",
          "2025-01-19 09:00:00+00:00",
          "2025-01-19 10:00:00+00:00",
          "2025-01-19 11:00:00+00:00",
          "2025-01-19 12:00:00+00:00",
          "2025-01-19 13:00:00+00:00",
          "2025-01-19 14:00:00+00:00",
          "2025-01-19 15:00:00+00:00",
          "2025-01-19 16:00:00+00:00",
          "2025-01-19 17:00:00+00:00",
          "2025-01-19 18:00:00+00:00",
          "2025-01-19 19:00:00+00:00",
          "2025-01-19 20:00:00+00:00",
          "2025-01-19 21:00:00+00:00",
          "2025-01-19 22:00:00+00:00",
          "2025-01-19 23:00:00+00:00",
          "2025-01-20 00:00:00+00:00",
          "2025-01-20 01:00:00+00:00",
          "2025-01-20 02:00:00+00:00",
          "2025-01-20 03:00:00+00:00",
          "2025-01-20 04:00:00+00:00",
          "2025-01-20 05:00:00+00:00",
          "2025-01-20 06:00:00+00:00",
          "2025-01-20 07:00:00+00:00",
          "2025-01-20 08:00:00+00:00",
          "2025-01-20 09:00:00+00:00",
          "2025-01-20 10:00:00+00:00",
          "2025-01-20 11:00:00+00:00",
          "2025-01-20 12:00:00+00:00",
          "2025-01-20 13:00:00+00:00",
          "2025-01-20 14:00:00+00:00",
          "2025-01-20 15:00:00+00:00",
          "2025-01-20 16:00:00+00:00",
          "2025-01-20 17:00:00+00:00",
          "2025-01-20 18:00:00+00:00",
          "2025-01-20 19:00:00+00:00",
          "2025-01-20 20:00:00+00:00",
          "2025-01-20 21:00:00+00:00",
          "2025-01-20 22:00:00+00:00",
          "2025-01-20 23:00:00+00:00",
          "2025-01-21 00:00:00+00:00",
          "2025-01-21 01:00:00+00:00",
          "2025-01-21 02:00:00+00:00",
          "2025-01-21 03:00:00+00:00",
          "2025-01-21 04:00:00+00:00",
          "2025-01-21 05:00:00+00:00",
          "2025-01-21 06:00:00+00:00",
          "2025-01-21 07:00:00+00:00",
          "2025-01-21 08:00:00+00:00",
          "2025-01-21 09:00:00+00:00",
          "2025-01-21 10:00:00+00:00",
          "2025-01-21 11:00:00+00:00",
          "2025-01-21 12:00:00+00:00",
          "2025-01-21 13:00:00+00:00",
          "2025-01-21 14:00:00+00:00",
          "2025-01-21 15:00:00+00:00",
          "2025-01-21 16:00:00+00:00",
          "2025-01-21 17:00:00+00:00",
          "2025-01-21 18:00:00+00:00",
          "2025-01-21 19:00:00+00:00",
          "2025-01-21 20:00:00+00:00",
          "2025-01-21 21:00:00+00:00",
          "2025-01-21 22:00:00+00:00",
          "2025-01-21 23:00:00+00:00"
         ],
         "xaxis": "x",
         "y": [
          12456913,
          10426476,
          20408144,
          10478418,
          22484117,
          20861874,
          16883257,
          18960608,
          9027725,
          12869976,
          8037892,
          8014975,
          19083965,
          27647761,
          15708008,
          11779038,
          10945219,
          8403860,
          10016941,
          8799773,
          10851049,
          12006938,
          8127060,
          7788255,
          9990031,
          20098264,
          26394430,
          16836584,
          17805533,
          19496055,
          13312048,
          13797124,
          12683245,
          13240928,
          19299270,
          8780542,
          15852355,
          10260436,
          10485424,
          8528277,
          10114798,
          9928832,
          7972145,
          11504280,
          7604654,
          9716242,
          11498954,
          12747377,
          16382223,
          13412666,
          12234727,
          12743326,
          13778367,
          15104614,
          12182116,
          14127614,
          8199701,
          12393071,
          10668978,
          12084658,
          10863198,
          16176704,
          16335731,
          23417753,
          14492655,
          28368515,
          33894603,
          27287755,
          12725323,
          24451556,
          23301197,
          23242957,
          19959751,
          10976633,
          15907865,
          7448673,
          6104801,
          7635653,
          7649310,
          7648977,
          8169802,
          6977519,
          7096635,
          7748605,
          8500754,
          7861489,
          18977613,
          14149752,
          17150444,
          11495521,
          11817045,
          11529567,
          13521190,
          12215804,
          7787010,
          8031006
         ],
         "yaxis": "y"
        },
        {
         "line": {
          "color": "black",
          "width": 2
         },
         "mode": "lines",
         "name": "emp_hourly",
         "type": "scatter",
         "x": [
          "2025-01-18 00:00:00+00:00",
          "2025-01-18 01:00:00+00:00",
          "2025-01-18 02:00:00+00:00",
          "2025-01-18 03:00:00+00:00",
          "2025-01-18 04:00:00+00:00",
          "2025-01-18 05:00:00+00:00",
          "2025-01-18 06:00:00+00:00",
          "2025-01-18 07:00:00+00:00",
          "2025-01-18 08:00:00+00:00",
          "2025-01-18 09:00:00+00:00",
          "2025-01-18 10:00:00+00:00",
          "2025-01-18 11:00:00+00:00",
          "2025-01-18 12:00:00+00:00",
          "2025-01-18 13:00:00+00:00",
          "2025-01-18 14:00:00+00:00",
          "2025-01-18 15:00:00+00:00",
          "2025-01-18 16:00:00+00:00",
          "2025-01-18 17:00:00+00:00",
          "2025-01-18 18:00:00+00:00",
          "2025-01-18 19:00:00+00:00",
          "2025-01-18 20:00:00+00:00",
          "2025-01-18 21:00:00+00:00",
          "2025-01-18 22:00:00+00:00",
          "2025-01-18 23:00:00+00:00",
          "2025-01-19 00:00:00+00:00",
          "2025-01-19 01:00:00+00:00",
          "2025-01-19 02:00:00+00:00",
          "2025-01-19 03:00:00+00:00",
          "2025-01-19 04:00:00+00:00",
          "2025-01-19 05:00:00+00:00",
          "2025-01-19 06:00:00+00:00",
          "2025-01-19 07:00:00+00:00",
          "2025-01-19 08:00:00+00:00",
          "2025-01-19 09:00:00+00:00",
          "2025-01-19 10:00:00+00:00",
          "2025-01-19 11:00:00+00:00",
          "2025-01-19 12:00:00+00:00",
          "2025-01-19 13:00:00+00:00",
          "2025-01-19 14:00:00+00:00",
          "2025-01-19 15:00:00+00:00",
          "2025-01-19 16:00:00+00:00",
          "2025-01-19 17:00:00+00:00",
          "2025-01-19 18:00:00+00:00",
          "2025-01-19 19:00:00+00:00",
          "2025-01-19 20:00:00+00:00",
          "2025-01-19 21:00:00+00:00",
          "2025-01-19 22:00:00+00:00",
          "2025-01-19 23:00:00+00:00",
          "2025-01-20 00:00:00+00:00",
          "2025-01-20 01:00:00+00:00",
          "2025-01-20 02:00:00+00:00",
          "2025-01-20 03:00:00+00:00",
          "2025-01-20 04:00:00+00:00",
          "2025-01-20 05:00:00+00:00",
          "2025-01-20 06:00:00+00:00",
          "2025-01-20 07:00:00+00:00",
          "2025-01-20 08:00:00+00:00",
          "2025-01-20 09:00:00+00:00",
          "2025-01-20 10:00:00+00:00",
          "2025-01-20 11:00:00+00:00",
          "2025-01-20 12:00:00+00:00",
          "2025-01-20 13:00:00+00:00",
          "2025-01-20 14:00:00+00:00",
          "2025-01-20 15:00:00+00:00",
          "2025-01-20 16:00:00+00:00",
          "2025-01-20 17:00:00+00:00",
          "2025-01-20 18:00:00+00:00",
          "2025-01-20 19:00:00+00:00",
          "2025-01-20 20:00:00+00:00",
          "2025-01-20 21:00:00+00:00",
          "2025-01-20 22:00:00+00:00",
          "2025-01-20 23:00:00+00:00",
          "2025-01-21 00:00:00+00:00",
          "2025-01-21 01:00:00+00:00",
          "2025-01-21 02:00:00+00:00",
          "2025-01-21 03:00:00+00:00",
          "2025-01-21 04:00:00+00:00",
          "2025-01-21 05:00:00+00:00",
          "2025-01-21 06:00:00+00:00",
          "2025-01-21 07:00:00+00:00",
          "2025-01-21 08:00:00+00:00",
          "2025-01-21 09:00:00+00:00",
          "2025-01-21 10:00:00+00:00",
          "2025-01-21 11:00:00+00:00",
          "2025-01-21 12:00:00+00:00",
          "2025-01-21 13:00:00+00:00",
          "2025-01-21 14:00:00+00:00",
          "2025-01-21 15:00:00+00:00",
          "2025-01-21 16:00:00+00:00",
          "2025-01-21 17:00:00+00:00",
          "2025-01-21 18:00:00+00:00",
          "2025-01-21 19:00:00+00:00",
          "2025-01-21 20:00:00+00:00",
          "2025-01-21 21:00:00+00:00",
          "2025-01-21 22:00:00+00:00",
          "2025-01-21 23:00:00+00:00"
         ],
         "y": [
          19320380,
          17339880,
          27853102,
          16539543,
          31236549,
          29050066,
          23365818,
          26627683,
          15810865,
          19818440,
          14477946,
          14732638,
          28168100,
          51710809,
          29797252,
          23308588,
          19579348,
          15368840,
          18032295,
          24845494,
          19599733,
          19460365,
          21322079,
          15308424,
          19761449,
          28669511,
          33473605,
          22716897,
          23981597,
          25985525,
          19508349,
          20517704,
          18989561,
          21903306,
          31732079,
          25473506,
          29574682,
          18641606,
          19219904,
          15803405,
          18600286,
          17462365,
          14580632,
          19610725,
          14374605,
          16986903,
          19509292,
          20667342,
          36588844,
          19716981,
          18115008,
          18728033,
          19545438,
          21241043,
          18400711,
          21178440,
          14878130,
          19983262,
          17410836,
          20022543,
          18287871,
          26422922,
          24282338,
          31151910,
          23661731,
          37358247,
          42481357,
          36246292,
          20050887,
          32217721,
          47596638,
          51891141,
          26147596,
          16639142,
          21718626,
          13013443,
          11710256,
          13158811,
          13366598,
          13491438,
          13642174,
          13017579,
          13499181,
          14783244,
          15287922,
          14681514,
          30290061,
          23125857,
          26819865,
          20371810,
          20422234,
          20090746,
          22901824,
          21571873,
          14377594,
          15229049
         ]
        }
       ],
       "layout": {
        "legend": {
         "orientation": "h",
         "title": {
          "text": "Message Type"
         },
         "tracegroupgap": 0,
         "y": 1.02,
         "yanchor": "bottom"
        },
        "template": {
         "data": {
          "bar": [
           {
            "error_x": {
             "color": "#2a3f5f"
            },
            "error_y": {
             "color": "#2a3f5f"
            },
            "marker": {
             "line": {
              "color": "#E5ECF6",
              "width": 0.5
             },
             "pattern": {
              "fillmode": "overlay",
              "size": 10,
              "solidity": 0.2
             }
            },
            "type": "bar"
           }
          ],
          "barpolar": [
           {
            "marker": {
             "line": {
              "color": "#E5ECF6",
              "width": 0.5
             },
             "pattern": {
              "fillmode": "overlay",
              "size": 10,
              "solidity": 0.2
             }
            },
            "type": "barpolar"
           }
          ],
          "carpet": [
           {
            "aaxis": {
             "endlinecolor": "#2a3f5f",
             "gridcolor": "white",
             "linecolor": "white",
             "minorgridcolor": "white",
             "startlinecolor": "#2a3f5f"
            },
            "baxis": {
             "endlinecolor": "#2a3f5f",
             "gridcolor": "white",
             "linecolor": "white",
             "minorgridcolor": "white",
             "startlinecolor": "#2a3f5f"
            },
            "type": "carpet"
           }
          ],
          "choropleth": [
           {
            "colorbar": {
             "outlinewidth": 0,
             "ticks": ""
            },
            "type": "choropleth"
           }
          ],
          "contour": [
           {
            "colorbar": {
             "outlinewidth": 0,
             "ticks": ""
            },
            "colorscale": [
             [
              0,
              "#0d0887"
             ],
             [
              0.1111111111111111,
              "#46039f"
             ],
             [
              0.2222222222222222,
              "#7201a8"
             ],
             [
              0.3333333333333333,
              "#9c179e"
             ],
             [
              0.4444444444444444,
              "#bd3786"
             ],
             [
              0.5555555555555556,
              "#d8576b"
             ],
             [
              0.6666666666666666,
              "#ed7953"
             ],
             [
              0.7777777777777778,
              "#fb9f3a"
             ],
             [
              0.8888888888888888,
              "#fdca26"
             ],
             [
              1,
              "#f0f921"
             ]
            ],
            "type": "contour"
           }
          ],
          "contourcarpet": [
           {
            "colorbar": {
             "outlinewidth": 0,
             "ticks": ""
            },
            "type": "contourcarpet"
           }
          ],
          "heatmap": [
           {
            "colorbar": {
             "outlinewidth": 0,
             "ticks": ""
            },
            "colorscale": [
             [
              0,
              "#0d0887"
             ],
             [
              0.1111111111111111,
              "#46039f"
             ],
             [
              0.2222222222222222,
              "#7201a8"
             ],
             [
              0.3333333333333333,
              "#9c179e"
             ],
             [
              0.4444444444444444,
              "#bd3786"
             ],
             [
              0.5555555555555556,
              "#d8576b"
             ],
             [
              0.6666666666666666,
              "#ed7953"
             ],
             [
              0.7777777777777778,
              "#fb9f3a"
             ],
             [
              0.8888888888888888,
              "#fdca26"
             ],
             [
              1,
              "#f0f921"
             ]
            ],
            "type": "heatmap"
           }
          ],
          "heatmapgl": [
           {
            "colorbar": {
             "outlinewidth": 0,
             "ticks": ""
            },
            "colorscale": [
             [
              0,
              "#0d0887"
             ],
             [
              0.1111111111111111,
              "#46039f"
             ],
             [
              0.2222222222222222,
              "#7201a8"
             ],
             [
              0.3333333333333333,
              "#9c179e"
             ],
             [
              0.4444444444444444,
              "#bd3786"
             ],
             [
              0.5555555555555556,
              "#d8576b"
             ],
             [
              0.6666666666666666,
              "#ed7953"
             ],
             [
              0.7777777777777778,
              "#fb9f3a"
             ],
             [
              0.8888888888888888,
              "#fdca26"
             ],
             [
              1,
              "#f0f921"
             ]
            ],
            "type": "heatmapgl"
           }
          ],
          "histogram": [
           {
            "marker": {
             "pattern": {
              "fillmode": "overlay",
              "size": 10,
              "solidity": 0.2
             }
            },
            "type": "histogram"
           }
          ],
          "histogram2d": [
           {
            "colorbar": {
             "outlinewidth": 0,
             "ticks": ""
            },
            "colorscale": [
             [
              0,
              "#0d0887"
             ],
             [
              0.1111111111111111,
              "#46039f"
             ],
             [
              0.2222222222222222,
              "#7201a8"
             ],
             [
              0.3333333333333333,
              "#9c179e"
             ],
             [
              0.4444444444444444,
              "#bd3786"
             ],
             [
              0.5555555555555556,
              "#d8576b"
             ],
             [
              0.6666666666666666,
              "#ed7953"
             ],
             [
              0.7777777777777778,
              "#fb9f3a"
             ],
             [
              0.8888888888888888,
              "#fdca26"
             ],
             [
              1,
              "#f0f921"
             ]
            ],
            "type": "histogram2d"
           }
          ],
          "histogram2dcontour": [
           {
            "colorbar": {
             "outlinewidth": 0,
             "ticks": ""
            },
            "colorscale": [
             [
              0,
              "#0d0887"
             ],
             [
              0.1111111111111111,
              "#46039f"
             ],
             [
              0.2222222222222222,
              "#7201a8"
             ],
             [
              0.3333333333333333,
              "#9c179e"
             ],
             [
              0.4444444444444444,
              "#bd3786"
             ],
             [
              0.5555555555555556,
              "#d8576b"
             ],
             [
              0.6666666666666666,
              "#ed7953"
             ],
             [
              0.7777777777777778,
              "#fb9f3a"
             ],
             [
              0.8888888888888888,
              "#fdca26"
             ],
             [
              1,
              "#f0f921"
             ]
            ],
            "type": "histogram2dcontour"
           }
          ],
          "mesh3d": [
           {
            "colorbar": {
             "outlinewidth": 0,
             "ticks": ""
            },
            "type": "mesh3d"
           }
          ],
          "parcoords": [
           {
            "line": {
             "colorbar": {
              "outlinewidth": 0,
              "ticks": ""
             }
            },
            "type": "parcoords"
           }
          ],
          "pie": [
           {
            "automargin": true,
            "type": "pie"
           }
          ],
          "scatter": [
           {
            "fillpattern": {
             "fillmode": "overlay",
             "size": 10,
             "solidity": 0.2
            },
            "type": "scatter"
           }
          ],
          "scatter3d": [
           {
            "line": {
             "colorbar": {
              "outlinewidth": 0,
              "ticks": ""
             }
            },
            "marker": {
             "colorbar": {
              "outlinewidth": 0,
              "ticks": ""
             }
            },
            "type": "scatter3d"
           }
          ],
          "scattercarpet": [
           {
            "marker": {
             "colorbar": {
              "outlinewidth": 0,
              "ticks": ""
             }
            },
            "type": "scattercarpet"
           }
          ],
          "scattergeo": [
           {
            "marker": {
             "colorbar": {
              "outlinewidth": 0,
              "ticks": ""
             }
            },
            "type": "scattergeo"
           }
          ],
          "scattergl": [
           {
            "marker": {
             "colorbar": {
              "outlinewidth": 0,
              "ticks": ""
             }
            },
            "type": "scattergl"
           }
          ],
          "scattermapbox": [
           {
            "marker": {
             "colorbar": {
              "outlinewidth": 0,
              "ticks": ""
             }
            },
            "type": "scattermapbox"
           }
          ],
          "scatterpolar": [
           {
            "marker": {
             "colorbar": {
              "outlinewidth": 0,
              "ticks": ""
             }
            },
            "type": "scatterpolar"
           }
          ],
          "scatterpolargl": [
           {
            "marker": {
             "colorbar": {
              "outlinewidth": 0,
              "ticks": ""
             }
            },
            "type": "scatterpolargl"
           }
          ],
          "scatterternary": [
           {
            "marker": {
             "colorbar": {
              "outlinewidth": 0,
              "ticks": ""
             }
            },
            "type": "scatterternary"
           }
          ],
          "surface": [
           {
            "colorbar": {
             "outlinewidth": 0,
             "ticks": ""
            },
            "colorscale": [
             [
              0,
              "#0d0887"
             ],
             [
              0.1111111111111111,
              "#46039f"
             ],
             [
              0.2222222222222222,
              "#7201a8"
             ],
             [
              0.3333333333333333,
              "#9c179e"
             ],
             [
              0.4444444444444444,
              "#bd3786"
             ],
             [
              0.5555555555555556,
              "#d8576b"
             ],
             [
              0.6666666666666666,
              "#ed7953"
             ],
             [
              0.7777777777777778,
              "#fb9f3a"
             ],
             [
              0.8888888888888888,
              "#fdca26"
             ],
             [
              1,
              "#f0f921"
             ]
            ],
            "type": "surface"
           }
          ],
          "table": [
           {
            "cells": {
             "fill": {
              "color": "#EBF0F8"
             },
             "line": {
              "color": "white"
             }
            },
            "header": {
             "fill": {
              "color": "#C8D4E3"
             },
             "line": {
              "color": "white"
             }
            },
            "type": "table"
           }
          ]
         },
         "layout": {
          "annotationdefaults": {
           "arrowcolor": "#2a3f5f",
           "arrowhead": 0,
           "arrowwidth": 1
          },
          "autotypenumbers": "strict",
          "coloraxis": {
           "colorbar": {
            "outlinewidth": 0,
            "ticks": ""
           }
          },
          "colorscale": {
           "diverging": [
            [
             0,
             "#8e0152"
            ],
            [
             0.1,
             "#c51b7d"
            ],
            [
             0.2,
             "#de77ae"
            ],
            [
             0.3,
             "#f1b6da"
            ],
            [
             0.4,
             "#fde0ef"
            ],
            [
             0.5,
             "#f7f7f7"
            ],
            [
             0.6,
             "#e6f5d0"
            ],
            [
             0.7,
             "#b8e186"
            ],
            [
             0.8,
             "#7fbc41"
            ],
            [
             0.9,
             "#4d9221"
            ],
            [
             1,
             "#276419"
            ]
           ],
           "sequential": [
            [
             0,
             "#0d0887"
            ],
            [
             0.1111111111111111,
             "#46039f"
            ],
            [
             0.2222222222222222,
             "#7201a8"
            ],
            [
             0.3333333333333333,
             "#9c179e"
            ],
            [
             0.4444444444444444,
             "#bd3786"
            ],
            [
             0.5555555555555556,
             "#d8576b"
            ],
            [
             0.6666666666666666,
             "#ed7953"
            ],
            [
             0.7777777777777778,
             "#fb9f3a"
            ],
            [
             0.8888888888888888,
             "#fdca26"
            ],
            [
             1,
             "#f0f921"
            ]
           ],
           "sequentialminus": [
            [
             0,
             "#0d0887"
            ],
            [
             0.1111111111111111,
             "#46039f"
            ],
            [
             0.2222222222222222,
             "#7201a8"
            ],
            [
             0.3333333333333333,
             "#9c179e"
            ],
            [
             0.4444444444444444,
             "#bd3786"
            ],
            [
             0.5555555555555556,
             "#d8576b"
            ],
            [
             0.6666666666666666,
             "#ed7953"
            ],
            [
             0.7777777777777778,
             "#fb9f3a"
            ],
            [
             0.8888888888888888,
             "#fdca26"
            ],
            [
             1,
             "#f0f921"
            ]
           ]
          },
          "colorway": [
           "#636efa",
           "#EF553B",
           "#00cc96",
           "#ab63fa",
           "#FFA15A",
           "#19d3f3",
           "#FF6692",
           "#B6E880",
           "#FF97FF",
           "#FECB52"
          ],
          "font": {
           "color": "#2a3f5f"
          },
          "geo": {
           "bgcolor": "white",
           "lakecolor": "white",
           "landcolor": "#E5ECF6",
           "showlakes": true,
           "showland": true,
           "subunitcolor": "white"
          },
          "hoverlabel": {
           "align": "left"
          },
          "hovermode": "closest",
          "mapbox": {
           "style": "light"
          },
          "paper_bgcolor": "white",
          "plot_bgcolor": "#E5ECF6",
          "polar": {
           "angularaxis": {
            "gridcolor": "white",
            "linecolor": "white",
            "ticks": ""
           },
           "bgcolor": "#E5ECF6",
           "radialaxis": {
            "gridcolor": "white",
            "linecolor": "white",
            "ticks": ""
           }
          },
          "scene": {
           "xaxis": {
            "backgroundcolor": "#E5ECF6",
            "gridcolor": "white",
            "gridwidth": 2,
            "linecolor": "white",
            "showbackground": true,
            "ticks": "",
            "zerolinecolor": "white"
           },
           "yaxis": {
            "backgroundcolor": "#E5ECF6",
            "gridcolor": "white",
            "gridwidth": 2,
            "linecolor": "white",
            "showbackground": true,
            "ticks": "",
            "zerolinecolor": "white"
           },
           "zaxis": {
            "backgroundcolor": "#E5ECF6",
            "gridcolor": "white",
            "gridwidth": 2,
            "linecolor": "white",
            "showbackground": true,
            "ticks": "",
            "zerolinecolor": "white"
           }
          },
          "shapedefaults": {
           "line": {
            "color": "#2a3f5f"
           }
          },
          "ternary": {
           "aaxis": {
            "gridcolor": "white",
            "linecolor": "white",
            "ticks": ""
           },
           "baxis": {
            "gridcolor": "white",
            "linecolor": "white",
            "ticks": ""
           },
           "bgcolor": "#E5ECF6",
           "caxis": {
            "gridcolor": "white",
            "linecolor": "white",
            "ticks": ""
           }
          },
          "title": {
           "x": 0.05
          },
          "xaxis": {
           "automargin": true,
           "gridcolor": "white",
           "linecolor": "white",
           "ticks": "",
           "title": {
            "standoff": 15
           },
           "zerolinecolor": "white",
           "zerolinewidth": 2
          },
          "yaxis": {
           "automargin": true,
           "gridcolor": "white",
           "linecolor": "white",
           "ticks": "",
           "title": {
            "standoff": 15
           },
           "zerolinecolor": "white",
           "zerolinewidth": 2
          }
         }
        },
        "title": {
         "text": "Stacked Area Chart of net_size over Time by msg_type"
        },
        "xaxis": {
         "anchor": "y",
         "domain": [
          0,
          1
         ],
         "title": {
          "text": "Time"
         }
        },
        "yaxis": {
         "anchor": "x",
         "domain": [
          0,
          1
         ],
         "tickformat": ".2s",
         "ticksuffix": "B",
         "title": {
          "text": "Net Size"
         }
        }
       }
      }
     },
     "metadata": {},
     "output_type": "display_data"
    }
   ],
   "source": [
    "import plotly.express as px\n",
    "import plotly.graph_objects as go\n",
    "\n",
    "fig = px.area(\n",
    "    dfs[\"est_hourly\"],\n",
    "    x=\"timestamp\",\n",
    "    y=\"inout\",\n",
    "    color=\"msg_type\",\n",
    "    title=\"Stacked Area Chart of net_size over Time by msg_type\",\n",
    "    labels={\"net_size\": \"Net Size\", \"hour_groups\": \"Time\", \"msg_type\": \"Message Type\"},\n",
    ")\n",
    "\n",
    "fig.add_trace(\n",
    "    go.Scatter(\n",
    "        x=dfs[\"emp_hourly\"].index,\n",
    "        y=dfs[\"emp_hourly\"][\"in\"] + dfs[\"emp_hourly\"][\"out\"],\n",
    "        mode=\"lines\",\n",
    "        name=\"emp_hourly\",\n",
    "        line=dict(color=\"black\", width=2),\n",
    "    )\n",
    ")\n",
    "\n",
    "fig.update_layout(\n",
    "    xaxis_title=\"Time\",\n",
    "    yaxis_title=\"Net Size\",\n",
    "    legend_title=\"Message Type\",\n",
    "    legend=dict(\n",
    "        orientation=\"h\",\n",
    "        yanchor=\"bottom\",\n",
    "        y=1.02,\n",
    "    ),\n",
    ")\n",
    "fig.update_yaxes(tickformat=\".2s\", ticksuffix=\"B\")\n",
    "fig.show()"
   ]
  }
 ],
 "metadata": {
  "kernelspec": {
   "display_name": "Python 3.10.7 64-bit",
   "language": "python",
   "name": "python3"
  },
  "language_info": {
   "codemirror_mode": {
    "name": "ipython",
    "version": 3
   },
   "file_extension": ".py",
   "mimetype": "text/x-python",
   "name": "python",
   "nbconvert_exporter": "python",
   "pygments_lexer": "ipython3",
   "version": "3.11.9"
  },
  "orig_nbformat": 4,
  "vscode": {
   "interpreter": {
    "hash": "b0fa6594d8f4cbf19f97940f81e996739fb7646882a419484c72d19e05852a7e"
   }
  }
 },
 "nbformat": 4,
 "nbformat_minor": 2
}
