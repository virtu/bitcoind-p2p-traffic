{
 "cells": [
  {
   "cell_type": "markdown",
   "metadata": {},
   "source": [
    "### Load input data"
   ]
  },
  {
   "cell_type": "code",
   "execution_count": null,
   "metadata": {},
   "outputs": [],
   "source": [
    "import pandas as pd\n",
    "\n",
    "data = [\"est_hourly\", \"est_daily\", \"emp_hourly\", \"emp_daily\"]\n",
    "dfs = {\n",
    "    name: pd.read_csv(f\"data/data_{name}.csv.bz2\", index_col=0, parse_dates=True)\n",
    "    for name in data\n",
    "}"
   ]
  },
  {
   "cell_type": "markdown",
   "metadata": {},
   "source": [
    "### Group message types with negligible contribution to network traffic into 'other' type\n",
    "\n",
    "- Add `inout` column, corresponding to the sum of the `in` and `out` flows\n",
    "- Group messages types whose maximum `inout` traffic contribution across the measurement period is below a certain threshold\n",
    "- Add normalized versions of the `in` and `out` columns"
   ]
  },
  {
   "cell_type": "code",
   "execution_count": null,
   "metadata": {},
   "outputs": [],
   "source": [
    "def recategorize_by_threshold(df_orig: pd.DataFrame, threshold: float) -> pd.DataFrame:\n",
    "    \"\"\"\n",
    "    1. Compute the maximum 'inout' value for each msg_type across the entire dataset.\n",
    "    2. Determine which msg_types exceed the threshold (keep_types).\n",
    "    3. For sub-threshold msg_types, group by 'timestamp' to sum 'in', 'out', and 'inout'.\n",
    "    4. Return a new DataFrame with columns [timestamp, msg_type, in, out, inout].\n",
    "    \"\"\"\n",
    "    max_inout_by_type = df.groupby(\"msg_type\")[\"inout\"].max()\n",
    "    keep_types = max_inout_by_type[max_inout_by_type > threshold].index\n",
    "    df_keep = df[df[\"msg_type\"].isin(keep_types)].copy()\n",
    "    df_other = df[~df[\"msg_type\"].isin(keep_types)].copy()\n",
    "    df_keep.reset_index(inplace=True)\n",
    "    df_other.reset_index(inplace=True)\n",
    "    df_other_agg = df_other.groupby(\"timestamp\", as_index=False)[\n",
    "        [\"in\", \"out\", \"inout\"]\n",
    "    ].sum()\n",
    "    df_other_agg[\"msg_type\"] = \"other\"\n",
    "    result_df = pd.concat([df_keep, df_other_agg], ignore_index=True)\n",
    "    result_df.sort_values(by=[\"timestamp\", \"msg_type\"], inplace=True)\n",
    "    return result_df[[\"timestamp\", \"msg_type\", \"in\", \"out\", \"inout\"]]\n",
    "\n",
    "\n",
    "thresholds = {\n",
    "    \"est_daily\": 50_000_000,\n",
    "    \"est_hourly\": 5_000_000,\n",
    "}\n",
    "\n",
    "for name, threshold in thresholds.items():\n",
    "    df = dfs[name]\n",
    "    df[\"inout\"] = df[\"in\"] + df[\"out\"]\n",
    "    df = recategorize_by_threshold(df, threshold)\n",
    "    df[\"in_norm\"] = df[\"in\"] / df[\"inout\"]\n",
    "    df[\"out_norm\"] = df[\"out\"] / df[\"inout\"]\n",
    "    dfs[name] = df\n",
    "\n",
    "dfs[\"emp_hourly\"][\"inout\"] = dfs[\"emp_hourly\"][\"in\"] + dfs[\"emp_hourly\"][\"out\"]\n",
    "dfs[\"emp_daily\"][\"inout\"] = dfs[\"emp_daily\"][\"in\"] + dfs[\"emp_daily\"][\"out\"]"
   ]
  },
  {
   "cell_type": "markdown",
   "metadata": {},
   "source": [
    "# Validation"
   ]
  },
  {
   "cell_type": "markdown",
   "metadata": {},
   "source": [
    "### Hourly (IBD)"
   ]
  },
  {
   "cell_type": "code",
   "execution_count": null,
   "metadata": {},
   "outputs": [],
   "source": [
    "import matplotlib.dates as mdates\n",
    "import matplotlib.pyplot as plt\n",
    "from matplotlib.ticker import EngFormatter\n",
    "\n",
    "\n",
    "df_est = dfs[\"est_hourly\"].copy()\n",
    "df_pivot = df_est.pivot(index=\"timestamp\", columns=\"msg_type\", values=\"inout\").fillna(0)\n",
    "\n",
    "fig, ax = plt.subplots()\n",
    "\n",
    "msg_types = df_pivot.columns\n",
    "num_msg_types = len(msg_types)\n",
    "tab10 = plt.get_cmap(\"tab10\")\n",
    "colors = [tab10(i % 10) for i in range(num_msg_types)][::-1]\n",
    "colors = {msg_type: color for msg_type, color in zip(msg_types, colors)}\n",
    "\n",
    "ax.stackplot(\n",
    "    df_pivot.index,\n",
    "    *[df_pivot[col] for col in df_pivot.columns],\n",
    "    labels=df_pivot.columns,\n",
    "    colors=[colors[col] for col in df_pivot.columns],\n",
    ")\n",
    "emp_line = dfs[\"emp_hourly\"][\"inout\"]\n",
    "ax.plot(\n",
    "    dfs[\"emp_hourly\"].index,\n",
    "    emp_line,\n",
    "    color=\"black\",\n",
    "    linewidth=2,\n",
    "    label=\"Measurement (IP accounting)\",\n",
    ")\n",
    "\n",
    "fig.suptitle(\"Traffic estimate validation\")\n",
    "ax.set_title(\"Hourly tracepoint-based traffic estimates vs. systemd IP accounting data\")\n",
    "ax.set_ylabel(\"TCP/IP Traffic\")\n",
    "ax.legend(ncol=4, title=\"\")\n",
    "ax.set_yscale(\"log\")\n",
    "ax.set_ylim(ymax=999 * 10**9)\n",
    "formatter = EngFormatter(unit=\"B\")\n",
    "ax.yaxis.set_major_formatter(formatter)\n",
    "ax.xaxis.set_major_locator(mdates.DayLocator(interval=2))\n",
    "ax.xaxis.set_major_formatter(mdates.DateFormatter(\"%b %d\"))\n",
    "\n",
    "plt.tight_layout()\n",
    "plt.show()"
   ]
  },
  {
   "cell_type": "markdown",
   "metadata": {},
   "source": [
    "# Daily"
   ]
  },
  {
   "cell_type": "code",
   "execution_count": null,
   "metadata": {},
   "outputs": [],
   "source": [
    "import matplotlib.dates as mdates\n",
    "import matplotlib.pyplot as plt\n",
    "from matplotlib.ticker import EngFormatter\n",
    "\n",
    "\n",
    "df_est = dfs[\"est_daily\"].copy()\n",
    "df_pivot = df_est.pivot(index=\"timestamp\", columns=\"msg_type\", values=\"inout\").fillna(0)\n",
    "start_date = df_pivot.index.unique()[2]\n",
    "stop_date = df_pivot.index.unique()[-2]\n",
    "df_pivot = df_pivot[start_date:stop_date]  # remove IBD phase and data from last day\n",
    "\n",
    "fig, ax = plt.subplots()\n",
    "\n",
    "ax.stackplot(\n",
    "    df_pivot.index,\n",
    "    *[df_pivot[col] for col in df_pivot.columns],\n",
    "    labels=df_pivot.columns,\n",
    "    colors=[colors[col] for col in df_pivot.columns],\n",
    ")\n",
    "emp_line = dfs[\"emp_daily\"][\"inout\"]\n",
    "emp_line = emp_line[start_date:stop_date]  # remove IBD phase and data from last day\n",
    "ax.plot(\n",
    "    emp_line.index,\n",
    "    emp_line,\n",
    "    color=\"black\",\n",
    "    linewidth=2,\n",
    "    label=\"Measurement (IP accounting)\",\n",
    ")\n",
    "\n",
    "fig.suptitle(\"Traffic estimate validation\")\n",
    "ax.set_title(\"Daily tracepoint-based traffic estimates vs. systemd IP accounting data\")\n",
    "ax.set_ylabel(\"TCP/IP Traffic\")\n",
    "ax.legend(ncol=4, title=\"\")\n",
    "ax.set_ylim(ymax=799 * 10**6)\n",
    "formatter = EngFormatter(unit=\"B\")\n",
    "ax.yaxis.set_major_formatter(formatter)\n",
    "ax.xaxis.set_major_locator(mdates.DayLocator(interval=2))\n",
    "ax.xaxis.set_major_formatter(mdates.DateFormatter(\"%b %d\"))\n",
    "ax.xaxis.set_minor_locator(mdates.DayLocator(interval=1))\n",
    "\n",
    "plt.tight_layout()\n",
    "plt.show()"
   ]
  },
  {
   "cell_type": "markdown",
   "metadata": {},
   "source": [
    "## Daily share breakdown"
   ]
  },
  {
   "cell_type": "code",
   "execution_count": null,
   "metadata": {},
   "outputs": [],
   "source": [
    "import matplotlib.ticker as mtick\n",
    "\n",
    "\n",
    "df_shares = df_pivot.div(df_pivot.sum(axis=1), axis=0)\n",
    "df_shares\n",
    "\n",
    "fig, ax = plt.subplots()\n",
    "\n",
    "for col in df_shares.columns:\n",
    "    ax.plot(df_shares.index, df_shares[col], label=col, color=colors[col])\n",
    "\n",
    "# 4. Customize the plot\n",
    "fig.suptitle(\"Traffic shares\")\n",
    "ax.set_title(\"TODO\")\n",
    "ax.set_ylabel(\"TCP/IP traffic share\")  # or \"Share (%)\" if you multiplied by 100\n",
    "ax.legend()\n",
    "\n",
    "ax.xaxis.set_major_locator(mdates.DayLocator(interval=2))\n",
    "ax.xaxis.set_major_formatter(mdates.DateFormatter(\"%b %d\"))\n",
    "ax.xaxis.set_minor_locator(mdates.DayLocator(interval=1))\n",
    "ax.yaxis.set_major_formatter(mtick.PercentFormatter(1.0))\n",
    "\n",
    "\n",
    "plt.tight_layout()\n",
    "plt.show()"
   ]
  }
 ],
 "metadata": {
  "kernelspec": {
   "display_name": "Python 3.10.7 64-bit",
   "language": "python",
   "name": "python3"
  },
  "language_info": {
   "codemirror_mode": {
    "name": "ipython",
    "version": 3
   },
   "file_extension": ".py",
   "mimetype": "text/x-python",
   "name": "python",
   "nbconvert_exporter": "python",
   "pygments_lexer": "ipython3",
   "version": "3.11.9"
  },
  "vscode": {
   "interpreter": {
    "hash": "b0fa6594d8f4cbf19f97940f81e996739fb7646882a419484c72d19e05852a7e"
   }
  }
 },
 "nbformat": 4,
 "nbformat_minor": 2
}
