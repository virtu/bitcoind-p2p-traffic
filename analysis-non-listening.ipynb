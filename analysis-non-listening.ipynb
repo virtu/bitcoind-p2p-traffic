{
 "cells": [
  {
   "cell_type": "markdown",
   "metadata": {},
   "source": [
    "### Load input data"
   ]
  },
  {
   "cell_type": "code",
   "execution_count": 50,
   "metadata": {},
   "outputs": [],
   "source": [
    "import pandas as pd\n",
    "\n",
    "data = [\"est_hourly\", \"est_daily\", \"emp_hourly\", \"emp_daily\"]\n",
    "dfs = {name: pd.read_csv(f\"data/data_{name}.csv.bz2\", index_col=0) for name in data}"
   ]
  },
  {
   "cell_type": "markdown",
   "metadata": {},
   "source": [
    "### Group message types with negligible contribution to network traffic into 'other' type\n",
    "\n",
    "- Add `inout` column, corresponding to the sum of the `in` and `out` flows\n",
    "- Group messages types whose maximum `inout` traffic contribution across the measurement period is below a certain threshold\n",
    "- Add normalized versions of the `in` and `out` columns"
   ]
  },
  {
   "cell_type": "code",
   "execution_count": 51,
   "metadata": {},
   "outputs": [],
   "source": [
    "def recategorize_by_threshold(df_orig: pd.DataFrame, threshold: float) -> pd.DataFrame:\n",
    "    \"\"\"\n",
    "    1. Compute the maximum 'inout' value for each msg_type across the entire dataset.\n",
    "    2. Determine which msg_types exceed the threshold (keep_types).\n",
    "    3. For sub-threshold msg_types, group by 'timestamp' to sum 'in', 'out', and 'inout'.\n",
    "    4. Return a new DataFrame with columns [timestamp, msg_type, in, out, inout].\n",
    "    \"\"\"\n",
    "    max_inout_by_type = df.groupby(\"msg_type\")[\"inout\"].max()\n",
    "    keep_types = max_inout_by_type[max_inout_by_type > threshold].index\n",
    "    df_keep = df[df[\"msg_type\"].isin(keep_types)].copy()\n",
    "    df_other = df[~df[\"msg_type\"].isin(keep_types)].copy()\n",
    "    df_keep.reset_index(inplace=True)\n",
    "    df_other.reset_index(inplace=True)\n",
    "    df_other_agg = df_other.groupby(\"timestamp\", as_index=False)[\n",
    "        [\"in\", \"out\", \"inout\"]\n",
    "    ].sum()\n",
    "    df_other_agg[\"msg_type\"] = \"other\"\n",
    "    result_df = pd.concat([df_keep, df_other_agg], ignore_index=True)\n",
    "    result_df.sort_values(by=[\"timestamp\", \"msg_type\"], inplace=True)\n",
    "    return result_df[[\"timestamp\", \"msg_type\", \"in\", \"out\", \"inout\"]]\n",
    "\n",
    "\n",
    "thresholds = {\n",
    "    \"est_daily\": 50_000_000,\n",
    "    \"est_hourly\": 2_000_000,\n",
    "}\n",
    "\n",
    "for name, threshold in thresholds.items():\n",
    "    df = dfs[name]\n",
    "    df[\"inout\"] = df[\"in\"] + df[\"out\"]\n",
    "    df = recategorize_by_threshold(df, threshold)\n",
    "    df[\"in_norm\"] = df[\"in\"] / df[\"inout\"]\n",
    "    df[\"out_norm\"] = df[\"out\"] / df[\"inout\"]\n",
    "    dfs[name] = df"
   ]
  },
  {
   "cell_type": "markdown",
   "metadata": {},
   "source": [
    "## TODO:\n",
    "- [ ] Validate outflow with new `nix-bitcoin-monitor` approach"
   ]
  },
  {
   "cell_type": "markdown",
   "metadata": {},
   "source": [
    "## Plot daily in (absolute)"
   ]
  },
  {
   "cell_type": "code",
   "execution_count": null,
   "metadata": {},
   "outputs": [],
   "source": [
    "import plotly.express as px\n",
    "import plotly.graph_objects as go\n",
    "\n",
    "fig = px.area(\n",
    "    dfs[\"est_daily\"],\n",
    "    x=\"timestamp\",\n",
    "    y=\"in\",\n",
    "    color=\"msg_type\",\n",
    "    title=\"Stacked Area Chart of net_size over Time by msg_type\",\n",
    "    labels={\"net_size\": \"Net Size\", \"hour_groups\": \"Time\", \"msg_type\": \"Message Type\"},\n",
    ")\n",
    "\n",
    "fig.add_trace(\n",
    "    go.Scatter(\n",
    "        x=dfs[\"emp_daily\"].index,\n",
    "        y=dfs[\"emp_daily\"][\"in\"],\n",
    "        mode=\"lines\",\n",
    "        name=\"emp_daily\",\n",
    "        line=dict(color=\"black\", width=2),\n",
    "    )\n",
    ")\n",
    "\n",
    "fig.update_layout(\n",
    "    xaxis_title=\"Time\",\n",
    "    yaxis_title=\"Net Size\",\n",
    "    legend_title=\"Message Type\",\n",
    "    legend=dict(\n",
    "        orientation=\"h\",\n",
    "        yanchor=\"bottom\",\n",
    "        y=1.02,\n",
    "    ),\n",
    ")\n",
    "fig.update_yaxes(tickformat=\".2s\", ticksuffix=\"B\")\n",
    "fig.show()"
   ]
  },
  {
   "cell_type": "markdown",
   "metadata": {},
   "source": [
    "## Plot out (absolute)"
   ]
  },
  {
   "cell_type": "code",
   "execution_count": null,
   "metadata": {},
   "outputs": [],
   "source": [
    "import plotly.express as px\n",
    "import plotly.graph_objects as go\n",
    "\n",
    "fig = px.area(\n",
    "    dfs[\"est_daily\"],\n",
    "    x=\"timestamp\",\n",
    "    y=\"out\",\n",
    "    color=\"msg_type\",\n",
    "    title=\"Stacked Area Chart of net_size over Time by msg_type\",\n",
    "    labels={\"net_size\": \"Net Size\", \"hour_groups\": \"Time\", \"msg_type\": \"Message Type\"},\n",
    ")\n",
    "\n",
    "fig.add_trace(\n",
    "    go.Scatter(\n",
    "        x=dfs[\"emp_daily\"].index,\n",
    "        y=dfs[\"emp_daily\"][\"out\"],\n",
    "        mode=\"lines\",\n",
    "        name=\"emp_daily\",\n",
    "        line=dict(color=\"black\", width=2),\n",
    "    )\n",
    ")\n",
    "\n",
    "fig.update_layout(\n",
    "    xaxis_title=\"Time\",\n",
    "    yaxis_title=\"Net Size\",\n",
    "    legend_title=\"Message Type\",\n",
    "    legend=dict(\n",
    "        orientation=\"h\",\n",
    "        yanchor=\"bottom\",\n",
    "        y=1.02,\n",
    "    ),\n",
    ")\n",
    "fig.update_yaxes(tickformat=\".2s\", ticksuffix=\"B\")\n",
    "fig.show()"
   ]
  },
  {
   "cell_type": "markdown",
   "metadata": {},
   "source": [
    "## Out hourly (should peak near getrawaddrman?)"
   ]
  },
  {
   "cell_type": "code",
   "execution_count": null,
   "metadata": {},
   "outputs": [],
   "source": [
    "import plotly.express as px\n",
    "import plotly.graph_objects as go\n",
    "\n",
    "fig = px.area(\n",
    "    dfs[\"est_hourly\"],\n",
    "    x=\"timestamp\",\n",
    "    y=\"out\",\n",
    "    color=\"msg_type\",\n",
    "    title=\"Stacked Area Chart of net_size over Time by msg_type\",\n",
    "    labels={\"net_size\": \"Net Size\", \"hour_groups\": \"Time\", \"msg_type\": \"Message Type\"},\n",
    ")\n",
    "\n",
    "fig.add_trace(\n",
    "    go.Scatter(\n",
    "        x=dfs[\"emp_hourly\"].index,\n",
    "        y=dfs[\"emp_hourly\"][\"out\"],\n",
    "        mode=\"lines\",\n",
    "        name=\"emp_hourly\",\n",
    "        line=dict(color=\"black\", width=2),\n",
    "    )\n",
    ")\n",
    "\n",
    "fig.update_layout(\n",
    "    xaxis_title=\"Time\",\n",
    "    yaxis_title=\"Net Size\",\n",
    "    legend_title=\"Message Type\",\n",
    "    legend=dict(\n",
    "        orientation=\"h\",\n",
    "        yanchor=\"bottom\",\n",
    "        y=1.02,\n",
    "    ),\n",
    ")\n",
    "fig.update_yaxes(tickformat=\".2s\", ticksuffix=\"B\")\n",
    "fig.show()"
   ]
  }
 ],
 "metadata": {
  "kernelspec": {
   "display_name": "Python 3.10.7 64-bit",
   "language": "python",
   "name": "python3"
  },
  "language_info": {
   "codemirror_mode": {
    "name": "ipython",
    "version": 3
   },
   "file_extension": ".py",
   "mimetype": "text/x-python",
   "name": "python",
   "nbconvert_exporter": "python",
   "pygments_lexer": "ipython3",
   "version": "3.11.9"
  },
  "orig_nbformat": 4,
  "vscode": {
   "interpreter": {
    "hash": "b0fa6594d8f4cbf19f97940f81e996739fb7646882a419484c72d19e05852a7e"
   }
  }
 },
 "nbformat": 4,
 "nbformat_minor": 2
}
