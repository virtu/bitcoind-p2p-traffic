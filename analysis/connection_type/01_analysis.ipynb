{
 "cells": [
  {
   "cell_type": "markdown",
   "metadata": {},
   "source": [
    "### Load input data"
   ]
  },
  {
   "cell_type": "code",
   "execution_count": null,
   "metadata": {},
   "outputs": [],
   "source": [
    "import pandas as pd\n",
    "\n",
    "df_h = pd.read_csv(f\"data/data_hourly.csv.bz2\", index_col=0, parse_dates=True)\n",
    "df_d = pd.read_csv(f\"data/data_daily.csv.bz2\", index_col=0, parse_dates=True)"
   ]
  },
  {
   "cell_type": "markdown",
   "metadata": {},
   "source": [
    "## Breakdown of node traffic by connection type"
   ]
  },
  {
   "cell_type": "code",
   "execution_count": null,
   "metadata": {},
   "outputs": [],
   "source": [
    "import matplotlib.dates as mdates\n",
    "import matplotlib.pyplot as plt\n",
    "from matplotlib.ticker import EngFormatter\n",
    "\n",
    "df = df_d.copy()\n",
    "\n",
    "\n",
    "df_pivot = df.pivot_table(\n",
    "    index=df.index, columns=\"peer_conn_type\", values=\"net_size\", aggfunc=\"sum\"\n",
    ")\n",
    "\n",
    "df_pivot = df_pivot[[\"feeler\", \"block-relay-only\", \"outbound-full-relay\", \"inbound\"]]\n",
    "\n",
    "\n",
    "df_pivot = df_pivot.fillna(0)\n",
    "df_pivot = df_pivot.sort_index()\n",
    "x = df_pivot.index\n",
    "y = df_pivot.T.values\n",
    "labels = df_pivot.columns\n",
    "\n",
    "fig, ax = plt.subplots()\n",
    "fig.suptitle(\"Total traffic by connection type\")\n",
    "ax.set_title(\"Breakdown of daily node P2P TCP/IP traffic by connection type\")\n",
    "ax.stackplot(x, y, labels=labels)\n",
    "formatter = EngFormatter(unit=\"B\")\n",
    "ax.set_yscale(\"log\")\n",
    "ax.yaxis.set_major_formatter(formatter)\n",
    "ax.xaxis.set_major_locator(mdates.DayLocator(interval=3))\n",
    "ax.xaxis.set_major_formatter(mdates.DateFormatter(\"%b %d\"))\n",
    "ax.xaxis.set_minor_locator(mdates.DayLocator(interval=1))\n",
    "ax.legend(ncol=4, title=\"\")\n",
    "\n",
    "plt.tight_layout()\n",
    "plt.show()\n",
    "fig.savefig(\n",
    "    \"total_traffic_by_connection_type.png\",\n",
    "    dpi=300,\n",
    "    bbox_inches=\"tight\",\n",
    "    facecolor=\"white\",\n",
    ")"
   ]
  },
  {
   "cell_type": "markdown",
   "metadata": {},
   "source": [
    "## Plot daily contribution per connection type"
   ]
  },
  {
   "cell_type": "code",
   "execution_count": null,
   "metadata": {},
   "outputs": [],
   "source": [
    "DEFAULT_NUM_CONNECTIONS = {\n",
    "    \"feeler\": 1,\n",
    "    \"block-relay-only\": 2,\n",
    "    \"outbound-full-relay\": 8,\n",
    "    \"inbound\": 125 - (8 + 2),\n",
    "}\n",
    "\n",
    "df_per_conn = pd.DataFrame()\n",
    "fig, ax = plt.subplots()\n",
    "fig.suptitle(\"Per-connection traffic by connection type\")\n",
    "\n",
    "for col, num_conns in DEFAULT_NUM_CONNECTIONS.items():\n",
    "    df_per_conn[col] = df_pivot[col] / num_conns\n",
    "    ax.plot(df_per_conn.index, df_per_conn[col], label=col)\n",
    "\n",
    "\n",
    "ax.set_title(\"Daily TCP/IP traffic for a single connection by connection type\")\n",
    "ax.set_yscale(\"log\")\n",
    "formatter = EngFormatter(unit=\"B\")\n",
    "ax.yaxis.set_major_formatter(formatter)\n",
    "ax.xaxis.set_major_locator(mdates.DayLocator(interval=3))\n",
    "ax.xaxis.set_major_formatter(mdates.DateFormatter(\"%b %d\"))\n",
    "ax.xaxis.set_minor_locator(mdates.DayLocator(interval=1))\n",
    "ax.legend(ncol=4, title=\"\")\n",
    "\n",
    "plt.tight_layout()\n",
    "plt.show()\n",
    "fig.savefig(\n",
    "    \"per_connection_traffic_by_connection_type.png\",\n",
    "    dpi=300,\n",
    "    bbox_inches=\"tight\",\n",
    "    facecolor=\"white\",\n",
    ")"
   ]
  }
 ],
 "metadata": {
  "kernelspec": {
   "display_name": "Python 3.10.7 64-bit",
   "language": "python",
   "name": "python3"
  },
  "language_info": {
   "codemirror_mode": {
    "name": "ipython",
    "version": 3
   },
   "file_extension": ".py",
   "mimetype": "text/x-python",
   "name": "python",
   "nbconvert_exporter": "python",
   "pygments_lexer": "ipython3",
   "version": "3.11.9"
  },
  "vscode": {
   "interpreter": {
    "hash": "b0fa6594d8f4cbf19f97940f81e996739fb7646882a419484c72d19e05852a7e"
   }
  }
 },
 "nbformat": 4,
 "nbformat_minor": 2
}
