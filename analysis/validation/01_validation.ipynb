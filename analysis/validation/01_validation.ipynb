{
 "cells": [
  {
   "cell_type": "markdown",
   "metadata": {},
   "source": [
    "### Load input data"
   ]
  },
  {
   "cell_type": "code",
   "execution_count": null,
   "metadata": {},
   "outputs": [],
   "source": [
    "import pandas as pd\n",
    "\n",
    "data = [\"est_hourly\", \"est_daily\", \"emp_hourly\", \"emp_daily\"]\n",
    "dfs = {\n",
    "    name: pd.read_csv(f\"data/data_{name}.csv.bz2\", index_col=0, parse_dates=True)\n",
    "    for name in data\n",
    "}"
   ]
  },
  {
   "cell_type": "markdown",
   "metadata": {},
   "source": [
    "### Group message types with negligible contribution to network traffic into 'other' type\n",
    "\n",
    "- Add `inout` column, corresponding to the sum of the `in` and `out` flows\n",
    "- Group messages types whose maximum `inout` traffic contribution across the measurement period is below a certain threshold\n",
    "- Add normalized versions of the `in` and `out` columns"
   ]
  },
  {
   "cell_type": "code",
   "execution_count": null,
   "metadata": {},
   "outputs": [],
   "source": [
    "def recategorize_by_threshold(df_orig: pd.DataFrame, threshold: float) -> pd.DataFrame:\n",
    "    \"\"\"\n",
    "    1. Compute the maximum 'inout' value for each msg_type across the entire dataset.\n",
    "    2. Determine which msg_types exceed the threshold (keep_types).\n",
    "    3. For sub-threshold msg_types, group by 'timestamp' to sum 'in', 'out', and 'inout'.\n",
    "    4. Return a new DataFrame with columns [timestamp, msg_type, in, out, inout].\n",
    "    \"\"\"\n",
    "    max_inout_by_type = df.groupby(\"msg_type\")[\"inout\"].max()\n",
    "    keep_types = max_inout_by_type[max_inout_by_type > threshold].index\n",
    "    df_keep = df[df[\"msg_type\"].isin(keep_types)].copy()\n",
    "    df_other = df[~df[\"msg_type\"].isin(keep_types)].copy()\n",
    "    df_keep.reset_index(inplace=True)\n",
    "    df_other.reset_index(inplace=True)\n",
    "    df_other_agg = df_other.groupby(\"timestamp\", as_index=False)[\n",
    "        [\"in\", \"out\", \"inout\"]\n",
    "    ].sum()\n",
    "    df_other_agg[\"msg_type\"] = \"other\"\n",
    "    result_df = pd.concat([df_keep, df_other_agg], ignore_index=True)\n",
    "    result_df.sort_values(by=[\"timestamp\", \"msg_type\"], inplace=True)\n",
    "    return result_df[[\"timestamp\", \"msg_type\", \"in\", \"out\", \"inout\"]]\n",
    "\n",
    "\n",
    "thresholds = {\n",
    "    \"est_daily\": 50_000_000,\n",
    "    \"est_hourly\": 5_000_000,\n",
    "}\n",
    "\n",
    "for name, threshold in thresholds.items():\n",
    "    df = dfs[name]\n",
    "    df[\"inout\"] = df[\"in\"] + df[\"out\"]\n",
    "    df = recategorize_by_threshold(df, threshold)\n",
    "    df[\"in_norm\"] = df[\"in\"] / df[\"inout\"]\n",
    "    df[\"out_norm\"] = df[\"out\"] / df[\"inout\"]\n",
    "    dfs[name] = df\n",
    "\n",
    "dfs[\"emp_hourly\"][\"inout\"] = dfs[\"emp_hourly\"][\"in\"] + dfs[\"emp_hourly\"][\"out\"]\n",
    "dfs[\"emp_daily\"][\"inout\"] = dfs[\"emp_daily\"][\"in\"] + dfs[\"emp_daily\"][\"out\"]"
   ]
  },
  {
   "cell_type": "markdown",
   "metadata": {},
   "source": [
    "## Dates"
   ]
  },
  {
   "cell_type": "code",
   "execution_count": null,
   "metadata": {},
   "outputs": [],
   "source": [
    "IDB_RANGE = slice(\"2025-01-22\", \"2025-01-23\")\n",
    "NONLISTENING_RANGE = slice(\"2025-01-24\", \"2025-02-11\")\n",
    "LISTENING_RANGE = slice(\"2025-02-18\", None)"
   ]
  },
  {
   "cell_type": "code",
   "execution_count": null,
   "metadata": {},
   "outputs": [],
   "source": [
    "import numpy as np\n",
    "\n",
    "df_emp = dfs[\"emp_hourly\"][\"inout\"]\n",
    "df_emp.replace(0, np.nan, inplace=True)"
   ]
  },
  {
   "cell_type": "markdown",
   "metadata": {},
   "source": [
    "# Validation"
   ]
  },
  {
   "cell_type": "markdown",
   "metadata": {},
   "source": [
    "### Hourly (including IBD)"
   ]
  },
  {
   "cell_type": "code",
   "execution_count": null,
   "metadata": {},
   "outputs": [],
   "source": [
    "import matplotlib.dates as mdates\n",
    "import matplotlib.pyplot as plt\n",
    "from matplotlib.ticker import EngFormatter\n",
    "import seaborn as sns\n",
    "\n",
    "\n",
    "df_pivot = (\n",
    "    dfs[\"est_hourly\"]\n",
    "    .pivot(index=\"timestamp\", columns=\"msg_type\", values=\"inout\")\n",
    "    .fillna(0)\n",
    ")\n",
    "df_emp = dfs[\"emp_hourly\"][\"inout\"]\n",
    "df_emp.replace(0, np.nan, inplace=True)\n",
    "\n",
    "fig, ax = plt.subplots()\n",
    "\n",
    "msg_types = df_pivot.columns\n",
    "cols = list(df_pivot.columns)\n",
    "cols.remove(\"block\")  # Remove 'block' from its current position\n",
    "cols.append(\"block\")  # Append 'block' at the end\n",
    "df_pivot = df_pivot[cols]\n",
    "colors = sns.color_palette(\"Spectral\", len(msg_types))\n",
    "colors = {msg_type: color for msg_type, color in zip(cols, colors)}\n",
    "\n",
    "ax.stackplot(\n",
    "    df_pivot.index,\n",
    "    *[df_pivot[col] for col in df_pivot.columns],\n",
    "    labels=df_pivot.columns,\n",
    "    colors=[colors[col] for col in df_pivot.columns],\n",
    ")\n",
    "ax.plot(\n",
    "    df_emp,\n",
    "    color=\"black\",\n",
    "    linewidth=2,\n",
    "    label=\"IP accounting\",\n",
    ")\n",
    "\n",
    "fig.suptitle(\"Traffic estimate validation\")\n",
    "ax.set_title(\"Hourly tracepoint-based traffic estimates vs. systemd IP accounting data\")\n",
    "ax.set_ylabel(\"TCP/IP Traffic\")\n",
    "ax.legend(ncol=5, title=\"\")\n",
    "ax.set_yscale(\"log\")\n",
    "ax.set_ylim(ymax=999 * 10**9)\n",
    "formatter = EngFormatter(unit=\"B\")\n",
    "ax.yaxis.set_major_formatter(formatter)\n",
    "ax.xaxis.set_major_locator(mdates.DayLocator(interval=3))\n",
    "ax.xaxis.set_major_formatter(mdates.DateFormatter(\"%b %d\"))\n",
    "ax.xaxis.set_minor_locator(mdates.DayLocator(interval=1))\n",
    "\n",
    "plt.tight_layout()\n",
    "plt.show()\n",
    "fig.savefig(\n",
    "    \"validation-hourly+all+logscale.png\",\n",
    "    dpi=300,\n",
    "    bbox_inches=\"tight\",\n",
    "    facecolor=\"white\",\n",
    ")"
   ]
  },
  {
   "cell_type": "markdown",
   "metadata": {},
   "source": [
    "## Daily and hourly validation (excluding IBD and listening stages)"
   ]
  },
  {
   "cell_type": "code",
   "execution_count": null,
   "metadata": {},
   "outputs": [],
   "source": [
    "fig, ax = plt.subplots(1, 2, figsize=(15, 6))\n",
    "fig.suptitle(\"Traffic estimate validation\")\n",
    "\n",
    "# left plot: daily data\n",
    "resolution = \"daily\"\n",
    "direction = \"inout\"\n",
    "\n",
    "df_pivot = (\n",
    "    dfs[f\"est_{resolution}\"]\n",
    "    .pivot(index=\"timestamp\", columns=\"msg_type\", values=direction)\n",
    "    .fillna(0)\n",
    ")\n",
    "df_emp = dfs[f\"emp_{resolution}\"][direction]\n",
    "df_emp.replace(0, np.nan, inplace=True)\n",
    "\n",
    "# non-listening phase\n",
    "df_pivot = df_pivot[NONLISTENING_RANGE]\n",
    "df_emp = df_emp[NONLISTENING_RANGE]\n",
    "df_pivot = df_pivot[[col for col in df_pivot.columns if col != \"block\"]]\n",
    "\n",
    "# plot estimates\n",
    "ax[0].stackplot(\n",
    "    df_pivot.index,\n",
    "    *[df_pivot[col] for col in df_pivot.columns],\n",
    "    labels=df_pivot.columns,\n",
    "    colors=[colors[col] for col in df_pivot.columns],\n",
    ")\n",
    "\n",
    "# plot empirical data\n",
    "ax[0].plot(df_emp, color=\"black\", linewidth=2, label=\"IP accounting\")\n",
    "\n",
    "# right plot: hourly data\n",
    "resolution = \"hourly\"\n",
    "direction = \"inout\"\n",
    "\n",
    "df_pivot = (\n",
    "    dfs[f\"est_{resolution}\"]\n",
    "    .pivot(index=\"timestamp\", columns=\"msg_type\", values=direction)\n",
    "    .fillna(0)\n",
    ")\n",
    "df_emp = dfs[f\"emp_{resolution}\"][direction]\n",
    "df_emp.replace(0, np.nan, inplace=True)\n",
    "\n",
    "# non-listening phase\n",
    "df_pivot = df_pivot[NONLISTENING_RANGE]\n",
    "df_emp = df_emp[NONLISTENING_RANGE]\n",
    "df_pivot = df_pivot[[col for col in df_pivot.columns if col != \"block\"]]\n",
    "\n",
    "# plot estimates\n",
    "ax[1].stackplot(\n",
    "    df_pivot.index,\n",
    "    *[df_pivot[col] for col in df_pivot.columns],\n",
    "    labels=df_pivot.columns,\n",
    "    colors=[colors[col] for col in df_pivot.columns],\n",
    ")\n",
    "\n",
    "# plot empirical data\n",
    "ax[1].plot(df_emp, color=\"black\", linewidth=2, label=\"IP accounting\")\n",
    "\n",
    "#\n",
    "# plot styling\n",
    "#\n",
    "ax[0].set_title(\n",
    "    \"Daily (left) and hourly (right) TCP/IP traffic estimates vs. measurements\"\n",
    ")\n",
    "formatter = EngFormatter(unit=\"B\")\n",
    "ax[0].legend(ncol=4, title=\"\")\n",
    "ax[0].yaxis.set_major_formatter(formatter)\n",
    "ax[0].xaxis.set_major_locator(mdates.DayLocator(interval=4))\n",
    "ax[0].xaxis.set_major_formatter(mdates.DateFormatter(\"%b %d\"))\n",
    "ax[0].xaxis.set_minor_locator(mdates.DayLocator(interval=1))\n",
    "ax[0].set_ylim(0, 799 * 10**6)\n",
    "ax[1].set_ylim(0, 79 * 10**6)\n",
    "ax[1].yaxis.set_major_formatter(formatter)\n",
    "ax[1].xaxis.set_major_locator(mdates.DayLocator(interval=4))\n",
    "ax[1].xaxis.set_major_formatter(mdates.DateFormatter(\"%b %d\"))\n",
    "ax[1].xaxis.set_minor_locator(mdates.DayLocator(interval=1))\n",
    "\n",
    "\n",
    "plt.tight_layout()\n",
    "plt.show()\n",
    "fig.savefig(\n",
    "    f\"validation-non-listening.png\",\n",
    "    dpi=300,\n",
    "    bbox_inches=\"tight\",\n",
    "    facecolor=\"white\",\n",
    ")"
   ]
  }
 ],
 "metadata": {
  "kernelspec": {
   "display_name": "Python 3.10.7 64-bit",
   "language": "python",
   "name": "python3"
  },
  "language_info": {
   "codemirror_mode": {
    "name": "ipython",
    "version": 3
   },
   "file_extension": ".py",
   "mimetype": "text/x-python",
   "name": "python",
   "nbconvert_exporter": "python",
   "pygments_lexer": "ipython3",
   "version": "3.11.9"
  },
  "vscode": {
   "interpreter": {
    "hash": "b0fa6594d8f4cbf19f97940f81e996739fb7646882a419484c72d19e05852a7e"
   }
  }
 },
 "nbformat": 4,
 "nbformat_minor": 2
}
