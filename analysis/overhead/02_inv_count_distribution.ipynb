{
 "cells": [
  {
   "cell_type": "markdown",
   "metadata": {},
   "source": [
    "# Extract\n",
    "\n",
    "Load input data"
   ]
  },
  {
   "cell_type": "code",
   "execution_count": null,
   "metadata": {},
   "outputs": [],
   "source": [
    "import os\n",
    "import glob\n",
    "import pandas as pd\n",
    "\n",
    "SOURCE_HOST = \"tau\"\n",
    "\n",
    "\n",
    "def read_csvs(directory: str) -> pd.DataFrame:\n",
    "    files = sorted(glob.glob(os.path.join(directory, \"*.csv\")))\n",
    "    df_list = [pd.read_csv(file, index_col=0, parse_dates=True) for file in files]\n",
    "    return pd.concat(df_list).sort_index()\n",
    "\n",
    "\n",
    "df = read_csvs(f\"../../input_data/{SOURCE_HOST}/tracepoints/net/\")"
   ]
  },
  {
   "cell_type": "markdown",
   "metadata": {},
   "source": [
    "# Analysis"
   ]
  },
  {
   "cell_type": "markdown",
   "metadata": {},
   "source": [
    "### Histogram of INV message sizes"
   ]
  },
  {
   "cell_type": "code",
   "execution_count": null,
   "metadata": {},
   "outputs": [],
   "source": [
    "# create a histogram of INV message sizes\n",
    "df_inv = df[df[\"msg_type\"] == \"inv\"].copy()\n",
    "df_inv[\"num_inv\"] = (df_inv[\"size\"] - 1) / (32 + 4)\n",
    "assert (\n",
    "    df_inv[\"num_inv\"].apply(lambda x: float(x).is_integer()).all()\n",
    "), \"Some values in 'num_inv' are not integers\"\n",
    "df_inv[\"num_inv\"] = df_inv[\"num_inv\"].astype(int)\n",
    "\n",
    "df_inv[\"num_inv\"].hist(bins=100)"
   ]
  },
  {
   "cell_type": "code",
   "execution_count": null,
   "metadata": {},
   "outputs": [],
   "source": [
    "import matplotlib.pyplot as plt\n",
    "\n",
    "# df_inv\n",
    "grouped_sizes = df_inv.groupby(\"num_inv\")[\"size\"].sum()\n",
    "grouped_sizes\n",
    "grouped_sizes.plot.pie(\n",
    "    autopct=\"%1.1f%%\", figsize=(8, 8), title=\"Share of Size by num_inv\"\n",
    ")\n",
    "plt.ylabel(\"\")  # Rdemove the default ylabel\n",
    "plt.show()"
   ]
  }
 ],
 "metadata": {
  "kernelspec": {
   "display_name": "Python 3.10.7 64-bit",
   "language": "python",
   "name": "python3"
  },
  "language_info": {
   "codemirror_mode": {
    "name": "ipython",
    "version": 3
   },
   "file_extension": ".py",
   "mimetype": "text/x-python",
   "name": "python",
   "nbconvert_exporter": "python",
   "pygments_lexer": "ipython3",
   "version": "3.11.9"
  },
  "vscode": {
   "interpreter": {
    "hash": "b0fa6594d8f4cbf19f97940f81e996739fb7646882a419484c72d19e05852a7e"
   }
  }
 },
 "nbformat": 4,
 "nbformat_minor": 2
}
