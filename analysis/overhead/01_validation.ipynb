{
 "cells": [
  {
   "cell_type": "markdown",
   "metadata": {},
   "source": [
    "### Load input data"
   ]
  },
  {
   "cell_type": "code",
   "execution_count": null,
   "metadata": {},
   "outputs": [],
   "source": [
    "import pandas as pd\n",
    "\n",
    "df_h = pd.read_csv(\"data/data_est_hourly.csv.bz2\", index_col=0, parse_dates=True)\n",
    "df_d = pd.read_csv(\"data/data_est_daily.csv.bz2\", index_col=0, parse_dates=True)\n",
    "\n",
    "for df in [df_h, df_d]:\n",
    "    df[\"message_overhead\"] = df[\"message_size\"] - df[\"payload_size\"]\n",
    "    df[\"tcpip_overhead\"] = df[\"tcpip_size\"] - df[\"message_size\"]"
   ]
  },
  {
   "cell_type": "markdown",
   "metadata": {},
   "source": [
    "# Analysis\n",
    "\n",
    "- [x] Function to plot absolute traffic\n",
    "- [ ] Function to plot relative traffic (not needed I think)\n",
    "- [x] Plot all message types"
   ]
  },
  {
   "cell_type": "markdown",
   "metadata": {},
   "source": [
    "### Plotting function"
   ]
  },
  {
   "cell_type": "code",
   "execution_count": null,
   "metadata": {},
   "outputs": [],
   "source": [
    "import matplotlib.pyplot as plt\n",
    "import matplotlib.dates as mdates\n",
    "from matplotlib.ticker import EngFormatter\n",
    "\n",
    "\n",
    "def plot_type(df, msg_type, how=\"absolute\"):\n",
    "    \"\"\"Plot a stacked area chart for a given message type.\"\"\"\n",
    "\n",
    "    df_msg_type = df[df[\"msg_type\"] == msg_type] if msg_type != \"all\" else df\n",
    "    df_grouped = df_msg_type.groupby(df_msg_type.index).sum()\n",
    "\n",
    "    timestamps = df_grouped.index\n",
    "    payload = df_grouped[\"payload_size\"].values\n",
    "    message = df_grouped[\"message_overhead\"].values\n",
    "    tcpip = df_grouped[\"tcpip_overhead\"].values\n",
    "\n",
    "    fig, ax = plt.subplots()\n",
    "\n",
    "    ax.stackplot(\n",
    "        timestamps,\n",
    "        payload,\n",
    "        message,\n",
    "        tcpip,\n",
    "        labels=[\"payload\", \"P2P protocol overhead\", \"TCP/IP overhead\"],\n",
    "    )\n",
    "\n",
    "    fig.suptitle(f\"{msg_type.upper()} messages\")\n",
    "    ax.set_title(\"Daily P2P traffic breakdown into payload and overhead\")\n",
    "    ax.legend(loc=\"upper left\", title=\"\")\n",
    "    formatter = EngFormatter(unit=\"B\")\n",
    "    ax.yaxis.set_major_formatter(formatter)\n",
    "    ax.xaxis.set_major_locator(mdates.DayLocator(interval=3))\n",
    "    ax.xaxis.set_major_formatter(mdates.DateFormatter(\"%b %d\"))\n",
    "\n",
    "    plt.show()\n",
    "    fig.savefig(\n",
    "        f\"breakdown-{msg_type}-{how}\", dpi=300, bbox_inches=\"tight\", facecolor=\"white\"\n",
    "    )"
   ]
  },
  {
   "cell_type": "code",
   "execution_count": null,
   "metadata": {},
   "outputs": [],
   "source": [
    "message_types = df_d[\"msg_type\"].unique()\n",
    "df_d\n",
    "\n",
    "plot_type(df_d[\"2025-01-24\":], \"all\")\n",
    "\n",
    "for msg_type in message_types:\n",
    "    plot_type(df_d, msg_type)"
   ]
  }
 ],
 "metadata": {
  "kernelspec": {
   "display_name": "Python 3.10.7 64-bit",
   "language": "python",
   "name": "python3"
  },
  "language_info": {
   "codemirror_mode": {
    "name": "ipython",
    "version": 3
   },
   "file_extension": ".py",
   "mimetype": "text/x-python",
   "name": "python",
   "nbconvert_exporter": "python",
   "pygments_lexer": "ipython3",
   "version": "3.11.9"
  },
  "vscode": {
   "interpreter": {
    "hash": "b0fa6594d8f4cbf19f97940f81e996739fb7646882a419484c72d19e05852a7e"
   }
  }
 },
 "nbformat": 4,
 "nbformat_minor": 2
}
