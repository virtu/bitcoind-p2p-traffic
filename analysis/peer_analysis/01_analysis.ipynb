{
 "cells": [
  {
   "cell_type": "markdown",
   "metadata": {},
   "source": [
    "## Load input data"
   ]
  },
  {
   "cell_type": "code",
   "execution_count": null,
   "metadata": {},
   "outputs": [],
   "source": [
    "import pandas as pd\n",
    "\n",
    "df_map = pd.read_csv(f\"data/id-addr-mapping.csv.bz2\", index_col=0)\n",
    "\n",
    "df_d = pd.read_csv(\n",
    "    f\"data/data_daily.csv.bz2\", index_col=0, parse_dates=True\n",
    ").reset_index()\n",
    "df_d = df_d.merge(df_map, on=[\"peer_id\", \"peer_addr\"], how=\"left\").set_index(\n",
    "    \"timestamp\"\n",
    ")\n",
    "\n",
    "df_h = pd.read_csv(\n",
    "    f\"data/data_hourly.csv.bz2\", index_col=0, parse_dates=True\n",
    ").reset_index()\n",
    "df_h = df_h.merge(df_map, on=[\"peer_id\", \"peer_addr\"], how=\"left\").set_index(\n",
    "    \"timestamp\"\n",
    ")"
   ]
  },
  {
   "cell_type": "markdown",
   "metadata": {},
   "source": [
    "# Peer traffic"
   ]
  },
  {
   "cell_type": "code",
   "execution_count": null,
   "metadata": {},
   "outputs": [],
   "source": [
    "import pandas as pd\n",
    "import seaborn as sns\n",
    "import matplotlib.dates as mdates\n",
    "from matplotlib.ticker import EngFormatter\n",
    "import matplotlib.pyplot as plt\n",
    "\n",
    "df = df_d.copy()\n",
    "df = df.reset_index()\n",
    "df[\"connection_time\"] = pd.to_timedelta(df[\"connection_time\"])\n",
    "\n",
    "# retain only those where connection time is larger than one hour\n",
    "df = df[df[\"connection_time\"].dt.total_seconds() > (60 * 60)]\n",
    "\n",
    "df[\"date\"] = pd.to_datetime(df[\"timestamp\"]).dt.date\n",
    "df[\"peer_key\"] = df[\"peer_id\"].astype(str) + \"-\" + df[\"peer_addr\"]\n",
    "daily_traffic = df.groupby([\"date\", \"peer_key\"])[\"tcpip_size\"].sum().reset_index()\n",
    "peer_conn = df[[\"peer_key\", \"peer_conn_type\"]].drop_duplicates(subset=\"peer_key\")\n",
    "daily_traffic = daily_traffic.merge(peer_conn, on=\"peer_key\", how=\"left\")\n",
    "\n",
    "fig, ax = plt.subplots()\n",
    "fig.suptitle(\"Daily peer traffic\")\n",
    "ax.set_title(\n",
    "    \"Daily TCP/IP traffic broken down by individual peers and their connection type\"\n",
    ")\n",
    "\n",
    "sns.stripplot(\n",
    "    data=daily_traffic,\n",
    "    x=\"date\",\n",
    "    y=\"tcpip_size\",\n",
    "    hue=\"peer_conn_type\",\n",
    "    jitter=True,\n",
    "    ax=ax,\n",
    "    size=3,\n",
    ")\n",
    "\n",
    "ax.set_yscale(\"log\")\n",
    "ax.set_ylabel(None)\n",
    "ax.set_xlabel(None)\n",
    "ax.set_ylim(10 * 10**3, 400 * 10**9)\n",
    "formatter = EngFormatter(unit=\"B\")\n",
    "ax.yaxis.set_major_formatter(formatter)\n",
    "ax.legend(ncol=4, title=\"\")\n",
    "ax.xaxis.set_major_locator(mdates.DayLocator(interval=3))\n",
    "ax.xaxis.set_major_formatter(mdates.DateFormatter(\"%b %d\"))\n",
    "ax.xaxis.set_minor_locator(mdates.DayLocator(interval=1))\n",
    "\n",
    "plt.tight_layout()\n",
    "plt.show()\n",
    "fig.savefig(f\"daily-peer-traffic.png\", dpi=300, bbox_inches=\"tight\", facecolor=\"white\")"
   ]
  },
  {
   "cell_type": "markdown",
   "metadata": {},
   "source": [
    "## Inbound peer message share"
   ]
  },
  {
   "cell_type": "code",
   "execution_count": null,
   "metadata": {},
   "outputs": [],
   "source": [
    "import matplotlib.pyplot as plt\n",
    "from matplotlib.ticker import PercentFormatter\n",
    "import seaborn as sns\n",
    "\n",
    "df = df_d.copy()\n",
    "\n",
    "# select only data received by inbound connections connected for at least one hour\n",
    "df = df[\n",
    "    (df[\"peer_conn_type\"] == \"inbound\")\n",
    "    & (df[\"flow\"] == \"in\")\n",
    "    & (pd.to_timedelta(df[\"connection_time\"]) >= pd.Timedelta(hours=1))\n",
    "].copy()\n",
    "\n",
    "# compute shares\n",
    "grp = (\n",
    "    df.groupby([\"peer_id\", \"peer_addr\", \"msg_type\"])[\"tcpip_size\"]\n",
    "    .sum()\n",
    "    .unstack(fill_value=0)\n",
    ")\n",
    "peer_total = grp.sum(axis=1)\n",
    "for msg in grp.columns:\n",
    "    grp[msg + \"_share\"] = grp[msg] / peer_total\n",
    "\n",
    "\n",
    "# plot\n",
    "df_sorted = grp.sort_values(by=[\"pong_share\", \"ping_share\"], ascending=False)\n",
    "share_cols = [col for col in df_sorted.columns if col.endswith(\"_share\")]\n",
    "df_shares = df_sorted[share_cols].reset_index(drop=True)\n",
    "valid_cols = [col for col in df_shares.columns if df_shares[col].max() > 0.01]\n",
    "df_shares = df_shares[valid_cols]\n",
    "\n",
    "cmap = plt.get_cmap(\"tab20\")\n",
    "n_colors = len(valid_cols)\n",
    "colors = [cmap((i % 20) / 19.0) for i in range(n_colors)]\n",
    "\n",
    "\n",
    "fig, ax = plt.subplots()\n",
    "fig.suptitle(\"Peer message analysis\")\n",
    "ax.set_title(\"Peer share of total traffic by message\")\n",
    "ax.stackplot(\n",
    "    df_shares.index,\n",
    "    *[df_shares[col] for col in df_shares.columns],\n",
    "    labels=df_shares.columns,\n",
    "    colors=colors,\n",
    ")\n",
    "ax.legend(ncol=6, title=\"\", fontsize=10)\n",
    "\n",
    "ax.set_ylabel(None)\n",
    "ax.set_xlabel(None)\n",
    "ax.set_ylim(0, 1.09)\n",
    "ax.yaxis.set_major_formatter(PercentFormatter(xmax=1))\n",
    "ax.xaxis.set_major_locator(plt.NullLocator())\n",
    "\n",
    "plt.tight_layout()\n",
    "plt.show()\n",
    "fig.savefig(\n",
    "    f\"peer-message-analysis.png\", dpi=300, bbox_inches=\"tight\", facecolor=\"white\"\n",
    ")"
   ]
  },
  {
   "cell_type": "markdown",
   "metadata": {},
   "source": [
    "## Inspect suspicious peers"
   ]
  },
  {
   "cell_type": "code",
   "execution_count": null,
   "metadata": {},
   "outputs": [],
   "source": [
    "df_susp = df_sorted[df_sorted[\"pong_share\"] > 0.5].reset_index()\n",
    "df_susp[\"peer_ip\"] = df_susp[\"peer_addr\"].apply(\n",
    "    lambda x: x.split(\"[\")[1].split(\"]\")[0] if \"[\" in x else x.split(\":\")[0]\n",
    ")\n",
    "df_susp[\"peer_ip\"].value_counts().head(15)"
   ]
  }
 ],
 "metadata": {
  "kernelspec": {
   "display_name": "Python 3.10.7 64-bit",
   "language": "python",
   "name": "python3"
  },
  "language_info": {
   "codemirror_mode": {
    "name": "ipython",
    "version": 3
   },
   "file_extension": ".py",
   "mimetype": "text/x-python",
   "name": "python",
   "nbconvert_exporter": "python",
   "pygments_lexer": "ipython3",
   "version": "3.11.9"
  },
  "vscode": {
   "interpreter": {
    "hash": "b0fa6594d8f4cbf19f97940f81e996739fb7646882a419484c72d19e05852a7e"
   }
  }
 },
 "nbformat": 4,
 "nbformat_minor": 2
}
